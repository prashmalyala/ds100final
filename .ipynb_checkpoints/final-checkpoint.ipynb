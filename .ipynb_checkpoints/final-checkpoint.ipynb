{
 "cells": [
  {
   "cell_type": "markdown",
   "metadata": {},
   "source": [
    "# DS 100 Final Project: A Basketball Analysis"
   ]
  },
  {
   "cell_type": "markdown",
   "metadata": {},
   "source": [
    "## Given 2 teams' average statistics before a game, how well can we predict who wins?"
   ]
  },
  {
   "cell_type": "markdown",
   "metadata": {},
   "source": [
    "### Creators: Alec Zhou, Prashant Malyala"
   ]
  },
  {
   "cell_type": "markdown",
   "metadata": {},
   "source": [
    "## I. This Project"
   ]
  },
  {
   "cell_type": "markdown",
   "metadata": {},
   "source": [
    "[Insert description of project here]"
   ]
  },
  {
   "cell_type": "markdown",
   "metadata": {},
   "source": [
    "## II. Set Up"
   ]
  },
  {
   "cell_type": "markdown",
   "metadata": {},
   "source": [
    "Below, we will import the necessary libraries for our data analysis."
   ]
  },
  {
   "cell_type": "code",
   "execution_count": 119,
   "metadata": {},
   "outputs": [],
   "source": [
    "import numpy as np\n",
    "import pandas as pd\n",
    "import matplotlib.pyplot as plt\n",
    "import seaborn as sns\n",
    "import sklearn\n",
    "from sklearn import ensemble\n",
    "from datetime import datetime\n",
    "from datetime import date"
   ]
  },
  {
   "cell_type": "markdown",
   "metadata": {},
   "source": [
    "Now, we'll read in the relevant basketball data."
   ]
  },
  {
   "cell_type": "code",
   "execution_count": 2,
   "metadata": {},
   "outputs": [],
   "source": [
    "#from the provided ds100 dataset\n",
    "team_box_score = pd.read_csv('basketball/Basketball-TeamBoxScores.csv')\n",
    "standings = pd.read_csv('basketball/Standings.csv')"
   ]
  },
  {
   "cell_type": "markdown",
   "metadata": {},
   "source": [
    "## III. Data Preview"
   ]
  },
  {
   "cell_type": "markdown",
   "metadata": {},
   "source": [
    "Let's briefly see what our data looks like."
   ]
  },
  {
   "cell_type": "markdown",
   "metadata": {},
   "source": [
    "### i. Standings Data:"
   ]
  },
  {
   "cell_type": "markdown",
   "metadata": {},
   "source": [
    "The granularity of this data is quite fine; it seems that the Standings table has a record representing each team's standing at every date of the season (after the games on that date occur). The columns are rollups and seem to represent aggregate statistics (such as total points scored, current streak, etc.) through each date for each team."
   ]
  },
  {
   "cell_type": "code",
   "execution_count": 3,
   "metadata": {},
   "outputs": [
    {
     "data": {
      "text/html": [
       "<div>\n",
       "<style scoped>\n",
       "    .dataframe tbody tr th:only-of-type {\n",
       "        vertical-align: middle;\n",
       "    }\n",
       "\n",
       "    .dataframe tbody tr th {\n",
       "        vertical-align: top;\n",
       "    }\n",
       "\n",
       "    .dataframe thead th {\n",
       "        text-align: right;\n",
       "    }\n",
       "</style>\n",
       "<table border=\"1\" class=\"dataframe\">\n",
       "  <thead>\n",
       "    <tr style=\"text-align: right;\">\n",
       "      <th></th>\n",
       "      <th>stDate</th>\n",
       "      <th>teamAbbr</th>\n",
       "      <th>rank</th>\n",
       "      <th>rankOrd</th>\n",
       "      <th>gameWon</th>\n",
       "      <th>gameLost</th>\n",
       "      <th>stk</th>\n",
       "      <th>stkType</th>\n",
       "      <th>stkTot</th>\n",
       "      <th>gameBack</th>\n",
       "      <th>...</th>\n",
       "      <th>rel%Indx</th>\n",
       "      <th>mov</th>\n",
       "      <th>srs</th>\n",
       "      <th>pw%</th>\n",
       "      <th>pyth%13.91</th>\n",
       "      <th>wpyth13.91</th>\n",
       "      <th>lpyth13.91</th>\n",
       "      <th>pyth%16.5</th>\n",
       "      <th>wpyth16.5</th>\n",
       "      <th>lpyth16.5</th>\n",
       "    </tr>\n",
       "  </thead>\n",
       "  <tbody>\n",
       "    <tr>\n",
       "      <th>0</th>\n",
       "      <td>2012-10-30</td>\n",
       "      <td>ATL</td>\n",
       "      <td>3</td>\n",
       "      <td>3rd</td>\n",
       "      <td>0</td>\n",
       "      <td>0</td>\n",
       "      <td>-</td>\n",
       "      <td>-</td>\n",
       "      <td>0</td>\n",
       "      <td>0.5</td>\n",
       "      <td>...</td>\n",
       "      <td>0.0</td>\n",
       "      <td>0.0</td>\n",
       "      <td>0.0</td>\n",
       "      <td>0.500</td>\n",
       "      <td>0.0000</td>\n",
       "      <td>0.0000</td>\n",
       "      <td>82.0000</td>\n",
       "      <td>0.000</td>\n",
       "      <td>0.000</td>\n",
       "      <td>82.000</td>\n",
       "    </tr>\n",
       "    <tr>\n",
       "      <th>1</th>\n",
       "      <td>2012-10-30</td>\n",
       "      <td>BKN</td>\n",
       "      <td>3</td>\n",
       "      <td>3rd</td>\n",
       "      <td>0</td>\n",
       "      <td>0</td>\n",
       "      <td>-</td>\n",
       "      <td>-</td>\n",
       "      <td>0</td>\n",
       "      <td>0.5</td>\n",
       "      <td>...</td>\n",
       "      <td>0.0</td>\n",
       "      <td>0.0</td>\n",
       "      <td>0.0</td>\n",
       "      <td>0.500</td>\n",
       "      <td>0.0000</td>\n",
       "      <td>0.0000</td>\n",
       "      <td>82.0000</td>\n",
       "      <td>0.000</td>\n",
       "      <td>0.000</td>\n",
       "      <td>82.000</td>\n",
       "    </tr>\n",
       "    <tr>\n",
       "      <th>2</th>\n",
       "      <td>2012-10-30</td>\n",
       "      <td>BOS</td>\n",
       "      <td>14</td>\n",
       "      <td>14th</td>\n",
       "      <td>0</td>\n",
       "      <td>1</td>\n",
       "      <td>L1</td>\n",
       "      <td>loss</td>\n",
       "      <td>1</td>\n",
       "      <td>1.0</td>\n",
       "      <td>...</td>\n",
       "      <td>0.0</td>\n",
       "      <td>-13.0</td>\n",
       "      <td>-13.0</td>\n",
       "      <td>0.072</td>\n",
       "      <td>0.1687</td>\n",
       "      <td>13.8334</td>\n",
       "      <td>68.1666</td>\n",
       "      <td>0.131</td>\n",
       "      <td>10.742</td>\n",
       "      <td>71.258</td>\n",
       "    </tr>\n",
       "    <tr>\n",
       "      <th>3</th>\n",
       "      <td>2012-10-30</td>\n",
       "      <td>CHA</td>\n",
       "      <td>3</td>\n",
       "      <td>3rd</td>\n",
       "      <td>0</td>\n",
       "      <td>0</td>\n",
       "      <td>-</td>\n",
       "      <td>-</td>\n",
       "      <td>0</td>\n",
       "      <td>0.5</td>\n",
       "      <td>...</td>\n",
       "      <td>0.0</td>\n",
       "      <td>0.0</td>\n",
       "      <td>0.0</td>\n",
       "      <td>0.500</td>\n",
       "      <td>0.0000</td>\n",
       "      <td>0.0000</td>\n",
       "      <td>82.0000</td>\n",
       "      <td>0.000</td>\n",
       "      <td>0.000</td>\n",
       "      <td>82.000</td>\n",
       "    </tr>\n",
       "    <tr>\n",
       "      <th>4</th>\n",
       "      <td>2012-10-30</td>\n",
       "      <td>CHI</td>\n",
       "      <td>3</td>\n",
       "      <td>3rd</td>\n",
       "      <td>0</td>\n",
       "      <td>0</td>\n",
       "      <td>-</td>\n",
       "      <td>-</td>\n",
       "      <td>0</td>\n",
       "      <td>0.5</td>\n",
       "      <td>...</td>\n",
       "      <td>0.0</td>\n",
       "      <td>0.0</td>\n",
       "      <td>0.0</td>\n",
       "      <td>0.500</td>\n",
       "      <td>0.0000</td>\n",
       "      <td>0.0000</td>\n",
       "      <td>82.0000</td>\n",
       "      <td>0.000</td>\n",
       "      <td>0.000</td>\n",
       "      <td>82.000</td>\n",
       "    </tr>\n",
       "  </tbody>\n",
       "</table>\n",
       "<p>5 rows × 39 columns</p>\n",
       "</div>"
      ],
      "text/plain": [
       "       stDate teamAbbr  rank rankOrd  gameWon  gameLost stk stkType  stkTot  \\\n",
       "0  2012-10-30      ATL     3     3rd        0         0   -       -       0   \n",
       "1  2012-10-30      BKN     3     3rd        0         0   -       -       0   \n",
       "2  2012-10-30      BOS    14    14th        0         1  L1    loss       1   \n",
       "3  2012-10-30      CHA     3     3rd        0         0   -       -       0   \n",
       "4  2012-10-30      CHI     3     3rd        0         0   -       -       0   \n",
       "\n",
       "   gameBack  ...  rel%Indx   mov   srs    pw%  pyth%13.91  wpyth13.91  \\\n",
       "0       0.5  ...       0.0   0.0   0.0  0.500      0.0000      0.0000   \n",
       "1       0.5  ...       0.0   0.0   0.0  0.500      0.0000      0.0000   \n",
       "2       1.0  ...       0.0 -13.0 -13.0  0.072      0.1687     13.8334   \n",
       "3       0.5  ...       0.0   0.0   0.0  0.500      0.0000      0.0000   \n",
       "4       0.5  ...       0.0   0.0   0.0  0.500      0.0000      0.0000   \n",
       "\n",
       "   lpyth13.91  pyth%16.5  wpyth16.5  lpyth16.5  \n",
       "0     82.0000      0.000      0.000     82.000  \n",
       "1     82.0000      0.000      0.000     82.000  \n",
       "2     68.1666      0.131     10.742     71.258  \n",
       "3     82.0000      0.000      0.000     82.000  \n",
       "4     82.0000      0.000      0.000     82.000  \n",
       "\n",
       "[5 rows x 39 columns]"
      ]
     },
     "execution_count": 3,
     "metadata": {},
     "output_type": "execute_result"
    }
   ],
   "source": [
    "standings.head(5)"
   ]
  },
  {
   "cell_type": "code",
   "execution_count": 4,
   "metadata": {},
   "outputs": [
    {
     "data": {
      "text/plain": [
       "30"
      ]
     },
     "execution_count": 4,
     "metadata": {},
     "output_type": "execute_result"
    }
   ],
   "source": [
    "#all 30 teams are listed on this date even though not all of them played; must be a full date by date record\n",
    "len(standings[standings['stDate'] == '2012-10-30'])"
   ]
  },
  {
   "cell_type": "markdown",
   "metadata": {},
   "source": [
    "### ii. Team Box Score Data:"
   ]
  },
  {
   "cell_type": "markdown",
   "metadata": {},
   "source": [
    "The granularity of the team box score data is also rather fine; it seems that this table has a record for each game of each season. The column statistics provided match the granularity of each record, as these statistics are generally measured or computed using only data from that game."
   ]
  },
  {
   "cell_type": "code",
   "execution_count": 5,
   "metadata": {},
   "outputs": [
    {
     "data": {
      "text/html": [
       "<div>\n",
       "<style scoped>\n",
       "    .dataframe tbody tr th:only-of-type {\n",
       "        vertical-align: middle;\n",
       "    }\n",
       "\n",
       "    .dataframe tbody tr th {\n",
       "        vertical-align: top;\n",
       "    }\n",
       "\n",
       "    .dataframe thead th {\n",
       "        text-align: right;\n",
       "    }\n",
       "</style>\n",
       "<table border=\"1\" class=\"dataframe\">\n",
       "  <thead>\n",
       "    <tr style=\"text-align: right;\">\n",
       "      <th></th>\n",
       "      <th>gmDate</th>\n",
       "      <th>gmTime</th>\n",
       "      <th>seasTyp</th>\n",
       "      <th>offLNm1</th>\n",
       "      <th>offFNm1</th>\n",
       "      <th>offLNm2</th>\n",
       "      <th>offFNm2</th>\n",
       "      <th>offLNm3</th>\n",
       "      <th>offFNm3</th>\n",
       "      <th>teamAbbr</th>\n",
       "      <th>...</th>\n",
       "      <th>opptFIC40</th>\n",
       "      <th>opptOrtg</th>\n",
       "      <th>opptDrtg</th>\n",
       "      <th>opptEDiff</th>\n",
       "      <th>opptPlay%</th>\n",
       "      <th>opptAR</th>\n",
       "      <th>opptAST/TO</th>\n",
       "      <th>opptSTL/TO</th>\n",
       "      <th>poss</th>\n",
       "      <th>pace</th>\n",
       "    </tr>\n",
       "  </thead>\n",
       "  <tbody>\n",
       "    <tr>\n",
       "      <th>0</th>\n",
       "      <td>2012-10-30</td>\n",
       "      <td>19:00</td>\n",
       "      <td>Regular</td>\n",
       "      <td>Brothers</td>\n",
       "      <td>Tony</td>\n",
       "      <td>Smith</td>\n",
       "      <td>Michael</td>\n",
       "      <td>Workman</td>\n",
       "      <td>Haywoode</td>\n",
       "      <td>WAS</td>\n",
       "      <td>...</td>\n",
       "      <td>61.6667</td>\n",
       "      <td>105.6882</td>\n",
       "      <td>94.4447</td>\n",
       "      <td>11.2435</td>\n",
       "      <td>0.4390</td>\n",
       "      <td>16.7072</td>\n",
       "      <td>1.0476</td>\n",
       "      <td>33.3333</td>\n",
       "      <td>88.9409</td>\n",
       "      <td>88.9409</td>\n",
       "    </tr>\n",
       "    <tr>\n",
       "      <th>1</th>\n",
       "      <td>2012-10-30</td>\n",
       "      <td>19:00</td>\n",
       "      <td>Regular</td>\n",
       "      <td>Brothers</td>\n",
       "      <td>Tony</td>\n",
       "      <td>Smith</td>\n",
       "      <td>Michael</td>\n",
       "      <td>Workman</td>\n",
       "      <td>Haywoode</td>\n",
       "      <td>CLE</td>\n",
       "      <td>...</td>\n",
       "      <td>56.0417</td>\n",
       "      <td>94.4447</td>\n",
       "      <td>105.6882</td>\n",
       "      <td>-11.2435</td>\n",
       "      <td>0.3765</td>\n",
       "      <td>18.8679</td>\n",
       "      <td>2.0000</td>\n",
       "      <td>84.6154</td>\n",
       "      <td>88.9409</td>\n",
       "      <td>88.9409</td>\n",
       "    </tr>\n",
       "    <tr>\n",
       "      <th>2</th>\n",
       "      <td>2012-10-30</td>\n",
       "      <td>20:00</td>\n",
       "      <td>Regular</td>\n",
       "      <td>McCutchen</td>\n",
       "      <td>Monty</td>\n",
       "      <td>Wright</td>\n",
       "      <td>Sean</td>\n",
       "      <td>Fitzgerald</td>\n",
       "      <td>Kane</td>\n",
       "      <td>BOS</td>\n",
       "      <td>...</td>\n",
       "      <td>80.8333</td>\n",
       "      <td>126.3381</td>\n",
       "      <td>112.6515</td>\n",
       "      <td>13.6866</td>\n",
       "      <td>0.5244</td>\n",
       "      <td>19.8287</td>\n",
       "      <td>3.1250</td>\n",
       "      <td>100.0000</td>\n",
       "      <td>94.9832</td>\n",
       "      <td>94.9832</td>\n",
       "    </tr>\n",
       "    <tr>\n",
       "      <th>3</th>\n",
       "      <td>2012-10-30</td>\n",
       "      <td>20:00</td>\n",
       "      <td>Regular</td>\n",
       "      <td>McCutchen</td>\n",
       "      <td>Monty</td>\n",
       "      <td>Wright</td>\n",
       "      <td>Sean</td>\n",
       "      <td>Fitzgerald</td>\n",
       "      <td>Kane</td>\n",
       "      <td>MIA</td>\n",
       "      <td>...</td>\n",
       "      <td>62.7083</td>\n",
       "      <td>112.6515</td>\n",
       "      <td>126.3381</td>\n",
       "      <td>-13.6866</td>\n",
       "      <td>0.4643</td>\n",
       "      <td>18.8501</td>\n",
       "      <td>1.5000</td>\n",
       "      <td>25.0000</td>\n",
       "      <td>94.9832</td>\n",
       "      <td>94.9832</td>\n",
       "    </tr>\n",
       "    <tr>\n",
       "      <th>4</th>\n",
       "      <td>2012-10-30</td>\n",
       "      <td>22:30</td>\n",
       "      <td>Regular</td>\n",
       "      <td>Foster</td>\n",
       "      <td>Scott</td>\n",
       "      <td>Zielinski</td>\n",
       "      <td>Gary</td>\n",
       "      <td>Dalen</td>\n",
       "      <td>Eric</td>\n",
       "      <td>DAL</td>\n",
       "      <td>...</td>\n",
       "      <td>58.6458</td>\n",
       "      <td>99.3678</td>\n",
       "      <td>108.1034</td>\n",
       "      <td>-8.7356</td>\n",
       "      <td>0.5000</td>\n",
       "      <td>18.6567</td>\n",
       "      <td>1.7143</td>\n",
       "      <td>42.8571</td>\n",
       "      <td>91.5790</td>\n",
       "      <td>91.5790</td>\n",
       "    </tr>\n",
       "  </tbody>\n",
       "</table>\n",
       "<p>5 rows × 123 columns</p>\n",
       "</div>"
      ],
      "text/plain": [
       "       gmDate gmTime  seasTyp    offLNm1 offFNm1    offLNm2  offFNm2  \\\n",
       "0  2012-10-30  19:00  Regular   Brothers    Tony      Smith  Michael   \n",
       "1  2012-10-30  19:00  Regular   Brothers    Tony      Smith  Michael   \n",
       "2  2012-10-30  20:00  Regular  McCutchen   Monty     Wright     Sean   \n",
       "3  2012-10-30  20:00  Regular  McCutchen   Monty     Wright     Sean   \n",
       "4  2012-10-30  22:30  Regular     Foster   Scott  Zielinski     Gary   \n",
       "\n",
       "      offLNm3   offFNm3 teamAbbr  ... opptFIC40  opptOrtg  opptDrtg opptEDiff  \\\n",
       "0     Workman  Haywoode      WAS  ...   61.6667  105.6882   94.4447   11.2435   \n",
       "1     Workman  Haywoode      CLE  ...   56.0417   94.4447  105.6882  -11.2435   \n",
       "2  Fitzgerald      Kane      BOS  ...   80.8333  126.3381  112.6515   13.6866   \n",
       "3  Fitzgerald      Kane      MIA  ...   62.7083  112.6515  126.3381  -13.6866   \n",
       "4       Dalen      Eric      DAL  ...   58.6458   99.3678  108.1034   -8.7356   \n",
       "\n",
       "   opptPlay%   opptAR  opptAST/TO  opptSTL/TO     poss     pace  \n",
       "0     0.4390  16.7072      1.0476     33.3333  88.9409  88.9409  \n",
       "1     0.3765  18.8679      2.0000     84.6154  88.9409  88.9409  \n",
       "2     0.5244  19.8287      3.1250    100.0000  94.9832  94.9832  \n",
       "3     0.4643  18.8501      1.5000     25.0000  94.9832  94.9832  \n",
       "4     0.5000  18.6567      1.7143     42.8571  91.5790  91.5790  \n",
       "\n",
       "[5 rows x 123 columns]"
      ]
     },
     "execution_count": 5,
     "metadata": {},
     "output_type": "execute_result"
    }
   ],
   "source": [
    "team_box_score.head(5)"
   ]
  },
  {
   "cell_type": "markdown",
   "metadata": {},
   "source": [
    "Note that for each set of 3 officials, there are 2 games listed on each date. This led us to suspect that the Team Box Score data had two entries per game, one for each team. We can verify this in the cell below."
   ]
  },
  {
   "cell_type": "code",
   "execution_count": 6,
   "metadata": {},
   "outputs": [
    {
     "data": {
      "text/html": [
       "<div>\n",
       "<style scoped>\n",
       "    .dataframe tbody tr th:only-of-type {\n",
       "        vertical-align: middle;\n",
       "    }\n",
       "\n",
       "    .dataframe tbody tr th {\n",
       "        vertical-align: top;\n",
       "    }\n",
       "\n",
       "    .dataframe thead th {\n",
       "        text-align: right;\n",
       "    }\n",
       "</style>\n",
       "<table border=\"1\" class=\"dataframe\">\n",
       "  <thead>\n",
       "    <tr style=\"text-align: right;\">\n",
       "      <th></th>\n",
       "      <th>teamAbbr</th>\n",
       "      <th>opptAbbr</th>\n",
       "    </tr>\n",
       "  </thead>\n",
       "  <tbody>\n",
       "    <tr>\n",
       "      <th>0</th>\n",
       "      <td>WAS</td>\n",
       "      <td>CLE</td>\n",
       "    </tr>\n",
       "    <tr>\n",
       "      <th>1</th>\n",
       "      <td>CLE</td>\n",
       "      <td>WAS</td>\n",
       "    </tr>\n",
       "    <tr>\n",
       "      <th>2</th>\n",
       "      <td>BOS</td>\n",
       "      <td>MIA</td>\n",
       "    </tr>\n",
       "    <tr>\n",
       "      <th>3</th>\n",
       "      <td>MIA</td>\n",
       "      <td>BOS</td>\n",
       "    </tr>\n",
       "    <tr>\n",
       "      <th>4</th>\n",
       "      <td>DAL</td>\n",
       "      <td>LAL</td>\n",
       "    </tr>\n",
       "    <tr>\n",
       "      <th>5</th>\n",
       "      <td>LAL</td>\n",
       "      <td>DAL</td>\n",
       "    </tr>\n",
       "  </tbody>\n",
       "</table>\n",
       "</div>"
      ],
      "text/plain": [
       "  teamAbbr opptAbbr\n",
       "0      WAS      CLE\n",
       "1      CLE      WAS\n",
       "2      BOS      MIA\n",
       "3      MIA      BOS\n",
       "4      DAL      LAL\n",
       "5      LAL      DAL"
      ]
     },
     "execution_count": 6,
     "metadata": {},
     "output_type": "execute_result"
    }
   ],
   "source": [
    "#shows that each game is listed twice, once for each team\n",
    "team_box_score[team_box_score['gmDate'] == '2012-10-30'][['teamAbbr', 'opptAbbr']]"
   ]
  },
  {
   "cell_type": "markdown",
   "metadata": {},
   "source": [
    "So not only do we have all the team and opposing team's statistics per game entry, we have two listings of every game! Certainly there's some redundancy in this data, and this is going to be an important point we will revisit when building our model."
   ]
  },
  {
   "cell_type": "markdown",
   "metadata": {},
   "source": [
    "Finally, let's see how complete this data is. There are 30 teams in the league, 82 games per season, and this data covers the 2012-2013 through 2017-2018 seasons (6 seasons). So we would expect this many records:"
   ]
  },
  {
   "cell_type": "code",
   "execution_count": 7,
   "metadata": {},
   "outputs": [
    {
     "data": {
      "text/plain": [
       "14760"
      ]
     },
     "execution_count": 7,
     "metadata": {},
     "output_type": "execute_result"
    }
   ],
   "source": [
    "30 * 82 * 6"
   ]
  },
  {
   "cell_type": "markdown",
   "metadata": {},
   "source": [
    "Let's see what percentage of records we actually have."
   ]
  },
  {
   "cell_type": "code",
   "execution_count": 8,
   "metadata": {},
   "outputs": [
    {
     "data": {
      "text/plain": [
       "99.98644986449865"
      ]
     },
     "execution_count": 8,
     "metadata": {},
     "output_type": "execute_result"
    }
   ],
   "source": [
    "team_box_score.shape[0] / 14760 * 100"
   ]
  },
  {
   "cell_type": "markdown",
   "metadata": {},
   "source": [
    "While not as perfect as we may have expected, it seems that the vast majority of the data is present. Since the effects of missing just a couple of records won't greatly affect our analysis, we will continue forward."
   ]
  },
  {
   "cell_type": "markdown",
   "metadata": {},
   "source": [
    "## IV: Data Cleaning and Transformations"
   ]
  },
  {
   "cell_type": "markdown",
   "metadata": {},
   "source": [
    "**Section i: Merging Standings, Team Box Score Data**\n",
    "\n",
    "Right now, our standings data has aggregate statistics for each team through a certain date and our team box score data has the game stats for each date. Both tables also have date attributes, so if we were to combine them, we could try and make use of the statistics offered by both. Thus, the first part of this section will be merging the two tables together.\n",
    "\n",
    "**Section ii: Dropping Extraneous Data**\n",
    "\n",
    "There are many extraneous columns that will be of no use to us - we drop them here.\n",
    "\n",
    "**Section iii: Data Transformations and Extra Calculations**\n",
    "\n",
    "The second section will be focused on how we can transform our data to represent real world circumstances. In reality, we will never have the team box score data of a game before said game (otherwise, predicting a win is as easy as seeing who scored more points). So instead, what we will do is try to make the team box score data look more like the standings data (i.e. we will calculate the team's and oppt's average points, average assists, average STL/TO ratios, etc. for every game of the season).\n",
    "\n",
    "Throughout the process we will need to be mindful of the way we take averages. We want our averages to represent statistics we would have BEFORE game *i* happened, so we would need to take the average of only games *0...i-1*. As for the standings data, because this data has been aggregated after the games that occured that day, we would simply need to move this data one game down for each team. We will walk through each step of this process in section ii. through code commenting and markdown cells, so please refer to those for a more detailed walk through."
   ]
  },
  {
   "cell_type": "markdown",
   "metadata": {},
   "source": [
    "We will be using the following function throughout this section to extract data for each particular season."
   ]
  },
  {
   "cell_type": "code",
   "execution_count": 9,
   "metadata": {},
   "outputs": [],
   "source": [
    "def get_nth_season(data, n):\n",
    "    #1st season begins in 2012 and 6th season begins in 2017\n",
    "    return data[(data['gmDate'] > date(2011 + n, 10, 1)) & (data['gmDate'] < date(2012 + n, 5, 1))]"
   ]
  },
  {
   "cell_type": "markdown",
   "metadata": {},
   "source": [
    "### i. Merging Standings, Team Box Score Data"
   ]
  },
  {
   "cell_type": "markdown",
   "metadata": {},
   "source": [
    "We will want to merge each team's games in the team box score data with what their standing was on that same date. Consequently, we will need to merge on both date and teamAbbr."
   ]
  },
  {
   "cell_type": "code",
   "execution_count": 10,
   "metadata": {},
   "outputs": [],
   "source": [
    "# inner join the tables on the date and teamAbbr\n",
    "# now we'll have each team's stats for that game and their stats up till that date in the season\n",
    "team_box_score = pd.merge(team_box_score, standings, how='inner',\n",
    "                          left_on=['gmDate', 'teamAbbr'], right_on=['stDate', 'teamAbbr'])\n",
    "\n",
    "#drop the added stDate column, which is redundant as we already have a gmDate column\n",
    "team_box_score = team_box_score.drop('stDate', axis=1)"
   ]
  },
  {
   "cell_type": "markdown",
   "metadata": {},
   "source": [
    "Now, we'll make our gmDate column into a datetime object for future use."
   ]
  },
  {
   "cell_type": "code",
   "execution_count": 11,
   "metadata": {},
   "outputs": [],
   "source": [
    "#finally, convert gmDate into a datetime type for ease of manipulation\n",
    "team_box_score['gmDate'] = team_box_score['gmDate'].apply(lambda x: datetime.strptime(x, \"%Y-%m-%d\").date())"
   ]
  },
  {
   "cell_type": "code",
   "execution_count": 12,
   "metadata": {
    "scrolled": true
   },
   "outputs": [
    {
     "data": {
      "text/html": [
       "<div>\n",
       "<style scoped>\n",
       "    .dataframe tbody tr th:only-of-type {\n",
       "        vertical-align: middle;\n",
       "    }\n",
       "\n",
       "    .dataframe tbody tr th {\n",
       "        vertical-align: top;\n",
       "    }\n",
       "\n",
       "    .dataframe thead th {\n",
       "        text-align: right;\n",
       "    }\n",
       "</style>\n",
       "<table border=\"1\" class=\"dataframe\">\n",
       "  <thead>\n",
       "    <tr style=\"text-align: right;\">\n",
       "      <th></th>\n",
       "      <th>gmDate</th>\n",
       "      <th>gmTime</th>\n",
       "      <th>seasTyp</th>\n",
       "      <th>offLNm1</th>\n",
       "      <th>offFNm1</th>\n",
       "      <th>offLNm2</th>\n",
       "      <th>offFNm2</th>\n",
       "      <th>offLNm3</th>\n",
       "      <th>offFNm3</th>\n",
       "      <th>teamAbbr</th>\n",
       "      <th>...</th>\n",
       "      <th>rel%Indx</th>\n",
       "      <th>mov</th>\n",
       "      <th>srs</th>\n",
       "      <th>pw%</th>\n",
       "      <th>pyth%13.91</th>\n",
       "      <th>wpyth13.91</th>\n",
       "      <th>lpyth13.91</th>\n",
       "      <th>pyth%16.5</th>\n",
       "      <th>wpyth16.5</th>\n",
       "      <th>lpyth16.5</th>\n",
       "    </tr>\n",
       "  </thead>\n",
       "  <tbody>\n",
       "    <tr>\n",
       "      <th>0</th>\n",
       "      <td>2012-10-30</td>\n",
       "      <td>19:00</td>\n",
       "      <td>Regular</td>\n",
       "      <td>Brothers</td>\n",
       "      <td>Tony</td>\n",
       "      <td>Smith</td>\n",
       "      <td>Michael</td>\n",
       "      <td>Workman</td>\n",
       "      <td>Haywoode</td>\n",
       "      <td>WAS</td>\n",
       "      <td>...</td>\n",
       "      <td>0.0</td>\n",
       "      <td>-10.0</td>\n",
       "      <td>-10.0</td>\n",
       "      <td>0.1707</td>\n",
       "      <td>0.1730</td>\n",
       "      <td>14.1860</td>\n",
       "      <td>67.8140</td>\n",
       "      <td>0.1352</td>\n",
       "      <td>11.0864</td>\n",
       "      <td>70.9136</td>\n",
       "    </tr>\n",
       "    <tr>\n",
       "      <th>1</th>\n",
       "      <td>2012-10-30</td>\n",
       "      <td>19:00</td>\n",
       "      <td>Regular</td>\n",
       "      <td>Brothers</td>\n",
       "      <td>Tony</td>\n",
       "      <td>Smith</td>\n",
       "      <td>Michael</td>\n",
       "      <td>Workman</td>\n",
       "      <td>Haywoode</td>\n",
       "      <td>CLE</td>\n",
       "      <td>...</td>\n",
       "      <td>0.0</td>\n",
       "      <td>10.0</td>\n",
       "      <td>10.0</td>\n",
       "      <td>0.8293</td>\n",
       "      <td>0.8270</td>\n",
       "      <td>67.8140</td>\n",
       "      <td>14.1860</td>\n",
       "      <td>0.8648</td>\n",
       "      <td>70.9136</td>\n",
       "      <td>11.0864</td>\n",
       "    </tr>\n",
       "    <tr>\n",
       "      <th>2</th>\n",
       "      <td>2012-10-30</td>\n",
       "      <td>20:00</td>\n",
       "      <td>Regular</td>\n",
       "      <td>McCutchen</td>\n",
       "      <td>Monty</td>\n",
       "      <td>Wright</td>\n",
       "      <td>Sean</td>\n",
       "      <td>Fitzgerald</td>\n",
       "      <td>Kane</td>\n",
       "      <td>BOS</td>\n",
       "      <td>...</td>\n",
       "      <td>0.0</td>\n",
       "      <td>-13.0</td>\n",
       "      <td>-13.0</td>\n",
       "      <td>0.0720</td>\n",
       "      <td>0.1687</td>\n",
       "      <td>13.8334</td>\n",
       "      <td>68.1666</td>\n",
       "      <td>0.1310</td>\n",
       "      <td>10.7420</td>\n",
       "      <td>71.2580</td>\n",
       "    </tr>\n",
       "    <tr>\n",
       "      <th>3</th>\n",
       "      <td>2012-10-30</td>\n",
       "      <td>20:00</td>\n",
       "      <td>Regular</td>\n",
       "      <td>McCutchen</td>\n",
       "      <td>Monty</td>\n",
       "      <td>Wright</td>\n",
       "      <td>Sean</td>\n",
       "      <td>Fitzgerald</td>\n",
       "      <td>Kane</td>\n",
       "      <td>MIA</td>\n",
       "      <td>...</td>\n",
       "      <td>0.0</td>\n",
       "      <td>13.0</td>\n",
       "      <td>13.0</td>\n",
       "      <td>0.9280</td>\n",
       "      <td>0.8313</td>\n",
       "      <td>68.1666</td>\n",
       "      <td>13.8334</td>\n",
       "      <td>0.8690</td>\n",
       "      <td>71.2580</td>\n",
       "      <td>10.7420</td>\n",
       "    </tr>\n",
       "    <tr>\n",
       "      <th>4</th>\n",
       "      <td>2012-10-30</td>\n",
       "      <td>22:30</td>\n",
       "      <td>Regular</td>\n",
       "      <td>Foster</td>\n",
       "      <td>Scott</td>\n",
       "      <td>Zielinski</td>\n",
       "      <td>Gary</td>\n",
       "      <td>Dalen</td>\n",
       "      <td>Eric</td>\n",
       "      <td>DAL</td>\n",
       "      <td>...</td>\n",
       "      <td>0.0</td>\n",
       "      <td>8.0</td>\n",
       "      <td>8.0</td>\n",
       "      <td>0.7634</td>\n",
       "      <td>0.7635</td>\n",
       "      <td>62.6070</td>\n",
       "      <td>19.3930</td>\n",
       "      <td>0.8006</td>\n",
       "      <td>65.6492</td>\n",
       "      <td>16.3508</td>\n",
       "    </tr>\n",
       "  </tbody>\n",
       "</table>\n",
       "<p>5 rows × 160 columns</p>\n",
       "</div>"
      ],
      "text/plain": [
       "       gmDate gmTime  seasTyp    offLNm1 offFNm1    offLNm2  offFNm2  \\\n",
       "0  2012-10-30  19:00  Regular   Brothers    Tony      Smith  Michael   \n",
       "1  2012-10-30  19:00  Regular   Brothers    Tony      Smith  Michael   \n",
       "2  2012-10-30  20:00  Regular  McCutchen   Monty     Wright     Sean   \n",
       "3  2012-10-30  20:00  Regular  McCutchen   Monty     Wright     Sean   \n",
       "4  2012-10-30  22:30  Regular     Foster   Scott  Zielinski     Gary   \n",
       "\n",
       "      offLNm3   offFNm3 teamAbbr  ... rel%Indx   mov   srs     pw%  \\\n",
       "0     Workman  Haywoode      WAS  ...      0.0 -10.0 -10.0  0.1707   \n",
       "1     Workman  Haywoode      CLE  ...      0.0  10.0  10.0  0.8293   \n",
       "2  Fitzgerald      Kane      BOS  ...      0.0 -13.0 -13.0  0.0720   \n",
       "3  Fitzgerald      Kane      MIA  ...      0.0  13.0  13.0  0.9280   \n",
       "4       Dalen      Eric      DAL  ...      0.0   8.0   8.0  0.7634   \n",
       "\n",
       "   pyth%13.91  wpyth13.91  lpyth13.91  pyth%16.5  wpyth16.5  lpyth16.5  \n",
       "0      0.1730     14.1860     67.8140     0.1352    11.0864    70.9136  \n",
       "1      0.8270     67.8140     14.1860     0.8648    70.9136    11.0864  \n",
       "2      0.1687     13.8334     68.1666     0.1310    10.7420    71.2580  \n",
       "3      0.8313     68.1666     13.8334     0.8690    71.2580    10.7420  \n",
       "4      0.7635     62.6070     19.3930     0.8006    65.6492    16.3508  \n",
       "\n",
       "[5 rows x 160 columns]"
      ]
     },
     "execution_count": 12,
     "metadata": {},
     "output_type": "execute_result"
    }
   ],
   "source": [
    "team_box_score.head()"
   ]
  },
  {
   "cell_type": "markdown",
   "metadata": {},
   "source": [
    "Our table has a lot of columns right, making it quite difficult to read or interpret. In this section, we will use domain expertise to compute more useful statistics and to replace or drop some columns."
   ]
  },
  {
   "cell_type": "markdown",
   "metadata": {},
   "source": [
    "### ii. Dropping extraneous data"
   ]
  },
  {
   "cell_type": "markdown",
   "metadata": {},
   "source": [
    "Rank, or seed, is determined by a variety of factors, including record (wins vs losses) and performance in a team's division. We believe that because our goal is not to predict standing but rather a win or a loss for a given game, rank isn't as effective a measure as winning percentage for our analysis. Also, because of the method by which we will split dataframes and use indices later, we actually won't need the gamePlay column either."
   ]
  },
  {
   "cell_type": "markdown",
   "metadata": {},
   "source": [
    "We also believe that information like totals for ptsFor and ptsAgnst aren't as useful as averages (ptsScore, ptsAllow). Opponent statistics like opptGmPlay and opptGmWon are effectively summarized in the strength of schedule (sos) column. Finally, statistics like rel%Indx and Pythagorean statistics are difficult to interpret; the goal of our analysis is to determine more simple statistics that have important relationships with a team's likelihood of winning. Consequently, we will drop all of these columns below."
   ]
  },
  {
   "cell_type": "code",
   "execution_count": 13,
   "metadata": {},
   "outputs": [],
   "source": [
    "team_box_score = team_box_score.drop(['rank', 'rankOrd', 'gameBack', 'gamePlay', 'ptsFor', 'ptsAgnst', 'opptGmPlay',\n",
    "                            'opptGmWon', 'opptOpptGmPlay', 'opptOpptGmWon', 'rel%Indx', 'pyth%13.91', 'wpyth13.91',\n",
    "                           'lpyth13.91', 'pyth%16.5', 'wpyth16.5', 'lpyth16.5'], axis=1)\n",
    "\n",
    "non_numerical = ['teamConf','teamDiv', 'opptConf','opptDiv']\n",
    "team_box_score = team_box_score.drop(non_numerical, axis=1)"
   ]
  },
  {
   "cell_type": "markdown",
   "metadata": {},
   "source": [
    "In general, we believe like factors like gmTime and the identity of the officials are relatively negligible in determining the outcome of a game. seasTyp is also not very informative, as all of these games seem to have taken place during the regular season."
   ]
  },
  {
   "cell_type": "code",
   "execution_count": 14,
   "metadata": {
    "scrolled": true
   },
   "outputs": [
    {
     "data": {
      "text/plain": [
       "array(['Regular'], dtype=object)"
      ]
     },
     "execution_count": 14,
     "metadata": {},
     "output_type": "execute_result"
    }
   ],
   "source": [
    "# shows that all games took place during the regular season\n",
    "team_box_score['seasTyp'].unique()"
   ]
  },
  {
   "cell_type": "code",
   "execution_count": 15,
   "metadata": {},
   "outputs": [],
   "source": [
    "# dropping these columns\n",
    "team_box_score = team_box_score.drop(['gmTime', 'seasTyp', 'offLNm1', 'offFNm1', 'offLNm2', 'offFNm2',\n",
    "                                      'offLNm3', 'offFNm3'], axis=1)"
   ]
  },
  {
   "cell_type": "markdown",
   "metadata": {},
   "source": [
    "We will also need to drop the possession and pace columns. As we can see from looking at the head of the data above, these statistics are game specific and the same for both teams in a game, meaning they wouldn't make a lot of sense to average for any team. The good thing is we already have stats like offensive rating and defensive rating which are computed using the possession of each game and make more sense to average over the course of a season."
   ]
  },
  {
   "cell_type": "code",
   "execution_count": 16,
   "metadata": {},
   "outputs": [],
   "source": [
    "# dropping these columns\n",
    "team_box_score = team_box_score.drop(['poss', 'pace'], axis=1)"
   ]
  },
  {
   "cell_type": "markdown",
   "metadata": {},
   "source": [
    "### iii. Data Transformations and Extra Calculations"
   ]
  },
  {
   "cell_type": "markdown",
   "metadata": {},
   "source": [
    "**Calculating winning percentages:**"
   ]
  },
  {
   "cell_type": "markdown",
   "metadata": {},
   "source": [
    "There's still a lot of data that could be summarized more easily using numbers and percentages. Let's start with winning percentages."
   ]
  },
  {
   "cell_type": "markdown",
   "metadata": {},
   "source": [
    "The Standings table currently has columns for gameWon, gameLost, homeWin, homeLoss, awayWin, awayLoss, confWin, and confLoss. Let's convert all these numbers into more concise percentages, like total winning percentage, home winning percentage, etc."
   ]
  },
  {
   "cell_type": "code",
   "execution_count": 17,
   "metadata": {},
   "outputs": [],
   "source": [
    "# total winning percentage is (wins) / (wins + losses)\n",
    "team_box_score['total_wpc'] = np.divide(team_box_score['gameWon'], team_box_score['gameWon'] + team_box_score['gameLost'])\n",
    "# wherever there were 0 games played, we divided by 0 (NaN). replace these\n",
    "team_box_score = team_box_score.fillna(0)\n",
    "# can now drop gameWon, gameLost, as this information is summarized by our wpc statistic\n",
    "team_box_score = team_box_score.drop(['gameWon', 'gameLost'], axis=1)\n",
    "\n",
    "# follow the same process as above for home_wpc, away_wpc, and conf_wpc\n",
    "team_box_score['home_wpc'] = np.divide(team_box_score['homeWin'], team_box_score['homeWin'] + team_box_score['homeLoss'])\n",
    "team_box_score['away_wpc'] = np.divide(team_box_score['awayWin'], team_box_score['awayWin'] + team_box_score['awayLoss'])\n",
    "team_box_score['conf_wpc'] = np.divide(team_box_score['confWin'], team_box_score['confWin'] + team_box_score['confLoss'])\n",
    "team_box_score = team_box_score.fillna(0)\n",
    "team_box_score = team_box_score.drop(['homeWin', 'homeLoss', 'awayWin', 'awayLoss', 'confWin', 'confLoss'], axis=1)"
   ]
  },
  {
   "cell_type": "markdown",
   "metadata": {},
   "source": [
    "**Streaks:**"
   ]
  },
  {
   "cell_type": "markdown",
   "metadata": {},
   "source": [
    "Data regarding whether or not a team is on a streak could be quite useful. Right now, this information is encapsulated in strings, but what if we were to represent them more interpretably using numbers?\n",
    "\n",
    "One way we might do this is by representing losing streaks with negative numbers and winning streaks with positive ones. The length of the streak would be the absolute value of the number."
   ]
  },
  {
   "cell_type": "code",
   "execution_count": 18,
   "metadata": {},
   "outputs": [],
   "source": [
    "# function that converts streak strings into numbers\n",
    "def stk_to_num(x):\n",
    "    if x == '-':\n",
    "        return 0\n",
    "    elif x[0] == 'L':\n",
    "        return -1 * int(x[1:])\n",
    "    else:\n",
    "        return int(x[1:])"
   ]
  },
  {
   "cell_type": "code",
   "execution_count": 19,
   "metadata": {},
   "outputs": [],
   "source": [
    "# once we have numerically represented the streaks, there's no point keeping the string data\n",
    "team_box_score['streak'] = team_box_score['stk'].apply(stk_to_num)\n",
    "team_box_score = team_box_score.drop(['stk', 'stkType', 'stkTot'], axis=1)"
   ]
  },
  {
   "cell_type": "markdown",
   "metadata": {},
   "source": [
    "**Last Five/Last Ten:**"
   ]
  },
  {
   "cell_type": "markdown",
   "metadata": {},
   "source": [
    "Finally, we have this information about how many games each team won in their last 5 and last 10 games. Let's represent these as percentages as well."
   ]
  },
  {
   "cell_type": "code",
   "execution_count": 20,
   "metadata": {},
   "outputs": [],
   "source": [
    "team_box_score['lastTen_wpc'] = team_box_score['lastTen'] / 10\n",
    "team_box_score['lastFive_wpc'] = team_box_score['lastFive'] / 5"
   ]
  },
  {
   "cell_type": "code",
   "execution_count": 21,
   "metadata": {},
   "outputs": [],
   "source": [
    "team_box_score = team_box_score.drop(['lastFive', 'lastTen'], axis=1)"
   ]
  },
  {
   "cell_type": "markdown",
   "metadata": {},
   "source": [
    "**Representing wins and home/away games:**"
   ]
  },
  {
   "cell_type": "markdown",
   "metadata": {},
   "source": [
    "When it comes time to train and test our model, we will want our results to be easily interpretable. Rather than using strings for 'Win' and 'Loss' in the teamRslt column, let's convert this to a binary indicator, where 0's represent losses and 1's represent wins."
   ]
  },
  {
   "cell_type": "code",
   "execution_count": 22,
   "metadata": {},
   "outputs": [],
   "source": [
    "#make these columns a binary indicator\n",
    "team_box_score = team_box_score.replace(to_replace=['Loss', 'Win'], value=[0, 1])\n",
    "team_box_score = team_box_score.replace(to_replace=['Home', 'Away'], value=[0, 1])"
   ]
  },
  {
   "cell_type": "markdown",
   "metadata": {},
   "source": [
    "### ii. Computing Averages"
   ]
  },
  {
   "cell_type": "markdown",
   "metadata": {},
   "source": [
    "**Getting each season's data:**"
   ]
  },
  {
   "cell_type": "markdown",
   "metadata": {},
   "source": [
    "The first thing we will need to do is split our team box score data by season. We will do so below using our *get_nth_season* function from the beginning of the section."
   ]
  },
  {
   "cell_type": "code",
   "execution_count": 23,
   "metadata": {},
   "outputs": [],
   "source": [
    "# data for each season\n",
    "all_seasons = []\n",
    "for i in range(1, 7):\n",
    "    # compile every season's data into one list\n",
    "    all_seasons.append(get_nth_season(team_box_score, i))"
   ]
  },
  {
   "cell_type": "markdown",
   "metadata": {},
   "source": [
    "**Key functions:**"
   ]
  },
  {
   "cell_type": "markdown",
   "metadata": {},
   "source": [
    "Now, we will need to split each season up by team in order to compute each team's average statistics. We will use the following functions each time in order to do this. The components of these functions end up being quite long, so we've included a variety of comments to break them down."
   ]
  },
  {
   "cell_type": "code",
   "execution_count": 24,
   "metadata": {},
   "outputs": [],
   "source": [
    "def all_team_data(season_data, which_team):\n",
    "    \"\"\"\n",
    "    This function takes the data for one season and compiles a list of 30 DataFrames; each DataFrame in the list\n",
    "    represents the season data for one team in the NBA.\n",
    "    \n",
    "    Based on the argument given to which_team, this function will either group by the teamAbbr or the opptAbbr.\n",
    "    The purpose of this is we will need to group by the former to compute the provided team's average stats before\n",
    "    every game, but we will later need to group by the latter to compute the opponent's average stats before\n",
    "    every game.\n",
    "    \"\"\"\n",
    "    if which_team == 0:\n",
    "        teams = season_data['teamAbbr'].unique()\n",
    "        grouped = season_data.groupby('teamAbbr')\n",
    "    else:\n",
    "        teams = season_data['opptAbbr'].unique()\n",
    "        grouped = season_data.groupby('opptAbbr')\n",
    "    teams_data = []\n",
    "    for team in teams:\n",
    "        teams_data.append(grouped.get_group(team))\n",
    "    return teams_data"
   ]
  },
  {
   "cell_type": "code",
   "execution_count": 25,
   "metadata": {},
   "outputs": [],
   "source": [
    "def compute_averages(team, columns):\n",
    "    \"\"\"\n",
    "    This function takes the season data for one team in the NBA and a list of columns. For every column c,\n",
    "    this function replaces every entry, i_c, in the column with the average of its previous entries\n",
    "    mean(0_c, ..., (i-1)_c).\n",
    "    \n",
    "    In other words, say I pass in the 2012-2013 season data for the Washington Wizards and the following\n",
    "    list of columns: ['teamPTS', 'teamAST']. For every game in the season data, I will replace the teamPTS\n",
    "    and teamAST recorded for that game with the Wizards' average teamPTS and teamAST during all games\n",
    "    BEFORE that one. Essentially, it will be like the Wizards' 50th game was tomorrow and I had their season\n",
    "    statistical averages up until that point in time. The point of this transformation is to pretend that\n",
    "    we are analysts looking at stats before a game happens trying to determine who will win using a model.\n",
    "    \n",
    "    This function goes through the entries in reverse order, so entries are only\n",
    "    replaced after all computation involving them has been completed.\n",
    "    \"\"\"\n",
    "    # first reset the index so that all games are numbered 0-81\n",
    "    team = team.reset_index()\n",
    "    team = team.drop('index', axis=1)\n",
    "    \n",
    "    # replace the final entry in each column with the average of the prev n-1 entries\n",
    "    for col in columns:\n",
    "        team.loc[len(team)-1, col] = team.loc[0:(len(team)-2)][col].mean()\n",
    "    \n",
    "    # for each entry, i, in each column, replace that entry with the average of the previous i-1 entries\n",
    "    for i in range(len(team)-2):\n",
    "        ind = len(team) - i - 2\n",
    "        for col in columns:\n",
    "            # for each game, g, compute the team's total, say, pts after game g. then subtract the points scored in game g\n",
    "            # and divide by the number of games that happened before game g. this yields the team's avg pts before game g.\n",
    "            team.loc[ind,col] = (team.loc[ind+1,col]*(ind+1)-team.loc[ind,col])/(ind)\n",
    "\n",
    "    # set all stats before the first game to 0\n",
    "    for col in columns:\n",
    "        team.loc[0,col] = 0\n",
    "    # return the dataframe\n",
    "    return team"
   ]
  },
  {
   "cell_type": "code",
   "execution_count": 26,
   "metadata": {},
   "outputs": [],
   "source": [
    "def adjust_standings(team, columns):\n",
    "    \"\"\"\n",
    "    This function essentially shifts all the standings data that we've added one entry down. This way, the data\n",
    "    we'll use to predict won't include statistics from that game. Then we'll set all standings data for first\n",
    "    games to 0.\n",
    "    \n",
    "    Call this function after calling compute_averages to ensure indices are numbered as desired.\n",
    "    \"\"\"\n",
    "    # for each column we want to shift...\n",
    "    for col in columns:\n",
    "        # let entry n take the value of entry n-1\n",
    "        for i in range(1, len(team)):\n",
    "            ind = len(team) - i\n",
    "            team.loc[ind, col] = team.loc[ind-1, col]\n",
    "        # set entry 0 of each col to 0\n",
    "        team.loc[0, col] = 0\n",
    "    return team"
   ]
  },
  {
   "cell_type": "markdown",
   "metadata": {},
   "source": [
    "**Calling the functions to compute our results:**"
   ]
  },
  {
   "cell_type": "markdown",
   "metadata": {},
   "source": [
    "Note that in order to use the *compute_averages* and *adjust_standings* functions, we will need to pass in a list of labels corresponding to the columns we want to manipulate.\n",
    "\n",
    "We will need to run *compute_averages* several times on 2 main occasions:\n",
    "1. In the first occasion, we will have grouped by the teamAbbr and will be aiming to compute the average stats for the columns corresponding to that teamAbbr.\n",
    "2. In the second occasion, we will have grouped by the opptAbbr and will be aiming to compute the average stats for the columns corresponding to that opptAbbr.\n",
    "\n",
    "Consequently, we will need to make a *team_cols* list and an *oppt_cols* list, one for each occasion.\n",
    "\n",
    "We will also need to make a list of *standings_cols*. This list will include the labels of all standing columns that we will need to shift using the *adjust_standings* function."
   ]
  },
  {
   "cell_type": "code",
   "execution_count": 27,
   "metadata": {},
   "outputs": [],
   "source": [
    "# team cols will be the columns we will aggregate grouping by teamAbbr\n",
    "team_cols = ['teamMin', 'teamPTS', 'teamAST', 'teamTO', 'teamSTL', 'teamBLK', 'teamPF', 'teamFGA',\n",
    "               'teamFGM', 'teamFG%', 'team2PA', 'team2PM', 'team2P%', 'team3PA', 'team3PM', 'team3P%', 'teamFTA',\n",
    "               'teamFTM', 'teamFT%', 'teamORB', 'teamDRB', 'teamTRB', 'teamPTS1', 'teamPTS2', 'teamPTS3', 'teamPTS4',\n",
    "               'teamPTS5', 'teamPTS6', 'teamPTS7', 'teamPTS8', 'teamTREB%', 'teamASST%', 'teamTS%', 'teamEFG%',\n",
    "               'teamOREB%', 'teamDREB%', 'teamTO%', 'teamSTL%', 'teamBLK%', 'teamBLKR', 'teamPPS', 'teamFIC',\n",
    "               'teamFIC40', 'teamOrtg', 'teamDrtg', 'teamEDiff', 'teamPlay%', 'teamAR', 'teamAST/TO', 'teamSTL/TO']\n",
    "# oppt cols will be the columns we will aggregate grouping by opptAbbr\n",
    "oppt_cols = ['opptMin', 'opptPTS', 'opptAST', 'opptTO', 'opptSTL', 'opptBLK', 'opptPF',\n",
    "            'opptFGA', 'opptFGM', 'opptFG%', 'oppt2PA', 'oppt2PM', 'oppt2P%', 'oppt3PA', 'oppt3PM', 'oppt3P%',\n",
    "            'opptFTA', 'opptFTM', 'opptFT%', 'opptORB', 'opptDRB', 'opptTRB', 'opptPTS1', 'opptPTS2', 'opptPTS3',\n",
    "            'opptPTS4', 'opptPTS5', 'opptPTS6', 'opptPTS7', 'opptPTS8', 'opptTREB%', 'opptASST%', 'opptTS%',\n",
    "            'opptEFG%', 'opptOREB%', 'opptDREB%', 'opptTO%', 'opptSTL%', 'opptBLK%', 'opptBLKR', 'opptPPS',\n",
    "            'opptFIC', 'opptFIC40', 'opptOrtg', 'opptDrtg', 'opptEDiff', 'opptPlay%', 'opptAR', 'opptAST/TO',\n",
    "            'opptSTL/TO']\n",
    "# standing cols will be the columns we will need to shift\n",
    "standing_cols = ['ptsScore', 'ptsAllow', 'ptsDiff', 'sos', 'mov', 'srs', 'pw%', 'total_wpc', 'home_wpc', 'away_wpc',\n",
    "                'conf_wpc', 'streak', 'lastTen_wpc', 'lastFive_wpc']"
   ]
  },
  {
   "cell_type": "markdown",
   "metadata": {},
   "source": [
    "checked the below calculations against season records; everything checked out"
   ]
  },
  {
   "cell_type": "code",
   "execution_count": 28,
   "metadata": {},
   "outputs": [],
   "source": [
    "# for every season...\n",
    "for i in range(len(all_seasons)):\n",
    "    # get the data for every team from that season\n",
    "    list_of_teams = all_team_data(all_seasons[i], which_team=0)\n",
    "    \n",
    "    # for each team, compute averages for various columns\n",
    "    # (see the compute_averages comments for details)\n",
    "    for k in range(len(list_of_teams)):\n",
    "        list_of_teams[k] = compute_averages(list_of_teams[k], team_cols)\n",
    "        # also for each team, move all their standings data one entry down\n",
    "        # for ex. we want the Wizards' streak number BEFORE game i, not after it.\n",
    "        list_of_teams[k] = adjust_standings(list_of_teams[k], standing_cols)\n",
    "    \n",
    "\n",
    "    # once every team's averages have been computed, join them back into one season\n",
    "    season_df = pd.concat(list_of_teams)\n",
    "    \n",
    "    # then sort the season by game date and assign it back into all_seasons\n",
    "    season_df = season_df.sort_values(by='gmDate')\n",
    "    all_seasons[i] = season_df"
   ]
  },
  {
   "cell_type": "markdown",
   "metadata": {},
   "source": [
    "deal with oppt stats"
   ]
  },
  {
   "cell_type": "code",
   "execution_count": 29,
   "metadata": {},
   "outputs": [
    {
     "data": {
      "text/html": [
       "<div>\n",
       "<style scoped>\n",
       "    .dataframe tbody tr th:only-of-type {\n",
       "        vertical-align: middle;\n",
       "    }\n",
       "\n",
       "    .dataframe tbody tr th {\n",
       "        vertical-align: top;\n",
       "    }\n",
       "\n",
       "    .dataframe thead th {\n",
       "        text-align: right;\n",
       "    }\n",
       "</style>\n",
       "<table border=\"1\" class=\"dataframe\">\n",
       "  <thead>\n",
       "    <tr style=\"text-align: right;\">\n",
       "      <th></th>\n",
       "      <th>gmDate</th>\n",
       "      <th>teamAbbr</th>\n",
       "      <th>teamLoc</th>\n",
       "      <th>teamRslt</th>\n",
       "      <th>teamMin</th>\n",
       "      <th>teamDayOff</th>\n",
       "      <th>teamPTS</th>\n",
       "      <th>teamAST</th>\n",
       "      <th>teamTO</th>\n",
       "      <th>teamSTL</th>\n",
       "      <th>...</th>\n",
       "      <th>mov</th>\n",
       "      <th>srs</th>\n",
       "      <th>pw%</th>\n",
       "      <th>total_wpc</th>\n",
       "      <th>home_wpc</th>\n",
       "      <th>away_wpc</th>\n",
       "      <th>conf_wpc</th>\n",
       "      <th>streak</th>\n",
       "      <th>lastTen_wpc</th>\n",
       "      <th>lastFive_wpc</th>\n",
       "    </tr>\n",
       "  </thead>\n",
       "  <tbody>\n",
       "    <tr>\n",
       "      <th>81</th>\n",
       "      <td>2013-04-17</td>\n",
       "      <td>LAC</td>\n",
       "      <td>1</td>\n",
       "      <td>1</td>\n",
       "      <td>240.617284</td>\n",
       "      <td>1</td>\n",
       "      <td>100.950617</td>\n",
       "      <td>23.864198</td>\n",
       "      <td>14.617284</td>\n",
       "      <td>9.617284</td>\n",
       "      <td>...</td>\n",
       "      <td>6.4815</td>\n",
       "      <td>5.9790</td>\n",
       "      <td>0.7134</td>\n",
       "      <td>0.679012</td>\n",
       "      <td>0.780488</td>\n",
       "      <td>0.575000</td>\n",
       "      <td>0.666667</td>\n",
       "      <td>6</td>\n",
       "      <td>0.7</td>\n",
       "      <td>1.0</td>\n",
       "    </tr>\n",
       "    <tr>\n",
       "      <th>81</th>\n",
       "      <td>2013-04-17</td>\n",
       "      <td>MIA</td>\n",
       "      <td>0</td>\n",
       "      <td>1</td>\n",
       "      <td>242.469136</td>\n",
       "      <td>2</td>\n",
       "      <td>102.851852</td>\n",
       "      <td>22.950617</td>\n",
       "      <td>13.962963</td>\n",
       "      <td>8.679012</td>\n",
       "      <td>...</td>\n",
       "      <td>7.8148</td>\n",
       "      <td>7.3273</td>\n",
       "      <td>0.7573</td>\n",
       "      <td>0.802469</td>\n",
       "      <td>0.900000</td>\n",
       "      <td>0.707317</td>\n",
       "      <td>0.784314</td>\n",
       "      <td>7</td>\n",
       "      <td>0.9</td>\n",
       "      <td>1.0</td>\n",
       "    </tr>\n",
       "    <tr>\n",
       "      <th>81</th>\n",
       "      <td>2013-04-17</td>\n",
       "      <td>CHI</td>\n",
       "      <td>0</td>\n",
       "      <td>1</td>\n",
       "      <td>241.851852</td>\n",
       "      <td>2</td>\n",
       "      <td>93.160494</td>\n",
       "      <td>22.962963</td>\n",
       "      <td>14.271605</td>\n",
       "      <td>7.197531</td>\n",
       "      <td>...</td>\n",
       "      <td>0.2840</td>\n",
       "      <td>-0.2119</td>\n",
       "      <td>0.5094</td>\n",
       "      <td>0.543210</td>\n",
       "      <td>0.575000</td>\n",
       "      <td>0.512195</td>\n",
       "      <td>0.647059</td>\n",
       "      <td>1</td>\n",
       "      <td>0.5</td>\n",
       "      <td>0.4</td>\n",
       "    </tr>\n",
       "    <tr>\n",
       "      <th>81</th>\n",
       "      <td>2013-04-17</td>\n",
       "      <td>DEN</td>\n",
       "      <td>0</td>\n",
       "      <td>1</td>\n",
       "      <td>242.777778</td>\n",
       "      <td>2</td>\n",
       "      <td>106.000000</td>\n",
       "      <td>24.370370</td>\n",
       "      <td>15.271605</td>\n",
       "      <td>9.320988</td>\n",
       "      <td>...</td>\n",
       "      <td>4.9012</td>\n",
       "      <td>4.3929</td>\n",
       "      <td>0.6614</td>\n",
       "      <td>0.691358</td>\n",
       "      <td>0.925000</td>\n",
       "      <td>0.463415</td>\n",
       "      <td>0.725490</td>\n",
       "      <td>2</td>\n",
       "      <td>0.7</td>\n",
       "      <td>0.8</td>\n",
       "    </tr>\n",
       "    <tr>\n",
       "      <th>80</th>\n",
       "      <td>2013-04-17</td>\n",
       "      <td>IND</td>\n",
       "      <td>0</td>\n",
       "      <td>0</td>\n",
       "      <td>241.875000</td>\n",
       "      <td>1</td>\n",
       "      <td>94.737500</td>\n",
       "      <td>20.350000</td>\n",
       "      <td>15.125000</td>\n",
       "      <td>7.150000</td>\n",
       "      <td>...</td>\n",
       "      <td>4.2000</td>\n",
       "      <td>3.7111</td>\n",
       "      <td>0.6383</td>\n",
       "      <td>0.612500</td>\n",
       "      <td>0.750000</td>\n",
       "      <td>0.475000</td>\n",
       "      <td>0.620000</td>\n",
       "      <td>-2</td>\n",
       "      <td>0.6</td>\n",
       "      <td>0.2</td>\n",
       "    </tr>\n",
       "    <tr>\n",
       "      <th>81</th>\n",
       "      <td>2013-04-17</td>\n",
       "      <td>HOU</td>\n",
       "      <td>1</td>\n",
       "      <td>0</td>\n",
       "      <td>240.925926</td>\n",
       "      <td>2</td>\n",
       "      <td>106.086420</td>\n",
       "      <td>23.209877</td>\n",
       "      <td>16.469136</td>\n",
       "      <td>8.296296</td>\n",
       "      <td>...</td>\n",
       "      <td>3.5679</td>\n",
       "      <td>3.0627</td>\n",
       "      <td>0.6175</td>\n",
       "      <td>0.555556</td>\n",
       "      <td>0.707317</td>\n",
       "      <td>0.400000</td>\n",
       "      <td>0.470588</td>\n",
       "      <td>-1</td>\n",
       "      <td>0.6</td>\n",
       "      <td>0.4</td>\n",
       "    </tr>\n",
       "    <tr>\n",
       "      <th>81</th>\n",
       "      <td>2013-04-17</td>\n",
       "      <td>OKC</td>\n",
       "      <td>0</td>\n",
       "      <td>0</td>\n",
       "      <td>241.851852</td>\n",
       "      <td>2</td>\n",
       "      <td>105.925926</td>\n",
       "      <td>21.444444</td>\n",
       "      <td>15.358025</td>\n",
       "      <td>8.283951</td>\n",
       "      <td>...</td>\n",
       "      <td>9.3951</td>\n",
       "      <td>8.8929</td>\n",
       "      <td>0.8094</td>\n",
       "      <td>0.740741</td>\n",
       "      <td>0.850000</td>\n",
       "      <td>0.634146</td>\n",
       "      <td>0.750000</td>\n",
       "      <td>4</td>\n",
       "      <td>0.8</td>\n",
       "      <td>0.8</td>\n",
       "    </tr>\n",
       "    <tr>\n",
       "      <th>80</th>\n",
       "      <td>2013-04-17</td>\n",
       "      <td>BOS</td>\n",
       "      <td>1</td>\n",
       "      <td>0</td>\n",
       "      <td>245.000000</td>\n",
       "      <td>1</td>\n",
       "      <td>96.600000</td>\n",
       "      <td>22.800000</td>\n",
       "      <td>14.600000</td>\n",
       "      <td>8.250000</td>\n",
       "      <td>...</td>\n",
       "      <td>0.0750</td>\n",
       "      <td>-0.4192</td>\n",
       "      <td>0.5025</td>\n",
       "      <td>0.512500</td>\n",
       "      <td>0.675000</td>\n",
       "      <td>0.350000</td>\n",
       "      <td>0.540000</td>\n",
       "      <td>1</td>\n",
       "      <td>0.5</td>\n",
       "      <td>0.4</td>\n",
       "    </tr>\n",
       "    <tr>\n",
       "      <th>81</th>\n",
       "      <td>2013-04-17</td>\n",
       "      <td>LAL</td>\n",
       "      <td>0</td>\n",
       "      <td>1</td>\n",
       "      <td>240.617284</td>\n",
       "      <td>3</td>\n",
       "      <td>102.246914</td>\n",
       "      <td>22.111111</td>\n",
       "      <td>15.049383</td>\n",
       "      <td>7.037037</td>\n",
       "      <td>...</td>\n",
       "      <td>1.1235</td>\n",
       "      <td>0.6188</td>\n",
       "      <td>0.5370</td>\n",
       "      <td>0.543210</td>\n",
       "      <td>0.700000</td>\n",
       "      <td>0.390244</td>\n",
       "      <td>0.529412</td>\n",
       "      <td>4</td>\n",
       "      <td>0.8</td>\n",
       "      <td>0.8</td>\n",
       "    </tr>\n",
       "    <tr>\n",
       "      <th>81</th>\n",
       "      <td>2013-04-17</td>\n",
       "      <td>BKN</td>\n",
       "      <td>0</td>\n",
       "      <td>1</td>\n",
       "      <td>242.160494</td>\n",
       "      <td>2</td>\n",
       "      <td>96.802469</td>\n",
       "      <td>20.246914</td>\n",
       "      <td>14.592593</td>\n",
       "      <td>7.234568</td>\n",
       "      <td>...</td>\n",
       "      <td>1.7531</td>\n",
       "      <td>1.2614</td>\n",
       "      <td>0.5577</td>\n",
       "      <td>0.592593</td>\n",
       "      <td>0.625000</td>\n",
       "      <td>0.560976</td>\n",
       "      <td>0.686275</td>\n",
       "      <td>1</td>\n",
       "      <td>0.6</td>\n",
       "      <td>0.8</td>\n",
       "    </tr>\n",
       "  </tbody>\n",
       "</table>\n",
       "<p>10 rows × 123 columns</p>\n",
       "</div>"
      ],
      "text/plain": [
       "        gmDate teamAbbr  teamLoc  teamRslt     teamMin  teamDayOff  \\\n",
       "81  2013-04-17      LAC        1         1  240.617284           1   \n",
       "81  2013-04-17      MIA        0         1  242.469136           2   \n",
       "81  2013-04-17      CHI        0         1  241.851852           2   \n",
       "81  2013-04-17      DEN        0         1  242.777778           2   \n",
       "80  2013-04-17      IND        0         0  241.875000           1   \n",
       "81  2013-04-17      HOU        1         0  240.925926           2   \n",
       "81  2013-04-17      OKC        0         0  241.851852           2   \n",
       "80  2013-04-17      BOS        1         0  245.000000           1   \n",
       "81  2013-04-17      LAL        0         1  240.617284           3   \n",
       "81  2013-04-17      BKN        0         1  242.160494           2   \n",
       "\n",
       "       teamPTS    teamAST     teamTO   teamSTL  ...     mov     srs     pw%  \\\n",
       "81  100.950617  23.864198  14.617284  9.617284  ...  6.4815  5.9790  0.7134   \n",
       "81  102.851852  22.950617  13.962963  8.679012  ...  7.8148  7.3273  0.7573   \n",
       "81   93.160494  22.962963  14.271605  7.197531  ...  0.2840 -0.2119  0.5094   \n",
       "81  106.000000  24.370370  15.271605  9.320988  ...  4.9012  4.3929  0.6614   \n",
       "80   94.737500  20.350000  15.125000  7.150000  ...  4.2000  3.7111  0.6383   \n",
       "81  106.086420  23.209877  16.469136  8.296296  ...  3.5679  3.0627  0.6175   \n",
       "81  105.925926  21.444444  15.358025  8.283951  ...  9.3951  8.8929  0.8094   \n",
       "80   96.600000  22.800000  14.600000  8.250000  ...  0.0750 -0.4192  0.5025   \n",
       "81  102.246914  22.111111  15.049383  7.037037  ...  1.1235  0.6188  0.5370   \n",
       "81   96.802469  20.246914  14.592593  7.234568  ...  1.7531  1.2614  0.5577   \n",
       "\n",
       "    total_wpc  home_wpc  away_wpc  conf_wpc  streak  lastTen_wpc  lastFive_wpc  \n",
       "81   0.679012  0.780488  0.575000  0.666667       6          0.7           1.0  \n",
       "81   0.802469  0.900000  0.707317  0.784314       7          0.9           1.0  \n",
       "81   0.543210  0.575000  0.512195  0.647059       1          0.5           0.4  \n",
       "81   0.691358  0.925000  0.463415  0.725490       2          0.7           0.8  \n",
       "80   0.612500  0.750000  0.475000  0.620000      -2          0.6           0.2  \n",
       "81   0.555556  0.707317  0.400000  0.470588      -1          0.6           0.4  \n",
       "81   0.740741  0.850000  0.634146  0.750000       4          0.8           0.8  \n",
       "80   0.512500  0.675000  0.350000  0.540000       1          0.5           0.4  \n",
       "81   0.543210  0.700000  0.390244  0.529412       4          0.8           0.8  \n",
       "81   0.592593  0.625000  0.560976  0.686275       1          0.6           0.8  \n",
       "\n",
       "[10 rows x 123 columns]"
      ]
     },
     "execution_count": 29,
     "metadata": {},
     "output_type": "execute_result"
    }
   ],
   "source": [
    "all_seasons[0].tail(10)"
   ]
  },
  {
   "cell_type": "code",
   "execution_count": 30,
   "metadata": {},
   "outputs": [],
   "source": [
    "# for every season...\n",
    "for i in range(len(all_seasons)):\n",
    "    # get the data for every oppt from that season\n",
    "    list_of_teams = all_team_data(all_seasons[i], which_team=1)\n",
    "    \n",
    "    # for each oppt, compute averages for various columns\n",
    "    for k in range(len(list_of_teams)):\n",
    "        list_of_teams[k] = compute_averages(list_of_teams[k], oppt_cols)\n",
    "    \n",
    "    # once every oppt's averages have been computed, join them back into one season\n",
    "    season_df = pd.concat(list_of_teams)\n",
    "    \n",
    "    # then sort the season by game date and assign it back into all_seasons\n",
    "    season_df = season_df.sort_values(by='gmDate')\n",
    "    all_seasons[i] = season_df"
   ]
  },
  {
   "cell_type": "markdown",
   "metadata": {},
   "source": [
    "Join all the seasons data back together."
   ]
  },
  {
   "cell_type": "code",
   "execution_count": 65,
   "metadata": {},
   "outputs": [],
   "source": [
    "# all season data should already be sorted, so we can just concatenate everything together\n",
    "tbs_avgs = pd.concat(all_seasons)"
   ]
  },
  {
   "cell_type": "code",
   "execution_count": 66,
   "metadata": {},
   "outputs": [],
   "source": [
    "# giving each game instance a unique index again\n",
    "tbs_avgs = tbs_avgs.reset_index()\n",
    "tbs_avgs = tbs_avgs.drop(['index', 'gmDate', 'teamAbbr', 'opptAbbr'], axis=1)"
   ]
  },
  {
   "cell_type": "code",
   "execution_count": 67,
   "metadata": {},
   "outputs": [
    {
     "data": {
      "text/html": [
       "<div>\n",
       "<style scoped>\n",
       "    .dataframe tbody tr th:only-of-type {\n",
       "        vertical-align: middle;\n",
       "    }\n",
       "\n",
       "    .dataframe tbody tr th {\n",
       "        vertical-align: top;\n",
       "    }\n",
       "\n",
       "    .dataframe thead th {\n",
       "        text-align: right;\n",
       "    }\n",
       "</style>\n",
       "<table border=\"1\" class=\"dataframe\">\n",
       "  <thead>\n",
       "    <tr style=\"text-align: right;\">\n",
       "      <th></th>\n",
       "      <th>teamPTS</th>\n",
       "      <th>ptsScore</th>\n",
       "    </tr>\n",
       "  </thead>\n",
       "  <tbody>\n",
       "    <tr>\n",
       "      <th>180</th>\n",
       "      <td>95.750000</td>\n",
       "      <td>95.8</td>\n",
       "    </tr>\n",
       "    <tr>\n",
       "      <th>181</th>\n",
       "      <td>90.600000</td>\n",
       "      <td>90.6</td>\n",
       "    </tr>\n",
       "    <tr>\n",
       "      <th>182</th>\n",
       "      <td>97.833333</td>\n",
       "      <td>97.8</td>\n",
       "    </tr>\n",
       "    <tr>\n",
       "      <th>183</th>\n",
       "      <td>96.000000</td>\n",
       "      <td>96.0</td>\n",
       "    </tr>\n",
       "    <tr>\n",
       "      <th>184</th>\n",
       "      <td>91.666667</td>\n",
       "      <td>91.7</td>\n",
       "    </tr>\n",
       "    <tr>\n",
       "      <th>185</th>\n",
       "      <td>98.500000</td>\n",
       "      <td>98.5</td>\n",
       "    </tr>\n",
       "    <tr>\n",
       "      <th>186</th>\n",
       "      <td>91.833333</td>\n",
       "      <td>91.8</td>\n",
       "    </tr>\n",
       "    <tr>\n",
       "      <th>187</th>\n",
       "      <td>99.000000</td>\n",
       "      <td>99.0</td>\n",
       "    </tr>\n",
       "    <tr>\n",
       "      <th>188</th>\n",
       "      <td>94.500000</td>\n",
       "      <td>94.5</td>\n",
       "    </tr>\n",
       "    <tr>\n",
       "      <th>189</th>\n",
       "      <td>97.400000</td>\n",
       "      <td>97.4</td>\n",
       "    </tr>\n",
       "    <tr>\n",
       "      <th>190</th>\n",
       "      <td>94.500000</td>\n",
       "      <td>94.5</td>\n",
       "    </tr>\n",
       "    <tr>\n",
       "      <th>191</th>\n",
       "      <td>100.142857</td>\n",
       "      <td>100.1</td>\n",
       "    </tr>\n",
       "    <tr>\n",
       "      <th>192</th>\n",
       "      <td>95.142857</td>\n",
       "      <td>95.1</td>\n",
       "    </tr>\n",
       "    <tr>\n",
       "      <th>193</th>\n",
       "      <td>88.666667</td>\n",
       "      <td>88.7</td>\n",
       "    </tr>\n",
       "    <tr>\n",
       "      <th>194</th>\n",
       "      <td>104.714286</td>\n",
       "      <td>104.7</td>\n",
       "    </tr>\n",
       "    <tr>\n",
       "      <th>195</th>\n",
       "      <td>91.428571</td>\n",
       "      <td>91.4</td>\n",
       "    </tr>\n",
       "    <tr>\n",
       "      <th>196</th>\n",
       "      <td>104.428571</td>\n",
       "      <td>104.4</td>\n",
       "    </tr>\n",
       "    <tr>\n",
       "      <th>197</th>\n",
       "      <td>96.666667</td>\n",
       "      <td>96.7</td>\n",
       "    </tr>\n",
       "    <tr>\n",
       "      <th>198</th>\n",
       "      <td>94.666667</td>\n",
       "      <td>94.7</td>\n",
       "    </tr>\n",
       "    <tr>\n",
       "      <th>199</th>\n",
       "      <td>98.833333</td>\n",
       "      <td>98.8</td>\n",
       "    </tr>\n",
       "  </tbody>\n",
       "</table>\n",
       "</div>"
      ],
      "text/plain": [
       "        teamPTS  ptsScore\n",
       "180   95.750000      95.8\n",
       "181   90.600000      90.6\n",
       "182   97.833333      97.8\n",
       "183   96.000000      96.0\n",
       "184   91.666667      91.7\n",
       "185   98.500000      98.5\n",
       "186   91.833333      91.8\n",
       "187   99.000000      99.0\n",
       "188   94.500000      94.5\n",
       "189   97.400000      97.4\n",
       "190   94.500000      94.5\n",
       "191  100.142857     100.1\n",
       "192   95.142857      95.1\n",
       "193   88.666667      88.7\n",
       "194  104.714286     104.7\n",
       "195   91.428571      91.4\n",
       "196  104.428571     104.4\n",
       "197   96.666667      96.7\n",
       "198   94.666667      94.7\n",
       "199   98.833333      98.8"
      ]
     },
     "execution_count": 67,
     "metadata": {},
     "output_type": "execute_result"
    }
   ],
   "source": [
    "tbs_avgs[['teamPTS', 'ptsScore']].head(200)[180:]"
   ]
  },
  {
   "cell_type": "markdown",
   "metadata": {},
   "source": [
    "Drop these columns as we will no longer need them. Before you do that though, check if teamPTS = ptsScore as it should be. Yes it does."
   ]
  },
  {
   "cell_type": "code",
   "execution_count": 68,
   "metadata": {},
   "outputs": [],
   "source": [
    "# ptsScore is redundant with teamPTS\n",
    "tbs_avgs = tbs_avgs.drop('ptsScore', axis=1)\n",
    "# opptRslt is redundant when paired with teamRslt (just 1 if teamRslt was 0, 0 if teamRslt was 1)\n",
    "tbs_avgs = tbs_avgs.drop('opptRslt', axis=1)\n",
    "\n",
    "team_box_score = team_box_score.drop(['teamAbbr', 'opptAbbr'], axis=1)"
   ]
  },
  {
   "cell_type": "markdown",
   "metadata": {},
   "source": [
    "## V: Exploratory Data Analysis"
   ]
  },
  {
   "cell_type": "markdown",
   "metadata": {},
   "source": [
    "**Test train split before we make plots depicting correlation, potential features, etc.**"
   ]
  },
  {
   "cell_type": "code",
   "execution_count": 69,
   "metadata": {},
   "outputs": [],
   "source": [
    "from sklearn.model_selection import train_test_split\n",
    "from sklearn.linear_model import LogisticRegression\n",
    "from sklearn.model_selection import cross_val_score\n",
    "\n",
    "X, Y = tbs_avgs.loc[:, tbs_avgs.columns != 'teamRslt'], tbs_avgs['teamRslt']\n",
    "X_train, X_test, Y_train, Y_test = train_test_split(X, Y, test_size=0.15)"
   ]
  },
  {
   "cell_type": "markdown",
   "metadata": {},
   "source": [
    "Here, we will investigate features to build a model. Include heatmap depicting correlation and several other plots."
   ]
  },
  {
   "cell_type": "markdown",
   "metadata": {},
   "source": [
    "### i. PCA Analysis"
   ]
  },
  {
   "cell_type": "code",
   "execution_count": 70,
   "metadata": {},
   "outputs": [
    {
     "data": {
      "text/plain": [
       "opptMin       709.919498\n",
       "teamMin       709.919498\n",
       "teamPTS       155.903343\n",
       "opptPTS       155.903343\n",
       "teamOrtg      155.218798\n",
       "opptOrtg      155.218798\n",
       "ptsAllow      151.629155\n",
       "teamDrtg      150.752819\n",
       "opptDrtg      150.752819\n",
       "teamSTL/TO    125.082323\n",
       "opptSTL/TO    125.082323\n",
       "opptFIC       119.044745\n",
       "teamFIC       119.044745\n",
       "teamFGA        94.086568\n",
       "opptFGA        94.086568\n",
       "opptFIC40      82.312495\n",
       "teamFIC40      82.312495\n",
       "opptDREB%      79.164859\n",
       "teamDREB%      76.194817\n",
       "team2PA        67.012119\n",
       "oppt2PA        67.012119\n",
       "opptASST%      59.896534\n",
       "teamASST%      59.896534\n",
       "opptTREB%      33.688092\n",
       "teamTREB%      33.688092\n",
       "dtype: float64"
      ]
     },
     "execution_count": 70,
     "metadata": {},
     "output_type": "execute_result"
    }
   ],
   "source": [
    "np.var(tbs_avgs).sort_values(ascending=False)[:25]"
   ]
  },
  {
   "cell_type": "code",
   "execution_count": 71,
   "metadata": {},
   "outputs": [],
   "source": [
    "# center the data on mean of 0 so we can do an SVD\n",
    "# then divide by the standard deviation to prevent high variance attributes from affecting PC's too much\n",
    "X_train_standardized = np.divide(X_train - np.mean(X_train), np.std(X_train))\n",
    "X_test_standardized = np.divide(X_test - np.mean(X_test), np.std(X_test))"
   ]
  },
  {
   "cell_type": "code",
   "execution_count": 72,
   "metadata": {},
   "outputs": [],
   "source": [
    "# now do a singular value decomposition\n",
    "u, s, vt = np.linalg.svd(X_train_standardized, full_matrices=False)\n",
    "pc_matrix = X_train_standardized @ vt.T"
   ]
  },
  {
   "cell_type": "code",
   "execution_count": 73,
   "metadata": {},
   "outputs": [
    {
     "data": {
      "text/plain": [
       "(12496, 117)"
      ]
     },
     "execution_count": 73,
     "metadata": {},
     "output_type": "execute_result"
    }
   ],
   "source": [
    "pc_matrix.shape"
   ]
  },
  {
   "cell_type": "markdown",
   "metadata": {},
   "source": [
    "Try to show only the variance explained by the first, say, 20 principal components."
   ]
  },
  {
   "cell_type": "code",
   "execution_count": 74,
   "metadata": {},
   "outputs": [],
   "source": [
    "lst = []\n",
    "for i in range(20):\n",
    "    lst.append(s[i]**2 / (sum(s**2)))"
   ]
  },
  {
   "cell_type": "code",
   "execution_count": 75,
   "metadata": {
    "scrolled": true
   },
   "outputs": [
    {
     "data": {
      "text/plain": [
       "Text(0.5, 1.0, 'Scree Plot of Variance of PC #i')"
      ]
     },
     "execution_count": 75,
     "metadata": {},
     "output_type": "execute_result"
    },
    {
     "data": {
      "image/png": "[encoded data removed]",
      "text/plain": [
       "<Figure size 432x288 with 1 Axes>"
      ]
     },
     "metadata": {
      "needs_background": "light"
     },
     "output_type": "display_data"
    }
   ],
   "source": [
    "plt.plot(np.arange(1, 21), lst);\n",
    "plt.xticks(np.arange(1, 21), np.arange(1, 21));\n",
    "plt.xlabel('PC #');\n",
    "plt.ylabel('Variance Explained');\n",
    "plt.title('Scree Plot of Variance of PC #i')"
   ]
  },
  {
   "cell_type": "code",
   "execution_count": 76,
   "metadata": {},
   "outputs": [],
   "source": [
    "def plot_pc(col_names, vt, k):\n",
    "    plt.bar(col_names, vt[k, :], alpha=0.7)\n",
    "    plt.xticks(col_names, rotation=90);"
   ]
  },
  {
   "cell_type": "code",
   "execution_count": 77,
   "metadata": {},
   "outputs": [
    {
     "data": {
      "text/plain": [
       "Text(0.5, 1.0, 'Values of the 1st Principal Component Direction')"
      ]
     },
     "execution_count": 77,
     "metadata": {},
     "output_type": "execute_result"
    },
    {
     "data": {
      "image/png": "[encoded data removed]",
      "text/plain": [
       "<Figure size 1944x648 with 1 Axes>"
      ]
     },
     "metadata": {
      "needs_background": "light"
     },
     "output_type": "display_data"
    }
   ],
   "source": [
    "with plt.rc_context({\"figure.figsize\": (27, 9)}):\n",
    "    plot_pc(X_train_standardized.columns, vt, 0);\n",
    "plt.title('Values of the 1st Principal Component Direction')"
   ]
  },
  {
   "cell_type": "code",
   "execution_count": 78,
   "metadata": {},
   "outputs": [
    {
     "data": {
      "text/plain": [
       "(12496, 117)"
      ]
     },
     "execution_count": 78,
     "metadata": {},
     "output_type": "execute_result"
    }
   ],
   "source": [
    "pc_matrix.shape"
   ]
  },
  {
   "cell_type": "markdown",
   "metadata": {},
   "source": [
    "### ii. Investigating Correlation"
   ]
  },
  {
   "cell_type": "markdown",
   "metadata": {},
   "source": [
    "## MUST USE ORIGINAL DATA FOR THIS, HAVING AVERAGES MESSES IT UP"
   ]
  },
  {
   "cell_type": "code",
   "execution_count": 79,
   "metadata": {},
   "outputs": [],
   "source": [
    "columns_of_interest = ['teamFGA', 'teamORB', 'teamSTL', 'teamOrtg', 'teamTO%', 'teamDrtg', 'teamDRB', 'teamBLKR']"
   ]
  },
  {
   "cell_type": "code",
   "execution_count": 80,
   "metadata": {
    "scrolled": true
   },
   "outputs": [
    {
     "data": {
      "text/plain": [
       "Text(0.5, 1, 'Correlation between Various NBA Statistics')"
      ]
     },
     "execution_count": 80,
     "metadata": {},
     "output_type": "execute_result"
    },
    {
     "data": {
      "image/png": "[encoded data removed]",
      "text/plain": [
       "<Figure size 432x288 with 2 Axes>"
      ]
     },
     "metadata": {
      "needs_background": "light"
     },
     "output_type": "display_data"
    }
   ],
   "source": [
    "team_box_score_simple = team_box_score[columns_of_interest]\n",
    "sns.heatmap(team_box_score_simple.corr())\n",
    "plt.title('Correlation between Various NBA Statistics')"
   ]
  },
  {
   "cell_type": "code",
   "execution_count": 81,
   "metadata": {
    "scrolled": true
   },
   "outputs": [
    {
     "data": {
      "text/plain": [
       "<matplotlib.axes._subplots.AxesSubplot at 0x7f81b4829df0>"
      ]
     },
     "execution_count": 81,
     "metadata": {},
     "output_type": "execute_result"
    },
    {
     "data": {
      "image/png": "[encoded data removed]",
      "text/plain": [
       "<Figure size 432x288 with 1 Axes>"
      ]
     },
     "metadata": {
      "needs_background": "light"
     },
     "output_type": "display_data"
    }
   ],
   "source": [
    "sns.scatterplot(x='teamORB', y='teamFGA', data=team_box_score_simple)"
   ]
  },
  {
   "cell_type": "code",
   "execution_count": 82,
   "metadata": {},
   "outputs": [
    {
     "data": {
      "text/plain": [
       "<matplotlib.axes._subplots.AxesSubplot at 0x7f81b479aeb0>"
      ]
     },
     "execution_count": 82,
     "metadata": {},
     "output_type": "execute_result"
    },
    {
     "data": {
      "image/png": "[encoded data removed]",
      "text/plain": [
       "<Figure size 432x288 with 1 Axes>"
      ]
     },
     "metadata": {
      "needs_background": "light"
     },
     "output_type": "display_data"
    }
   ],
   "source": [
    "sns.scatterplot(x='teamTO%', y='teamFGA', data=team_box_score_simple)"
   ]
  },
  {
   "cell_type": "code",
   "execution_count": 83,
   "metadata": {},
   "outputs": [
    {
     "data": {
      "image/png": "[encoded data removed]",
      "text/plain": [
       "<Figure size 432x288 with 2 Axes>"
      ]
     },
     "metadata": {
      "needs_background": "light"
     },
     "output_type": "display_data"
    }
   ],
   "source": [
    "plt.hexbin(x=team_box_score_simple['teamTO%'], y=team_box_score_simple['teamFGA'], bins='log')\n",
    "plt.colorbar().set_label('log10(N)')\n",
    "plt.xlabel('Team TO%')\n",
    "plt.ylabel('Team FGA')\n",
    "plt.title('Team FGA vs TO%')\n",
    "plt.show()"
   ]
  },
  {
   "cell_type": "code",
   "execution_count": null,
   "metadata": {},
   "outputs": [],
   "source": []
  },
  {
   "cell_type": "markdown",
   "metadata": {},
   "source": []
  },
  {
   "cell_type": "markdown",
   "metadata": {},
   "source": [
    "### iii. Analyzing Categorical Data"
   ]
  },
  {
   "cell_type": "code",
   "execution_count": 84,
   "metadata": {},
   "outputs": [],
   "source": [
    "df = get_nth_season(team_box_score, 2)\n",
    "home_games = df[df['teamLoc'] == 0].groupby('gmDate').mean()\n",
    "away_games = df[df['teamLoc'] == 1].groupby('gmDate').mean()\n",
    "\n",
    "home_games['teamRslt'] = home_games.teamRslt.expanding().mean()\n",
    "away_games['teamRslt'] = away_games.teamRslt.expanding().mean()\n",
    "\n",
    "# join em back together\n",
    "home_games = home_games.assign(teamLoc='Home')\n",
    "away_games = away_games.assign(teamLoc='Away')\n",
    "\n",
    "df = pd.concat([home_games, away_games])\n",
    "df = df.sort_values(by='gmDate')\n",
    "df = df.reset_index()"
   ]
  },
  {
   "cell_type": "code",
   "execution_count": 85,
   "metadata": {},
   "outputs": [
    {
     "data": {
      "text/plain": [
       "<matplotlib.axes._subplots.AxesSubplot at 0x7f81b476dc40>"
      ]
     },
     "execution_count": 85,
     "metadata": {},
     "output_type": "execute_result"
    },
    {
     "data": {
      "image/png": "[encoded data removed]",
      "text/plain": [
       "<Figure size 432x288 with 1 Axes>"
      ]
     },
     "metadata": {
      "needs_background": "light"
     },
     "output_type": "display_data"
    }
   ],
   "source": [
    "sns.lineplot(x=\"gmDate\", y=\"teamRslt\", hue=\"teamLoc\", data=df)"
   ]
  },
  {
   "cell_type": "markdown",
   "metadata": {},
   "source": [
    "## VI: Inference and Prediction"
   ]
  },
  {
   "cell_type": "markdown",
   "metadata": {},
   "source": [
    "This is where we will build a model. Make sure to have training, val (so we can say we did cross validation), and test data. We have 6 seasons total; we can make 4 of them and the first 30 games of the 5th season training data, remainder of the 5th season val data, and the 6th season test data (or something, may be better to not make beginning of season data test as we'll prolly fail a lot of initial games just because all stats would be 0)."
   ]
  },
  {
   "cell_type": "code",
   "execution_count": 108,
   "metadata": {},
   "outputs": [
    {
     "data": {
      "text/html": [
       "<div>\n",
       "<style scoped>\n",
       "    .dataframe tbody tr th:only-of-type {\n",
       "        vertical-align: middle;\n",
       "    }\n",
       "\n",
       "    .dataframe tbody tr th {\n",
       "        vertical-align: top;\n",
       "    }\n",
       "\n",
       "    .dataframe thead th {\n",
       "        text-align: right;\n",
       "    }\n",
       "</style>\n",
       "<table border=\"1\" class=\"dataframe\">\n",
       "  <thead>\n",
       "    <tr style=\"text-align: right;\">\n",
       "      <th></th>\n",
       "      <th>teamLoc</th>\n",
       "      <th>teamMin</th>\n",
       "      <th>teamDayOff</th>\n",
       "      <th>teamPTS</th>\n",
       "      <th>teamAST</th>\n",
       "      <th>teamTO</th>\n",
       "      <th>teamSTL</th>\n",
       "      <th>teamBLK</th>\n",
       "      <th>teamPF</th>\n",
       "      <th>teamFGA</th>\n",
       "      <th>teamFGM</th>\n",
       "      <th>teamFG%</th>\n",
       "      <th>team2PA</th>\n",
       "      <th>team2PM</th>\n",
       "      <th>team2P%</th>\n",
       "      <th>team3PA</th>\n",
       "      <th>team3PM</th>\n",
       "      <th>team3P%</th>\n",
       "      <th>teamFTA</th>\n",
       "      <th>teamFTM</th>\n",
       "      <th>teamFT%</th>\n",
       "      <th>teamORB</th>\n",
       "      <th>teamDRB</th>\n",
       "      <th>teamTRB</th>\n",
       "      <th>teamPTS1</th>\n",
       "      <th>teamPTS2</th>\n",
       "      <th>teamPTS3</th>\n",
       "      <th>teamPTS4</th>\n",
       "      <th>teamPTS5</th>\n",
       "      <th>teamPTS6</th>\n",
       "      <th>teamPTS7</th>\n",
       "      <th>teamPTS8</th>\n",
       "      <th>teamTREB%</th>\n",
       "      <th>teamASST%</th>\n",
       "      <th>teamTS%</th>\n",
       "      <th>teamEFG%</th>\n",
       "      <th>teamOREB%</th>\n",
       "      <th>teamDREB%</th>\n",
       "      <th>teamTO%</th>\n",
       "      <th>teamSTL%</th>\n",
       "      <th>teamBLK%</th>\n",
       "      <th>teamBLKR</th>\n",
       "      <th>teamPPS</th>\n",
       "      <th>teamFIC</th>\n",
       "      <th>teamFIC40</th>\n",
       "      <th>teamOrtg</th>\n",
       "      <th>teamDrtg</th>\n",
       "      <th>teamEDiff</th>\n",
       "      <th>teamPlay%</th>\n",
       "      <th>teamAR</th>\n",
       "      <th>teamAST/TO</th>\n",
       "      <th>teamSTL/TO</th>\n",
       "      <th>opptLoc</th>\n",
       "      <th>opptMin</th>\n",
       "      <th>opptDayOff</th>\n",
       "      <th>opptPTS</th>\n",
       "      <th>opptAST</th>\n",
       "      <th>opptTO</th>\n",
       "      <th>opptSTL</th>\n",
       "      <th>opptBLK</th>\n",
       "      <th>opptPF</th>\n",
       "      <th>opptFGA</th>\n",
       "      <th>opptFGM</th>\n",
       "      <th>opptFG%</th>\n",
       "      <th>oppt2PA</th>\n",
       "      <th>oppt2PM</th>\n",
       "      <th>oppt2P%</th>\n",
       "      <th>oppt3PA</th>\n",
       "      <th>oppt3PM</th>\n",
       "      <th>oppt3P%</th>\n",
       "      <th>opptFTA</th>\n",
       "      <th>opptFTM</th>\n",
       "      <th>opptFT%</th>\n",
       "      <th>opptORB</th>\n",
       "      <th>opptDRB</th>\n",
       "      <th>opptTRB</th>\n",
       "      <th>opptPTS1</th>\n",
       "      <th>opptPTS2</th>\n",
       "      <th>opptPTS3</th>\n",
       "      <th>opptPTS4</th>\n",
       "      <th>opptPTS5</th>\n",
       "      <th>opptPTS6</th>\n",
       "      <th>opptPTS7</th>\n",
       "      <th>opptPTS8</th>\n",
       "      <th>opptTREB%</th>\n",
       "      <th>opptASST%</th>\n",
       "      <th>opptTS%</th>\n",
       "      <th>opptEFG%</th>\n",
       "      <th>opptOREB%</th>\n",
       "      <th>opptDREB%</th>\n",
       "      <th>opptTO%</th>\n",
       "      <th>opptSTL%</th>\n",
       "      <th>opptBLK%</th>\n",
       "      <th>opptBLKR</th>\n",
       "      <th>opptPPS</th>\n",
       "      <th>opptFIC</th>\n",
       "      <th>opptFIC40</th>\n",
       "      <th>opptOrtg</th>\n",
       "      <th>opptDrtg</th>\n",
       "      <th>opptEDiff</th>\n",
       "      <th>opptPlay%</th>\n",
       "      <th>opptAR</th>\n",
       "      <th>opptAST/TO</th>\n",
       "      <th>opptSTL/TO</th>\n",
       "      <th>ptsAllow</th>\n",
       "      <th>ptsDiff</th>\n",
       "      <th>sos</th>\n",
       "      <th>mov</th>\n",
       "      <th>srs</th>\n",
       "      <th>pw%</th>\n",
       "      <th>total_wpc</th>\n",
       "      <th>home_wpc</th>\n",
       "      <th>away_wpc</th>\n",
       "      <th>conf_wpc</th>\n",
       "      <th>streak</th>\n",
       "      <th>lastTen_wpc</th>\n",
       "      <th>lastFive_wpc</th>\n",
       "    </tr>\n",
       "  </thead>\n",
       "  <tbody>\n",
       "    <tr>\n",
       "      <th>2890</th>\n",
       "      <td>1.006101</td>\n",
       "      <td>0.042362</td>\n",
       "      <td>-0.874659</td>\n",
       "      <td>0.005235</td>\n",
       "      <td>0.759134</td>\n",
       "      <td>0.380599</td>\n",
       "      <td>-0.808296</td>\n",
       "      <td>0.956909</td>\n",
       "      <td>0.437884</td>\n",
       "      <td>0.389161</td>\n",
       "      <td>0.164855</td>\n",
       "      <td>-0.100922</td>\n",
       "      <td>0.238407</td>\n",
       "      <td>-0.315328</td>\n",
       "      <td>-0.495421</td>\n",
       "      <td>0.323302</td>\n",
       "      <td>0.897421</td>\n",
       "      <td>1.200361</td>\n",
       "      <td>-0.901378</td>\n",
       "      <td>-1.141876</td>\n",
       "      <td>-0.233799</td>\n",
       "      <td>-0.046655</td>\n",
       "      <td>0.365391</td>\n",
       "      <td>0.268177</td>\n",
       "      <td>0.096635</td>\n",
       "      <td>0.235007</td>\n",
       "      <td>-0.403865</td>\n",
       "      <td>0.312630</td>\n",
       "      <td>-1.008801</td>\n",
       "      <td>-0.468299</td>\n",
       "      <td>-0.208455</td>\n",
       "      <td>-0.098315</td>\n",
       "      <td>-0.138149</td>\n",
       "      <td>0.795593</td>\n",
       "      <td>-0.083162</td>\n",
       "      <td>0.068809</td>\n",
       "      <td>-0.374485</td>\n",
       "      <td>0.055884</td>\n",
       "      <td>0.236118</td>\n",
       "      <td>-0.919243</td>\n",
       "      <td>0.848901</td>\n",
       "      <td>0.738399</td>\n",
       "      <td>-0.273589</td>\n",
       "      <td>0.055074</td>\n",
       "      <td>0.103997</td>\n",
       "      <td>-0.172824</td>\n",
       "      <td>0.019610</td>\n",
       "      <td>-0.427733</td>\n",
       "      <td>-0.169621</td>\n",
       "      <td>0.614631</td>\n",
       "      <td>0.111641</td>\n",
       "      <td>-1.000165</td>\n",
       "      <td>-1.006101</td>\n",
       "      <td>0.177010</td>\n",
       "      <td>-0.872437</td>\n",
       "      <td>-0.359328</td>\n",
       "      <td>-0.661369</td>\n",
       "      <td>0.432708</td>\n",
       "      <td>-0.471892</td>\n",
       "      <td>-0.715345</td>\n",
       "      <td>1.314523</td>\n",
       "      <td>-0.307578</td>\n",
       "      <td>-0.531924</td>\n",
       "      <td>-0.136404</td>\n",
       "      <td>0.338047</td>\n",
       "      <td>-0.112939</td>\n",
       "      <td>-0.408073</td>\n",
       "      <td>-1.023130</td>\n",
       "      <td>-0.920851</td>\n",
       "      <td>-0.152466</td>\n",
       "      <td>0.824883</td>\n",
       "      <td>0.811411</td>\n",
       "      <td>0.189607</td>\n",
       "      <td>-0.068107</td>\n",
       "      <td>-0.204061</td>\n",
       "      <td>-0.184264</td>\n",
       "      <td>-0.081990</td>\n",
       "      <td>-0.245510</td>\n",
       "      <td>-0.905971</td>\n",
       "      <td>-0.247374</td>\n",
       "      <td>1.091197</td>\n",
       "      <td>-0.476732</td>\n",
       "      <td>-0.212718</td>\n",
       "      <td>-0.097768</td>\n",
       "      <td>-0.078845</td>\n",
       "      <td>-0.211282</td>\n",
       "      <td>-0.121040</td>\n",
       "      <td>-0.271071</td>\n",
       "      <td>0.207536</td>\n",
       "      <td>0.040868</td>\n",
       "      <td>0.600954</td>\n",
       "      <td>-0.379928</td>\n",
       "      <td>-0.658328</td>\n",
       "      <td>-0.826847</td>\n",
       "      <td>0.042260</td>\n",
       "      <td>-0.983338</td>\n",
       "      <td>-1.022297</td>\n",
       "      <td>-0.231893</td>\n",
       "      <td>0.364675</td>\n",
       "      <td>-1.314804</td>\n",
       "      <td>-0.266523</td>\n",
       "      <td>-0.507222</td>\n",
       "      <td>-0.919152</td>\n",
       "      <td>-0.517691</td>\n",
       "      <td>0.209729</td>\n",
       "      <td>-0.469083</td>\n",
       "      <td>0.553608</td>\n",
       "      <td>-0.462896</td>\n",
       "      <td>-0.471241</td>\n",
       "      <td>-0.408956</td>\n",
       "      <td>-0.140634</td>\n",
       "      <td>0.429808</td>\n",
       "      <td>-1.135179</td>\n",
       "      <td>-0.358910</td>\n",
       "      <td>-0.303113</td>\n",
       "      <td>0.148434</td>\n",
       "      <td>0.446349</td>\n",
       "    </tr>\n",
       "    <tr>\n",
       "      <th>1965</th>\n",
       "      <td>1.006101</td>\n",
       "      <td>0.101191</td>\n",
       "      <td>-0.874659</td>\n",
       "      <td>-0.538722</td>\n",
       "      <td>-0.107233</td>\n",
       "      <td>-0.035939</td>\n",
       "      <td>0.726467</td>\n",
       "      <td>0.345996</td>\n",
       "      <td>-0.104374</td>\n",
       "      <td>-0.096636</td>\n",
       "      <td>-0.217617</td>\n",
       "      <td>-0.007028</td>\n",
       "      <td>1.089086</td>\n",
       "      <td>0.677127</td>\n",
       "      <td>-0.324073</td>\n",
       "      <td>-1.745617</td>\n",
       "      <td>-1.641015</td>\n",
       "      <td>-0.183903</td>\n",
       "      <td>-0.496831</td>\n",
       "      <td>-0.371662</td>\n",
       "      <td>0.290201</td>\n",
       "      <td>1.422982</td>\n",
       "      <td>-0.688928</td>\n",
       "      <td>-0.015704</td>\n",
       "      <td>-0.705363</td>\n",
       "      <td>-0.021465</td>\n",
       "      <td>-0.462273</td>\n",
       "      <td>-0.771697</td>\n",
       "      <td>-0.018652</td>\n",
       "      <td>-0.468299</td>\n",
       "      <td>-0.208455</td>\n",
       "      <td>-0.098315</td>\n",
       "      <td>0.537604</td>\n",
       "      <td>0.166978</td>\n",
       "      <td>-0.288971</td>\n",
       "      <td>-0.347072</td>\n",
       "      <td>1.741097</td>\n",
       "      <td>-0.028040</td>\n",
       "      <td>0.179847</td>\n",
       "      <td>1.212323</td>\n",
       "      <td>0.696181</td>\n",
       "      <td>-0.238050</td>\n",
       "      <td>-0.345639</td>\n",
       "      <td>-0.310001</td>\n",
       "      <td>-0.297545</td>\n",
       "      <td>0.014192</td>\n",
       "      <td>-0.372975</td>\n",
       "      <td>0.850180</td>\n",
       "      <td>0.253232</td>\n",
       "      <td>0.099462</td>\n",
       "      <td>-0.092835</td>\n",
       "      <td>0.586121</td>\n",
       "      <td>-1.006101</td>\n",
       "      <td>0.144014</td>\n",
       "      <td>0.976295</td>\n",
       "      <td>-0.171651</td>\n",
       "      <td>0.253244</td>\n",
       "      <td>0.261281</td>\n",
       "      <td>0.363701</td>\n",
       "      <td>1.364947</td>\n",
       "      <td>0.449742</td>\n",
       "      <td>-0.092428</td>\n",
       "      <td>-0.109345</td>\n",
       "      <td>0.072843</td>\n",
       "      <td>0.715157</td>\n",
       "      <td>0.475342</td>\n",
       "      <td>-0.198570</td>\n",
       "      <td>-1.200559</td>\n",
       "      <td>-1.065290</td>\n",
       "      <td>0.004599</td>\n",
       "      <td>0.336877</td>\n",
       "      <td>0.399415</td>\n",
       "      <td>0.135961</td>\n",
       "      <td>1.037597</td>\n",
       "      <td>-0.537278</td>\n",
       "      <td>-0.038478</td>\n",
       "      <td>-0.579416</td>\n",
       "      <td>-0.017221</td>\n",
       "      <td>-0.115088</td>\n",
       "      <td>-0.086704</td>\n",
       "      <td>0.583193</td>\n",
       "      <td>0.253789</td>\n",
       "      <td>3.054708</td>\n",
       "      <td>-0.097768</td>\n",
       "      <td>0.246165</td>\n",
       "      <td>0.509387</td>\n",
       "      <td>-0.058142</td>\n",
       "      <td>-0.150517</td>\n",
       "      <td>1.274957</td>\n",
       "      <td>-0.456577</td>\n",
       "      <td>0.333640</td>\n",
       "      <td>0.603404</td>\n",
       "      <td>1.551272</td>\n",
       "      <td>0.813808</td>\n",
       "      <td>0.009384</td>\n",
       "      <td>0.007120</td>\n",
       "      <td>-0.025268</td>\n",
       "      <td>0.125584</td>\n",
       "      <td>0.192001</td>\n",
       "      <td>-0.141666</td>\n",
       "      <td>0.225711</td>\n",
       "      <td>0.320016</td>\n",
       "      <td>-0.008296</td>\n",
       "      <td>0.130219</td>\n",
       "      <td>-0.888430</td>\n",
       "      <td>0.781956</td>\n",
       "      <td>0.206669</td>\n",
       "      <td>0.785495</td>\n",
       "      <td>0.781537</td>\n",
       "      <td>0.782916</td>\n",
       "      <td>1.006860</td>\n",
       "      <td>0.833240</td>\n",
       "      <td>0.960187</td>\n",
       "      <td>0.670075</td>\n",
       "      <td>-0.303113</td>\n",
       "      <td>1.463297</td>\n",
       "      <td>1.197336</td>\n",
       "    </tr>\n",
       "    <tr>\n",
       "      <th>5390</th>\n",
       "      <td>1.006101</td>\n",
       "      <td>0.042362</td>\n",
       "      <td>-0.874659</td>\n",
       "      <td>-0.322946</td>\n",
       "      <td>-0.624753</td>\n",
       "      <td>1.279069</td>\n",
       "      <td>1.111289</td>\n",
       "      <td>0.250965</td>\n",
       "      <td>1.097837</td>\n",
       "      <td>-0.429476</td>\n",
       "      <td>-0.938151</td>\n",
       "      <td>-0.477354</td>\n",
       "      <td>-1.879738</td>\n",
       "      <td>-2.089956</td>\n",
       "      <td>-0.161602</td>\n",
       "      <td>1.987771</td>\n",
       "      <td>1.688276</td>\n",
       "      <td>0.097083</td>\n",
       "      <td>0.841861</td>\n",
       "      <td>0.301796</td>\n",
       "      <td>-0.539127</td>\n",
       "      <td>0.613640</td>\n",
       "      <td>-0.248268</td>\n",
       "      <td>0.031348</td>\n",
       "      <td>0.559757</td>\n",
       "      <td>0.033757</td>\n",
       "      <td>-0.856299</td>\n",
       "      <td>-0.757265</td>\n",
       "      <td>-1.008801</td>\n",
       "      <td>-0.468299</td>\n",
       "      <td>-0.208455</td>\n",
       "      <td>-0.098315</td>\n",
       "      <td>0.193424</td>\n",
       "      <td>0.275758</td>\n",
       "      <td>0.023975</td>\n",
       "      <td>0.032922</td>\n",
       "      <td>0.796220</td>\n",
       "      <td>-0.185202</td>\n",
       "      <td>1.402315</td>\n",
       "      <td>1.288070</td>\n",
       "      <td>0.364886</td>\n",
       "      <td>1.743052</td>\n",
       "      <td>0.213995</td>\n",
       "      <td>-0.581616</td>\n",
       "      <td>-0.533981</td>\n",
       "      <td>-0.124643</td>\n",
       "      <td>-0.498178</td>\n",
       "      <td>0.815933</td>\n",
       "      <td>-0.654791</td>\n",
       "      <td>-0.480299</td>\n",
       "      <td>-0.609866</td>\n",
       "      <td>0.914039</td>\n",
       "      <td>-1.006101</td>\n",
       "      <td>0.263744</td>\n",
       "      <td>-0.872437</td>\n",
       "      <td>-0.291339</td>\n",
       "      <td>0.133415</td>\n",
       "      <td>1.061413</td>\n",
       "      <td>1.299697</td>\n",
       "      <td>-0.166664</td>\n",
       "      <td>0.964558</td>\n",
       "      <td>0.039410</td>\n",
       "      <td>-0.057134</td>\n",
       "      <td>0.000742</td>\n",
       "      <td>0.540508</td>\n",
       "      <td>0.438202</td>\n",
       "      <td>-0.044217</td>\n",
       "      <td>-0.718708</td>\n",
       "      <td>-0.890169</td>\n",
       "      <td>-0.495471</td>\n",
       "      <td>-0.484260</td>\n",
       "      <td>-0.386136</td>\n",
       "      <td>0.309720</td>\n",
       "      <td>0.680479</td>\n",
       "      <td>-0.318051</td>\n",
       "      <td>0.001542</td>\n",
       "      <td>-0.500316</td>\n",
       "      <td>-0.156492</td>\n",
       "      <td>-0.333533</td>\n",
       "      <td>-0.434905</td>\n",
       "      <td>0.614767</td>\n",
       "      <td>1.478485</td>\n",
       "      <td>8.116016</td>\n",
       "      <td>-0.097768</td>\n",
       "      <td>0.114856</td>\n",
       "      <td>0.325924</td>\n",
       "      <td>-0.160703</td>\n",
       "      <td>-0.179840</td>\n",
       "      <td>0.704942</td>\n",
       "      <td>-0.190936</td>\n",
       "      <td>1.055736</td>\n",
       "      <td>1.376486</td>\n",
       "      <td>-0.179050</td>\n",
       "      <td>-0.431189</td>\n",
       "      <td>-0.237734</td>\n",
       "      <td>-0.417457</td>\n",
       "      <td>-0.517141</td>\n",
       "      <td>-0.240619</td>\n",
       "      <td>-0.205033</td>\n",
       "      <td>-0.085488</td>\n",
       "      <td>-0.083550</td>\n",
       "      <td>0.136089</td>\n",
       "      <td>-0.853318</td>\n",
       "      <td>0.197307</td>\n",
       "      <td>-0.660664</td>\n",
       "      <td>0.763284</td>\n",
       "      <td>-0.266538</td>\n",
       "      <td>0.767980</td>\n",
       "      <td>0.771518</td>\n",
       "      <td>0.766129</td>\n",
       "      <td>1.331622</td>\n",
       "      <td>0.429808</td>\n",
       "      <td>2.107048</td>\n",
       "      <td>0.692984</td>\n",
       "      <td>-0.303113</td>\n",
       "      <td>0.586722</td>\n",
       "      <td>0.446349</td>\n",
       "    </tr>\n",
       "    <tr>\n",
       "      <th>5176</th>\n",
       "      <td>-0.993936</td>\n",
       "      <td>0.277679</td>\n",
       "      <td>0.051355</td>\n",
       "      <td>0.354491</td>\n",
       "      <td>-0.835595</td>\n",
       "      <td>0.255495</td>\n",
       "      <td>-0.337454</td>\n",
       "      <td>-0.237766</td>\n",
       "      <td>1.249467</td>\n",
       "      <td>0.139261</td>\n",
       "      <td>0.135852</td>\n",
       "      <td>0.112455</td>\n",
       "      <td>-0.109936</td>\n",
       "      <td>0.078068</td>\n",
       "      <td>0.299709</td>\n",
       "      <td>0.398859</td>\n",
       "      <td>0.148390</td>\n",
       "      <td>-0.464184</td>\n",
       "      <td>0.505184</td>\n",
       "      <td>0.949151</td>\n",
       "      <td>0.659809</td>\n",
       "      <td>-0.572326</td>\n",
       "      <td>0.098234</td>\n",
       "      <td>-0.133334</td>\n",
       "      <td>-0.038795</td>\n",
       "      <td>0.475527</td>\n",
       "      <td>0.552923</td>\n",
       "      <td>0.050929</td>\n",
       "      <td>0.489803</td>\n",
       "      <td>3.048663</td>\n",
       "      <td>-0.208455</td>\n",
       "      <td>-0.098315</td>\n",
       "      <td>-0.089267</td>\n",
       "      <td>-1.006640</td>\n",
       "      <td>0.289841</td>\n",
       "      <td>0.138406</td>\n",
       "      <td>-0.574566</td>\n",
       "      <td>0.301827</td>\n",
       "      <td>0.212076</td>\n",
       "      <td>-0.491232</td>\n",
       "      <td>-0.370899</td>\n",
       "      <td>-0.274248</td>\n",
       "      <td>0.339478</td>\n",
       "      <td>-0.365330</td>\n",
       "      <td>-0.451080</td>\n",
       "      <td>0.121247</td>\n",
       "      <td>0.006270</td>\n",
       "      <td>0.256126</td>\n",
       "      <td>-0.043484</td>\n",
       "      <td>-0.852031</td>\n",
       "      <td>-0.679635</td>\n",
       "      <td>-0.831382</td>\n",
       "      <td>0.993936</td>\n",
       "      <td>0.394830</td>\n",
       "      <td>0.976295</td>\n",
       "      <td>-0.317845</td>\n",
       "      <td>-0.072972</td>\n",
       "      <td>0.148453</td>\n",
       "      <td>-0.973843</td>\n",
       "      <td>-0.452814</td>\n",
       "      <td>-0.308604</td>\n",
       "      <td>-0.094014</td>\n",
       "      <td>-0.245318</td>\n",
       "      <td>-0.091801</td>\n",
       "      <td>0.608851</td>\n",
       "      <td>0.466850</td>\n",
       "      <td>-0.122770</td>\n",
       "      <td>-1.048561</td>\n",
       "      <td>-1.336490</td>\n",
       "      <td>-0.810825</td>\n",
       "      <td>0.537097</td>\n",
       "      <td>0.407099</td>\n",
       "      <td>0.004450</td>\n",
       "      <td>-0.505676</td>\n",
       "      <td>0.280396</td>\n",
       "      <td>0.033232</td>\n",
       "      <td>-0.474779</td>\n",
       "      <td>-0.256019</td>\n",
       "      <td>-1.117524</td>\n",
       "      <td>-0.335320</td>\n",
       "      <td>3.552141</td>\n",
       "      <td>6.645844</td>\n",
       "      <td>-0.212718</td>\n",
       "      <td>-0.097768</td>\n",
       "      <td>0.365310</td>\n",
       "      <td>0.225432</td>\n",
       "      <td>-0.248531</td>\n",
       "      <td>-0.350956</td>\n",
       "      <td>-0.537897</td>\n",
       "      <td>0.388259</td>\n",
       "      <td>0.242536</td>\n",
       "      <td>-0.949954</td>\n",
       "      <td>-0.546291</td>\n",
       "      <td>-0.877710</td>\n",
       "      <td>-0.159027</td>\n",
       "      <td>-0.566279</td>\n",
       "      <td>-0.783779</td>\n",
       "      <td>-0.320264</td>\n",
       "      <td>-0.098421</td>\n",
       "      <td>-0.496215</td>\n",
       "      <td>-0.202512</td>\n",
       "      <td>-0.037141</td>\n",
       "      <td>-0.398146</td>\n",
       "      <td>-1.137032</td>\n",
       "      <td>0.250401</td>\n",
       "      <td>0.259134</td>\n",
       "      <td>0.393119</td>\n",
       "      <td>0.254469</td>\n",
       "      <td>0.248030</td>\n",
       "      <td>0.276059</td>\n",
       "      <td>0.682098</td>\n",
       "      <td>0.429808</td>\n",
       "      <td>0.430034</td>\n",
       "      <td>0.382079</td>\n",
       "      <td>0.600011</td>\n",
       "      <td>0.148434</td>\n",
       "      <td>0.446349</td>\n",
       "    </tr>\n",
       "    <tr>\n",
       "      <th>8805</th>\n",
       "      <td>1.006101</td>\n",
       "      <td>0.209699</td>\n",
       "      <td>-0.874659</td>\n",
       "      <td>0.085524</td>\n",
       "      <td>0.070811</td>\n",
       "      <td>-0.165308</td>\n",
       "      <td>-1.178530</td>\n",
       "      <td>1.053449</td>\n",
       "      <td>-0.547952</td>\n",
       "      <td>0.552313</td>\n",
       "      <td>0.208359</td>\n",
       "      <td>-0.201325</td>\n",
       "      <td>0.946668</td>\n",
       "      <td>0.461321</td>\n",
       "      <td>-0.418129</td>\n",
       "      <td>-0.423375</td>\n",
       "      <td>-0.369975</td>\n",
       "      <td>0.142776</td>\n",
       "      <td>-0.200234</td>\n",
       "      <td>-0.013297</td>\n",
       "      <td>0.274394</td>\n",
       "      <td>0.637146</td>\n",
       "      <td>1.158160</td>\n",
       "      <td>1.138117</td>\n",
       "      <td>0.006349</td>\n",
       "      <td>-0.013693</td>\n",
       "      <td>-0.008294</td>\n",
       "      <td>0.073165</td>\n",
       "      <td>0.665829</td>\n",
       "      <td>0.261145</td>\n",
       "      <td>1.066930</td>\n",
       "      <td>9.984798</td>\n",
       "      <td>0.301811</td>\n",
       "      <td>0.003331</td>\n",
       "      <td>-0.239883</td>\n",
       "      <td>-0.286727</td>\n",
       "      <td>0.325870</td>\n",
       "      <td>0.044729</td>\n",
       "      <td>-0.402202</td>\n",
       "      <td>-1.279655</td>\n",
       "      <td>0.929522</td>\n",
       "      <td>0.439383</td>\n",
       "      <td>-0.323968</td>\n",
       "      <td>0.291400</td>\n",
       "      <td>0.235714</td>\n",
       "      <td>-0.072566</td>\n",
       "      <td>-0.133562</td>\n",
       "      <td>0.131608</td>\n",
       "      <td>-0.026156</td>\n",
       "      <td>-0.073406</td>\n",
       "      <td>0.360787</td>\n",
       "      <td>-1.014724</td>\n",
       "      <td>-1.006101</td>\n",
       "      <td>0.168073</td>\n",
       "      <td>0.976295</td>\n",
       "      <td>-0.226835</td>\n",
       "      <td>-1.039105</td>\n",
       "      <td>0.063809</td>\n",
       "      <td>0.229408</td>\n",
       "      <td>0.106910</td>\n",
       "      <td>0.337493</td>\n",
       "      <td>-0.217734</td>\n",
       "      <td>-0.367018</td>\n",
       "      <td>-0.063851</td>\n",
       "      <td>-0.311105</td>\n",
       "      <td>-0.499258</td>\n",
       "      <td>-0.093168</td>\n",
       "      <td>0.076894</td>\n",
       "      <td>0.104935</td>\n",
       "      <td>0.231679</td>\n",
       "      <td>0.125670</td>\n",
       "      <td>0.107433</td>\n",
       "      <td>0.056427</td>\n",
       "      <td>0.305447</td>\n",
       "      <td>-0.193772</td>\n",
       "      <td>-0.039118</td>\n",
       "      <td>-0.793144</td>\n",
       "      <td>-0.054946</td>\n",
       "      <td>-0.130277</td>\n",
       "      <td>-0.010409</td>\n",
       "      <td>0.794914</td>\n",
       "      <td>0.683984</td>\n",
       "      <td>-0.212718</td>\n",
       "      <td>-0.097768</td>\n",
       "      <td>0.279971</td>\n",
       "      <td>-0.776208</td>\n",
       "      <td>0.042210</td>\n",
       "      <td>-0.002376</td>\n",
       "      <td>0.461236</td>\n",
       "      <td>-0.077363</td>\n",
       "      <td>0.292544</td>\n",
       "      <td>0.489806</td>\n",
       "      <td>0.282806</td>\n",
       "      <td>0.424520</td>\n",
       "      <td>0.072868</td>\n",
       "      <td>-0.461058</td>\n",
       "      <td>-0.497656</td>\n",
       "      <td>0.098003</td>\n",
       "      <td>0.045345</td>\n",
       "      <td>0.118467</td>\n",
       "      <td>-0.036550</td>\n",
       "      <td>-0.785172</td>\n",
       "      <td>-0.879720</td>\n",
       "      <td>0.243960</td>\n",
       "      <td>0.055173</td>\n",
       "      <td>0.072412</td>\n",
       "      <td>0.193688</td>\n",
       "      <td>0.078905</td>\n",
       "      <td>0.075773</td>\n",
       "      <td>0.108190</td>\n",
       "      <td>0.371455</td>\n",
       "      <td>0.311468</td>\n",
       "      <td>0.318233</td>\n",
       "      <td>0.287736</td>\n",
       "      <td>-0.303113</td>\n",
       "      <td>-0.289854</td>\n",
       "      <td>-0.304638</td>\n",
       "    </tr>\n",
       "  </tbody>\n",
       "</table>\n",
       "</div>"
      ],
      "text/plain": [
       "       teamLoc   teamMin  teamDayOff   teamPTS   teamAST    teamTO   teamSTL  \\\n",
       "2890  1.006101  0.042362   -0.874659  0.005235  0.759134  0.380599 -0.808296   \n",
       "1965  1.006101  0.101191   -0.874659 -0.538722 -0.107233 -0.035939  0.726467   \n",
       "5390  1.006101  0.042362   -0.874659 -0.322946 -0.624753  1.279069  1.111289   \n",
       "5176 -0.993936  0.277679    0.051355  0.354491 -0.835595  0.255495 -0.337454   \n",
       "8805  1.006101  0.209699   -0.874659  0.085524  0.070811 -0.165308 -1.178530   \n",
       "\n",
       "       teamBLK    teamPF   teamFGA   teamFGM   teamFG%   team2PA   team2PM  \\\n",
       "2890  0.956909  0.437884  0.389161  0.164855 -0.100922  0.238407 -0.315328   \n",
       "1965  0.345996 -0.104374 -0.096636 -0.217617 -0.007028  1.089086  0.677127   \n",
       "5390  0.250965  1.097837 -0.429476 -0.938151 -0.477354 -1.879738 -2.089956   \n",
       "5176 -0.237766  1.249467  0.139261  0.135852  0.112455 -0.109936  0.078068   \n",
       "8805  1.053449 -0.547952  0.552313  0.208359 -0.201325  0.946668  0.461321   \n",
       "\n",
       "       team2P%   team3PA   team3PM   team3P%   teamFTA   teamFTM   teamFT%  \\\n",
       "2890 -0.495421  0.323302  0.897421  1.200361 -0.901378 -1.141876 -0.233799   \n",
       "1965 -0.324073 -1.745617 -1.641015 -0.183903 -0.496831 -0.371662  0.290201   \n",
       "5390 -0.161602  1.987771  1.688276  0.097083  0.841861  0.301796 -0.539127   \n",
       "5176  0.299709  0.398859  0.148390 -0.464184  0.505184  0.949151  0.659809   \n",
       "8805 -0.418129 -0.423375 -0.369975  0.142776 -0.200234 -0.013297  0.274394   \n",
       "\n",
       "       teamORB   teamDRB   teamTRB  teamPTS1  teamPTS2  teamPTS3  teamPTS4  \\\n",
       "2890 -0.046655  0.365391  0.268177  0.096635  0.235007 -0.403865  0.312630   \n",
       "1965  1.422982 -0.688928 -0.015704 -0.705363 -0.021465 -0.462273 -0.771697   \n",
       "5390  0.613640 -0.248268  0.031348  0.559757  0.033757 -0.856299 -0.757265   \n",
       "5176 -0.572326  0.098234 -0.133334 -0.038795  0.475527  0.552923  0.050929   \n",
       "8805  0.637146  1.158160  1.138117  0.006349 -0.013693 -0.008294  0.073165   \n",
       "\n",
       "      teamPTS5  teamPTS6  teamPTS7  teamPTS8  teamTREB%  teamASST%   teamTS%  \\\n",
       "2890 -1.008801 -0.468299 -0.208455 -0.098315  -0.138149   0.795593 -0.083162   \n",
       "1965 -0.018652 -0.468299 -0.208455 -0.098315   0.537604   0.166978 -0.288971   \n",
       "5390 -1.008801 -0.468299 -0.208455 -0.098315   0.193424   0.275758  0.023975   \n",
       "5176  0.489803  3.048663 -0.208455 -0.098315  -0.089267  -1.006640  0.289841   \n",
       "8805  0.665829  0.261145  1.066930  9.984798   0.301811   0.003331 -0.239883   \n",
       "\n",
       "      teamEFG%  teamOREB%  teamDREB%   teamTO%  teamSTL%  teamBLK%  teamBLKR  \\\n",
       "2890  0.068809  -0.374485   0.055884  0.236118 -0.919243  0.848901  0.738399   \n",
       "1965 -0.347072   1.741097  -0.028040  0.179847  1.212323  0.696181 -0.238050   \n",
       "5390  0.032922   0.796220  -0.185202  1.402315  1.288070  0.364886  1.743052   \n",
       "5176  0.138406  -0.574566   0.301827  0.212076 -0.491232 -0.370899 -0.274248   \n",
       "8805 -0.286727   0.325870   0.044729 -0.402202 -1.279655  0.929522  0.439383   \n",
       "\n",
       "       teamPPS   teamFIC  teamFIC40  teamOrtg  teamDrtg  teamEDiff  teamPlay%  \\\n",
       "2890 -0.273589  0.055074   0.103997 -0.172824  0.019610  -0.427733  -0.169621   \n",
       "1965 -0.345639 -0.310001  -0.297545  0.014192 -0.372975   0.850180   0.253232   \n",
       "5390  0.213995 -0.581616  -0.533981 -0.124643 -0.498178   0.815933  -0.654791   \n",
       "5176  0.339478 -0.365330  -0.451080  0.121247  0.006270   0.256126  -0.043484   \n",
       "8805 -0.323968  0.291400   0.235714 -0.072566 -0.133562   0.131608  -0.026156   \n",
       "\n",
       "        teamAR  teamAST/TO  teamSTL/TO   opptLoc   opptMin  opptDayOff  \\\n",
       "2890  0.614631    0.111641   -1.000165 -1.006101  0.177010   -0.872437   \n",
       "1965  0.099462   -0.092835    0.586121 -1.006101  0.144014    0.976295   \n",
       "5390 -0.480299   -0.609866    0.914039 -1.006101  0.263744   -0.872437   \n",
       "5176 -0.852031   -0.679635   -0.831382  0.993936  0.394830    0.976295   \n",
       "8805 -0.073406    0.360787   -1.014724 -1.006101  0.168073    0.976295   \n",
       "\n",
       "       opptPTS   opptAST    opptTO   opptSTL   opptBLK    opptPF   opptFGA  \\\n",
       "2890 -0.359328 -0.661369  0.432708 -0.471892 -0.715345  1.314523 -0.307578   \n",
       "1965 -0.171651  0.253244  0.261281  0.363701  1.364947  0.449742 -0.092428   \n",
       "5390 -0.291339  0.133415  1.061413  1.299697 -0.166664  0.964558  0.039410   \n",
       "5176 -0.317845 -0.072972  0.148453 -0.973843 -0.452814 -0.308604 -0.094014   \n",
       "8805 -0.226835 -1.039105  0.063809  0.229408  0.106910  0.337493 -0.217734   \n",
       "\n",
       "       opptFGM   opptFG%   oppt2PA   oppt2PM   oppt2P%   oppt3PA   oppt3PM  \\\n",
       "2890 -0.531924 -0.136404  0.338047 -0.112939 -0.408073 -1.023130 -0.920851   \n",
       "1965 -0.109345  0.072843  0.715157  0.475342 -0.198570 -1.200559 -1.065290   \n",
       "5390 -0.057134  0.000742  0.540508  0.438202 -0.044217 -0.718708 -0.890169   \n",
       "5176 -0.245318 -0.091801  0.608851  0.466850 -0.122770 -1.048561 -1.336490   \n",
       "8805 -0.367018 -0.063851 -0.311105 -0.499258 -0.093168  0.076894  0.104935   \n",
       "\n",
       "       oppt3P%   opptFTA   opptFTM   opptFT%   opptORB   opptDRB   opptTRB  \\\n",
       "2890 -0.152466  0.824883  0.811411  0.189607 -0.068107 -0.204061 -0.184264   \n",
       "1965  0.004599  0.336877  0.399415  0.135961  1.037597 -0.537278 -0.038478   \n",
       "5390 -0.495471 -0.484260 -0.386136  0.309720  0.680479 -0.318051  0.001542   \n",
       "5176 -0.810825  0.537097  0.407099  0.004450 -0.505676  0.280396  0.033232   \n",
       "8805  0.231679  0.125670  0.107433  0.056427  0.305447 -0.193772 -0.039118   \n",
       "\n",
       "      opptPTS1  opptPTS2  opptPTS3  opptPTS4  opptPTS5  opptPTS6  opptPTS7  \\\n",
       "2890 -0.081990 -0.245510 -0.905971 -0.247374  1.091197 -0.476732 -0.212718   \n",
       "1965 -0.579416 -0.017221 -0.115088 -0.086704  0.583193  0.253789  3.054708   \n",
       "5390 -0.500316 -0.156492 -0.333533 -0.434905  0.614767  1.478485  8.116016   \n",
       "5176 -0.474779 -0.256019 -1.117524 -0.335320  3.552141  6.645844 -0.212718   \n",
       "8805 -0.793144 -0.054946 -0.130277 -0.010409  0.794914  0.683984 -0.212718   \n",
       "\n",
       "      opptPTS8  opptTREB%  opptASST%   opptTS%  opptEFG%  opptOREB%  \\\n",
       "2890 -0.097768  -0.078845  -0.211282 -0.121040 -0.271071   0.207536   \n",
       "1965 -0.097768   0.246165   0.509387 -0.058142 -0.150517   1.274957   \n",
       "5390 -0.097768   0.114856   0.325924 -0.160703 -0.179840   0.704942   \n",
       "5176 -0.097768   0.365310   0.225432 -0.248531 -0.350956  -0.537897   \n",
       "8805 -0.097768   0.279971  -0.776208  0.042210 -0.002376   0.461236   \n",
       "\n",
       "      opptDREB%   opptTO%  opptSTL%  opptBLK%  opptBLKR   opptPPS   opptFIC  \\\n",
       "2890   0.040868  0.600954 -0.379928 -0.658328 -0.826847  0.042260 -0.983338   \n",
       "1965  -0.456577  0.333640  0.603404  1.551272  0.813808  0.009384  0.007120   \n",
       "5390  -0.190936  1.055736  1.376486 -0.179050 -0.431189 -0.237734 -0.417457   \n",
       "5176   0.388259  0.242536 -0.949954 -0.546291 -0.877710 -0.159027 -0.566279   \n",
       "8805  -0.077363  0.292544  0.489806  0.282806  0.424520  0.072868 -0.461058   \n",
       "\n",
       "      opptFIC40  opptOrtg  opptDrtg  opptEDiff  opptPlay%    opptAR  \\\n",
       "2890  -1.022297 -0.231893  0.364675  -1.314804  -0.266523 -0.507222   \n",
       "1965  -0.025268  0.125584  0.192001  -0.141666   0.225711  0.320016   \n",
       "5390  -0.517141 -0.240619 -0.205033  -0.085488  -0.083550  0.136089   \n",
       "5176  -0.783779 -0.320264 -0.098421  -0.496215  -0.202512 -0.037141   \n",
       "8805  -0.497656  0.098003  0.045345   0.118467  -0.036550 -0.785172   \n",
       "\n",
       "      opptAST/TO  opptSTL/TO  ptsAllow   ptsDiff       sos       mov  \\\n",
       "2890   -0.919152   -0.517691  0.209729 -0.469083  0.553608 -0.462896   \n",
       "1965   -0.008296    0.130219 -0.888430  0.781956  0.206669  0.785495   \n",
       "5390   -0.853318    0.197307 -0.660664  0.763284 -0.266538  0.767980   \n",
       "5176   -0.398146   -1.137032  0.250401  0.259134  0.393119  0.254469   \n",
       "8805   -0.879720    0.243960  0.055173  0.072412  0.193688  0.078905   \n",
       "\n",
       "           srs       pw%  total_wpc  home_wpc  away_wpc  conf_wpc    streak  \\\n",
       "2890 -0.471241 -0.408956  -0.140634  0.429808 -1.135179 -0.358910 -0.303113   \n",
       "1965  0.781537  0.782916   1.006860  0.833240  0.960187  0.670075 -0.303113   \n",
       "5390  0.771518  0.766129   1.331622  0.429808  2.107048  0.692984 -0.303113   \n",
       "5176  0.248030  0.276059   0.682098  0.429808  0.430034  0.382079  0.600011   \n",
       "8805  0.075773  0.108190   0.371455  0.311468  0.318233  0.287736 -0.303113   \n",
       "\n",
       "      lastTen_wpc  lastFive_wpc  \n",
       "2890     0.148434      0.446349  \n",
       "1965     1.463297      1.197336  \n",
       "5390     0.586722      0.446349  \n",
       "5176     0.148434      0.446349  \n",
       "8805    -0.289854     -0.304638  "
      ]
     },
     "execution_count": 108,
     "metadata": {},
     "output_type": "execute_result"
    }
   ],
   "source": [
    "X_train_standardized.head()"
   ]
  },
  {
   "cell_type": "code",
   "execution_count": 110,
   "metadata": {},
   "outputs": [],
   "source": [
    "features = ['teamFGA', 'teamFG%', 'teamPTS', 'teamTO', 'teamSTL', 'team3P%', 'teamFTA', 'teamTREB%', 'teamASST%', 'teamTS%', 'teamTO%', 'teamOrtg', 'teamDrtg', 'teamEDiff', 'teamPlay%', 'teamSTL/TO', 'sos', 'mov', 'streak']"
   ]
  },
  {
   "cell_type": "code",
   "execution_count": 88,
   "metadata": {},
   "outputs": [
    {
     "name": "stdout",
     "output_type": "stream",
     "text": [
      "[0.6264128815423089, 0.6255217101949754, 0.623134122552013, 0.6182789228126019, 0.6183432679832925, 0.6172462432222767, 0.6166606328319517, 0.6164045054696271, 0.6160778052814695, 0.6163376008482501]\n"
     ]
    }
   ],
   "source": [
    "cv_errors = []\n",
    "\n",
    "for i in range(20, 30):\n",
    "    model = LogisticRegression(max_iter=200)\n",
    "    model.fit(X_train_standardized.iloc[:,:i], Y_train)\n",
    "    \n",
    "    # compute the cross validation error\n",
    "    cv_error = np.mean(cross_val_score(model, X_train_standardized.iloc[:,:i], Y_train, scoring=rmse_score, cv=5))\n",
    "    \n",
    "    cv_errors.append(cv_error)\n",
    "    \n",
    "print(cv_errors)\n"
   ]
  },
  {
   "cell_type": "code",
   "execution_count": 87,
   "metadata": {},
   "outputs": [],
   "source": [
    "def rmse_score(model, X, y):\n",
    "    return np.sqrt(np.mean((y - model.predict(X)) ** 2))"
   ]
  },
  {
   "cell_type": "code",
   "execution_count": 112,
   "metadata": {},
   "outputs": [
    {
     "ename": "ValueError",
     "evalue": "X has 117 features per sample; expecting 19",
     "output_type": "error",
     "traceback": [
      "\u001b[0;31m---------------------------------------------------------------------------\u001b[0m",
      "\u001b[0;31mValueError\u001b[0m                                Traceback (most recent call last)",
      "\u001b[0;32m<ipython-input-112-7396f9253058>\u001b[0m in \u001b[0;36m<module>\u001b[0;34m\u001b[0m\n\u001b[1;32m      1\u001b[0m \u001b[0;31m#validation_error = np.mean(cross_val_score(model, X_train_standardized, Y_train, scoring=rmse_score, cv=5))\u001b[0m\u001b[0;34m\u001b[0m\u001b[0;34m\u001b[0m\u001b[0;34m\u001b[0m\u001b[0m\n\u001b[0;32m----> 2\u001b[0;31m \u001b[0mtest_accuracy\u001b[0m \u001b[0;34m=\u001b[0m \u001b[0mmodel\u001b[0m\u001b[0;34m.\u001b[0m\u001b[0mscore\u001b[0m\u001b[0;34m(\u001b[0m\u001b[0mX_train_standardized\u001b[0m\u001b[0;34m,\u001b[0m \u001b[0mY_train\u001b[0m\u001b[0;34m)\u001b[0m\u001b[0;34m\u001b[0m\u001b[0;34m\u001b[0m\u001b[0m\n\u001b[0m\u001b[1;32m      3\u001b[0m \u001b[0;31m#cross_val_score(model, X_train, Y_train, scoring=rmse_score, cv=5)\u001b[0m\u001b[0;34m\u001b[0m\u001b[0;34m\u001b[0m\u001b[0;34m\u001b[0m\u001b[0m\n\u001b[1;32m      4\u001b[0m \u001b[0;31m#rmse_score(model, X_test_standardized, Y_test)\u001b[0m\u001b[0;34m\u001b[0m\u001b[0;34m\u001b[0m\u001b[0;34m\u001b[0m\u001b[0m\n\u001b[1;32m      5\u001b[0m \u001b[0;34m(\u001b[0m\u001b[0mmodel\u001b[0m\u001b[0;34m.\u001b[0m\u001b[0mpredict\u001b[0m\u001b[0;34m(\u001b[0m\u001b[0mX_test_standardized\u001b[0m\u001b[0;34m)\u001b[0m \u001b[0;34m==\u001b[0m \u001b[0mY_test\u001b[0m\u001b[0;34m)\u001b[0m\u001b[0;34m.\u001b[0m\u001b[0mall\u001b[0m\u001b[0;34m(\u001b[0m\u001b[0;34m)\u001b[0m\u001b[0;34m\u001b[0m\u001b[0;34m\u001b[0m\u001b[0m\n",
      "\u001b[0;32m/usr/lib/python3.8/site-packages/sklearn/base.py\u001b[0m in \u001b[0;36mscore\u001b[0;34m(self, X, y, sample_weight)\u001b[0m\n\u001b[1;32m    497\u001b[0m         \"\"\"\n\u001b[1;32m    498\u001b[0m         \u001b[0;32mfrom\u001b[0m \u001b[0;34m.\u001b[0m\u001b[0mmetrics\u001b[0m \u001b[0;32mimport\u001b[0m \u001b[0maccuracy_score\u001b[0m\u001b[0;34m\u001b[0m\u001b[0;34m\u001b[0m\u001b[0m\n\u001b[0;32m--> 499\u001b[0;31m         \u001b[0;32mreturn\u001b[0m \u001b[0maccuracy_score\u001b[0m\u001b[0;34m(\u001b[0m\u001b[0my\u001b[0m\u001b[0;34m,\u001b[0m \u001b[0mself\u001b[0m\u001b[0;34m.\u001b[0m\u001b[0mpredict\u001b[0m\u001b[0;34m(\u001b[0m\u001b[0mX\u001b[0m\u001b[0;34m)\u001b[0m\u001b[0;34m,\u001b[0m \u001b[0msample_weight\u001b[0m\u001b[0;34m=\u001b[0m\u001b[0msample_weight\u001b[0m\u001b[0;34m)\u001b[0m\u001b[0;34m\u001b[0m\u001b[0;34m\u001b[0m\u001b[0m\n\u001b[0m\u001b[1;32m    500\u001b[0m \u001b[0;34m\u001b[0m\u001b[0m\n\u001b[1;32m    501\u001b[0m     \u001b[0;32mdef\u001b[0m \u001b[0m_more_tags\u001b[0m\u001b[0;34m(\u001b[0m\u001b[0mself\u001b[0m\u001b[0;34m)\u001b[0m\u001b[0;34m:\u001b[0m\u001b[0;34m\u001b[0m\u001b[0;34m\u001b[0m\u001b[0m\n",
      "\u001b[0;32m/usr/lib/python3.8/site-packages/sklearn/linear_model/_base.py\u001b[0m in \u001b[0;36mpredict\u001b[0;34m(self, X)\u001b[0m\n\u001b[1;32m    305\u001b[0m             \u001b[0mPredicted\u001b[0m \u001b[0;32mclass\u001b[0m \u001b[0mlabel\u001b[0m \u001b[0mper\u001b[0m \u001b[0msample\u001b[0m\u001b[0;34m.\u001b[0m\u001b[0;34m\u001b[0m\u001b[0;34m\u001b[0m\u001b[0m\n\u001b[1;32m    306\u001b[0m         \"\"\"\n\u001b[0;32m--> 307\u001b[0;31m         \u001b[0mscores\u001b[0m \u001b[0;34m=\u001b[0m \u001b[0mself\u001b[0m\u001b[0;34m.\u001b[0m\u001b[0mdecision_function\u001b[0m\u001b[0;34m(\u001b[0m\u001b[0mX\u001b[0m\u001b[0;34m)\u001b[0m\u001b[0;34m\u001b[0m\u001b[0;34m\u001b[0m\u001b[0m\n\u001b[0m\u001b[1;32m    308\u001b[0m         \u001b[0;32mif\u001b[0m \u001b[0mlen\u001b[0m\u001b[0;34m(\u001b[0m\u001b[0mscores\u001b[0m\u001b[0;34m.\u001b[0m\u001b[0mshape\u001b[0m\u001b[0;34m)\u001b[0m \u001b[0;34m==\u001b[0m \u001b[0;36m1\u001b[0m\u001b[0;34m:\u001b[0m\u001b[0;34m\u001b[0m\u001b[0;34m\u001b[0m\u001b[0m\n\u001b[1;32m    309\u001b[0m             \u001b[0mindices\u001b[0m \u001b[0;34m=\u001b[0m \u001b[0;34m(\u001b[0m\u001b[0mscores\u001b[0m \u001b[0;34m>\u001b[0m \u001b[0;36m0\u001b[0m\u001b[0;34m)\u001b[0m\u001b[0;34m.\u001b[0m\u001b[0mastype\u001b[0m\u001b[0;34m(\u001b[0m\u001b[0mnp\u001b[0m\u001b[0;34m.\u001b[0m\u001b[0mint\u001b[0m\u001b[0;34m)\u001b[0m\u001b[0;34m\u001b[0m\u001b[0;34m\u001b[0m\u001b[0m\n",
      "\u001b[0;32m/usr/lib/python3.8/site-packages/sklearn/linear_model/_base.py\u001b[0m in \u001b[0;36mdecision_function\u001b[0;34m(self, X)\u001b[0m\n\u001b[1;32m    284\u001b[0m         \u001b[0mn_features\u001b[0m \u001b[0;34m=\u001b[0m \u001b[0mself\u001b[0m\u001b[0;34m.\u001b[0m\u001b[0mcoef_\u001b[0m\u001b[0;34m.\u001b[0m\u001b[0mshape\u001b[0m\u001b[0;34m[\u001b[0m\u001b[0;36m1\u001b[0m\u001b[0;34m]\u001b[0m\u001b[0;34m\u001b[0m\u001b[0;34m\u001b[0m\u001b[0m\n\u001b[1;32m    285\u001b[0m         \u001b[0;32mif\u001b[0m \u001b[0mX\u001b[0m\u001b[0;34m.\u001b[0m\u001b[0mshape\u001b[0m\u001b[0;34m[\u001b[0m\u001b[0;36m1\u001b[0m\u001b[0;34m]\u001b[0m \u001b[0;34m!=\u001b[0m \u001b[0mn_features\u001b[0m\u001b[0;34m:\u001b[0m\u001b[0;34m\u001b[0m\u001b[0;34m\u001b[0m\u001b[0m\n\u001b[0;32m--> 286\u001b[0;31m             raise ValueError(\"X has %d features per sample; expecting %d\"\n\u001b[0m\u001b[1;32m    287\u001b[0m                              % (X.shape[1], n_features))\n\u001b[1;32m    288\u001b[0m \u001b[0;34m\u001b[0m\u001b[0m\n",
      "\u001b[0;31mValueError\u001b[0m: X has 117 features per sample; expecting 19"
     ]
    }
   ],
   "source": [
    "#validation_error = np.mean(cross_val_score(model, X_train_standardized, Y_train, scoring=rmse_score, cv=5))\n",
    "test_accuracy = model.score(X_train_standardized, Y_train)\n",
    "#cross_val_score(model, X_train, Y_train, scoring=rmse_score, cv=5)\n",
    "#rmse_score(model, X_test_standardized, Y_test)\n",
    "(model.predict(X_test_standardized) == Y_test).all()\n",
    "print(test_accuracy)"
   ]
  },
  {
   "cell_type": "code",
   "execution_count": 122,
   "metadata": {},
   "outputs": [
    {
     "name": "stdout",
     "output_type": "stream",
     "text": [
      "0.6592509603072984\n"
     ]
    }
   ],
   "source": [
    "model = LogisticRegression(max_iter=1000)\n",
    "model.fit(X_train_standardized, Y_train)\n",
    "test_accuracy = model.score(X_train_standardized, Y_train)\n",
    "print(test_accuracy)"
   ]
  },
  {
   "cell_type": "code",
   "execution_count": 148,
   "metadata": {},
   "outputs": [
    {
     "name": "stdout",
     "output_type": "stream",
     "text": [
      "0.6455122393472348\n"
     ]
    }
   ],
   "source": [
    "random_forest_model = ensemble.RandomForestClassifier(random_state=42, n_estimators=100)\n",
    "random_forest_model.fit(X_train, Y_train)\n",
    "test_accuracy = random_forest_model.score(X_test, Y_test)\n",
    "print(test_accuracy)"
   ]
  },
  {
   "cell_type": "code",
   "execution_count": null,
   "metadata": {},
   "outputs": [],
   "source": []
  },
  {
   "cell_type": "code",
   "execution_count": null,
   "metadata": {},
   "outputs": [],
   "source": []
  }
 ],
 "metadata": {
  "kernelspec": {
   "display_name": "Python 3",
   "language": "python",
   "name": "python3"
  },
  "language_info": {
   "codemirror_mode": {
    "name": "ipython",
    "version": 3
   },
   "file_extension": ".py",
   "mimetype": "text/x-python",
   "name": "python",
   "nbconvert_exporter": "python",
   "pygments_lexer": "ipython3",
   "version": "3.8.2"
  }
 },
 "nbformat": 4,
 "nbformat_minor": 4
}
