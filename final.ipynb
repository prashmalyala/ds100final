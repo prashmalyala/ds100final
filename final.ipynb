{
 "cells": [
  {
   "cell_type": "markdown",
   "metadata": {},
   "source": [
    "# DS 100 Final Project: A Basketball Analysis"
   ]
  },
  {
   "cell_type": "markdown",
   "metadata": {},
   "source": [
    "## Which team statistics best predict the outcome of a game?"
   ]
  },
  {
   "cell_type": "markdown",
   "metadata": {},
   "source": [
    "### Creators: Alec Zhou, Prashant Malyala"
   ]
  },
  {
   "cell_type": "markdown",
   "metadata": {},
   "source": [
    "## I. This Project"
   ]
  },
  {
   "cell_type": "markdown",
   "metadata": {},
   "source": [
    "Today, the domain of basketball analysis is saturated with hundreds of team statistics, from simple measures like PTS and REB to more complex computations like SOS (strength of schedule) and FIC (floor impact counter). Dissent among analysts regarding the importance of different statistics naturally prompts the question: which team statistics best predict the outcome of a game?\n",
    "\n",
    "The dataset we've chosen for our analysis includes NBA Team Box Score Statistics from the 2012-2018 seasons and NBA Team Standings data from the 2012-2018 seasons.  In this project, we will discuss our data cleaning and transformation methods, explore relationships between various team statistics, and eventually develop a model that predicts the outcome of a basketball game given basic game information and summary statistics of a team's prior performance that season.\n",
    "\n",
    "Through our search for key statistics, we aim to clarify the underlying principles of effective team basketball; specifically, what patterns do winning teams share? An interesting area for future investigation may explore how performance in these key statistical categories influences a team's success in the playoffs."
   ]
  },
  {
   "cell_type": "markdown",
   "metadata": {},
   "source": [
    "## II. Set Up"
   ]
  },
  {
   "cell_type": "markdown",
   "metadata": {},
   "source": [
    "Below, we will import the necessary libraries for our data analysis."
   ]
  },
  {
   "cell_type": "code",
   "execution_count": 1,
   "metadata": {},
   "outputs": [],
   "source": [
    "import numpy as np\n",
    "import pandas as pd\n",
    "import matplotlib.pyplot as plt\n",
    "import seaborn as sns\n",
    "import sklearn\n",
    "from sklearn import ensemble\n",
    "from datetime import datetime\n",
    "from datetime import date"
   ]
  },
  {
   "cell_type": "markdown",
   "metadata": {},
   "source": [
    "Now, we'll read in the relevant basketball data."
   ]
  },
  {
   "cell_type": "code",
   "execution_count": 2,
   "metadata": {},
   "outputs": [],
   "source": [
    "#from the provided ds100 dataset\n",
    "team_box_score = pd.read_csv('basketball/Basketball-TeamBoxScores.csv')\n",
    "standings = pd.read_csv('basketball/Standings.csv')"
   ]
  },
  {
   "cell_type": "markdown",
   "metadata": {},
   "source": [
    "## III. Data Preview"
   ]
  },
  {
   "cell_type": "markdown",
   "metadata": {},
   "source": [
    "Let's briefly see what our data looks like."
   ]
  },
  {
   "cell_type": "markdown",
   "metadata": {},
   "source": [
    "### i. Standings Data:"
   ]
  },
  {
   "cell_type": "markdown",
   "metadata": {},
   "source": [
    "The granularity of this data is quite fine; it seems that the Standings table has a record representing each team's standing at every date of the season (after the games on that date occur). The columns are rollups and seem to represent aggregate statistics (such as total points scored, current streak, etc.) through each date for each team."
   ]
  },
  {
   "cell_type": "code",
   "execution_count": 3,
   "metadata": {},
   "outputs": [
    {
     "data": {
      "text/html": [
       "<div>\n",
       "<style scoped>\n",
       "    .dataframe tbody tr th:only-of-type {\n",
       "        vertical-align: middle;\n",
       "    }\n",
       "\n",
       "    .dataframe tbody tr th {\n",
       "        vertical-align: top;\n",
       "    }\n",
       "\n",
       "    .dataframe thead th {\n",
       "        text-align: right;\n",
       "    }\n",
       "</style>\n",
       "<table border=\"1\" class=\"dataframe\">\n",
       "  <thead>\n",
       "    <tr style=\"text-align: right;\">\n",
       "      <th></th>\n",
       "      <th>stDate</th>\n",
       "      <th>teamAbbr</th>\n",
       "      <th>rank</th>\n",
       "      <th>rankOrd</th>\n",
       "      <th>gameWon</th>\n",
       "      <th>gameLost</th>\n",
       "      <th>stk</th>\n",
       "      <th>stkType</th>\n",
       "      <th>stkTot</th>\n",
       "      <th>gameBack</th>\n",
       "      <th>...</th>\n",
       "      <th>rel%Indx</th>\n",
       "      <th>mov</th>\n",
       "      <th>srs</th>\n",
       "      <th>pw%</th>\n",
       "      <th>pyth%13.91</th>\n",
       "      <th>wpyth13.91</th>\n",
       "      <th>lpyth13.91</th>\n",
       "      <th>pyth%16.5</th>\n",
       "      <th>wpyth16.5</th>\n",
       "      <th>lpyth16.5</th>\n",
       "    </tr>\n",
       "  </thead>\n",
       "  <tbody>\n",
       "    <tr>\n",
       "      <th>0</th>\n",
       "      <td>2012-10-30</td>\n",
       "      <td>ATL</td>\n",
       "      <td>3</td>\n",
       "      <td>3rd</td>\n",
       "      <td>0</td>\n",
       "      <td>0</td>\n",
       "      <td>-</td>\n",
       "      <td>-</td>\n",
       "      <td>0</td>\n",
       "      <td>0.5</td>\n",
       "      <td>...</td>\n",
       "      <td>0.0</td>\n",
       "      <td>0.0</td>\n",
       "      <td>0.0</td>\n",
       "      <td>0.500</td>\n",
       "      <td>0.0000</td>\n",
       "      <td>0.0000</td>\n",
       "      <td>82.0000</td>\n",
       "      <td>0.000</td>\n",
       "      <td>0.000</td>\n",
       "      <td>82.000</td>\n",
       "    </tr>\n",
       "    <tr>\n",
       "      <th>1</th>\n",
       "      <td>2012-10-30</td>\n",
       "      <td>BKN</td>\n",
       "      <td>3</td>\n",
       "      <td>3rd</td>\n",
       "      <td>0</td>\n",
       "      <td>0</td>\n",
       "      <td>-</td>\n",
       "      <td>-</td>\n",
       "      <td>0</td>\n",
       "      <td>0.5</td>\n",
       "      <td>...</td>\n",
       "      <td>0.0</td>\n",
       "      <td>0.0</td>\n",
       "      <td>0.0</td>\n",
       "      <td>0.500</td>\n",
       "      <td>0.0000</td>\n",
       "      <td>0.0000</td>\n",
       "      <td>82.0000</td>\n",
       "      <td>0.000</td>\n",
       "      <td>0.000</td>\n",
       "      <td>82.000</td>\n",
       "    </tr>\n",
       "    <tr>\n",
       "      <th>2</th>\n",
       "      <td>2012-10-30</td>\n",
       "      <td>BOS</td>\n",
       "      <td>14</td>\n",
       "      <td>14th</td>\n",
       "      <td>0</td>\n",
       "      <td>1</td>\n",
       "      <td>L1</td>\n",
       "      <td>loss</td>\n",
       "      <td>1</td>\n",
       "      <td>1.0</td>\n",
       "      <td>...</td>\n",
       "      <td>0.0</td>\n",
       "      <td>-13.0</td>\n",
       "      <td>-13.0</td>\n",
       "      <td>0.072</td>\n",
       "      <td>0.1687</td>\n",
       "      <td>13.8334</td>\n",
       "      <td>68.1666</td>\n",
       "      <td>0.131</td>\n",
       "      <td>10.742</td>\n",
       "      <td>71.258</td>\n",
       "    </tr>\n",
       "    <tr>\n",
       "      <th>3</th>\n",
       "      <td>2012-10-30</td>\n",
       "      <td>CHA</td>\n",
       "      <td>3</td>\n",
       "      <td>3rd</td>\n",
       "      <td>0</td>\n",
       "      <td>0</td>\n",
       "      <td>-</td>\n",
       "      <td>-</td>\n",
       "      <td>0</td>\n",
       "      <td>0.5</td>\n",
       "      <td>...</td>\n",
       "      <td>0.0</td>\n",
       "      <td>0.0</td>\n",
       "      <td>0.0</td>\n",
       "      <td>0.500</td>\n",
       "      <td>0.0000</td>\n",
       "      <td>0.0000</td>\n",
       "      <td>82.0000</td>\n",
       "      <td>0.000</td>\n",
       "      <td>0.000</td>\n",
       "      <td>82.000</td>\n",
       "    </tr>\n",
       "    <tr>\n",
       "      <th>4</th>\n",
       "      <td>2012-10-30</td>\n",
       "      <td>CHI</td>\n",
       "      <td>3</td>\n",
       "      <td>3rd</td>\n",
       "      <td>0</td>\n",
       "      <td>0</td>\n",
       "      <td>-</td>\n",
       "      <td>-</td>\n",
       "      <td>0</td>\n",
       "      <td>0.5</td>\n",
       "      <td>...</td>\n",
       "      <td>0.0</td>\n",
       "      <td>0.0</td>\n",
       "      <td>0.0</td>\n",
       "      <td>0.500</td>\n",
       "      <td>0.0000</td>\n",
       "      <td>0.0000</td>\n",
       "      <td>82.0000</td>\n",
       "      <td>0.000</td>\n",
       "      <td>0.000</td>\n",
       "      <td>82.000</td>\n",
       "    </tr>\n",
       "  </tbody>\n",
       "</table>\n",
       "<p>5 rows × 39 columns</p>\n",
       "</div>"
      ],
      "text/plain": [
       "       stDate teamAbbr  rank rankOrd  gameWon  gameLost stk stkType  stkTot  \\\n",
       "0  2012-10-30      ATL     3     3rd        0         0   -       -       0   \n",
       "1  2012-10-30      BKN     3     3rd        0         0   -       -       0   \n",
       "2  2012-10-30      BOS    14    14th        0         1  L1    loss       1   \n",
       "3  2012-10-30      CHA     3     3rd        0         0   -       -       0   \n",
       "4  2012-10-30      CHI     3     3rd        0         0   -       -       0   \n",
       "\n",
       "   gameBack  ...  rel%Indx   mov   srs    pw%  pyth%13.91  wpyth13.91  \\\n",
       "0       0.5  ...       0.0   0.0   0.0  0.500      0.0000      0.0000   \n",
       "1       0.5  ...       0.0   0.0   0.0  0.500      0.0000      0.0000   \n",
       "2       1.0  ...       0.0 -13.0 -13.0  0.072      0.1687     13.8334   \n",
       "3       0.5  ...       0.0   0.0   0.0  0.500      0.0000      0.0000   \n",
       "4       0.5  ...       0.0   0.0   0.0  0.500      0.0000      0.0000   \n",
       "\n",
       "   lpyth13.91  pyth%16.5  wpyth16.5  lpyth16.5  \n",
       "0     82.0000      0.000      0.000     82.000  \n",
       "1     82.0000      0.000      0.000     82.000  \n",
       "2     68.1666      0.131     10.742     71.258  \n",
       "3     82.0000      0.000      0.000     82.000  \n",
       "4     82.0000      0.000      0.000     82.000  \n",
       "\n",
       "[5 rows x 39 columns]"
      ]
     },
     "execution_count": 3,
     "metadata": {},
     "output_type": "execute_result"
    }
   ],
   "source": [
    "standings.head(5)"
   ]
  },
  {
   "cell_type": "code",
   "execution_count": 4,
   "metadata": {},
   "outputs": [
    {
     "data": {
      "text/plain": [
       "30"
      ]
     },
     "execution_count": 4,
     "metadata": {},
     "output_type": "execute_result"
    }
   ],
   "source": [
    "#all 30 teams are listed on this date even though not all of them played; must be a full date by date record\n",
    "len(standings[standings['stDate'] == '2012-10-30'])"
   ]
  },
  {
   "cell_type": "markdown",
   "metadata": {},
   "source": [
    "### ii. Team Box Score Data:"
   ]
  },
  {
   "cell_type": "markdown",
   "metadata": {},
   "source": [
    "The granularity of the team box score data is also rather fine; it seems that this table has a record for each game of each season. The column statistics provided match the granularity of each record, as these statistics are generally measured or computed using only data from that game."
   ]
  },
  {
   "cell_type": "code",
   "execution_count": 5,
   "metadata": {},
   "outputs": [
    {
     "data": {
      "text/html": [
       "<div>\n",
       "<style scoped>\n",
       "    .dataframe tbody tr th:only-of-type {\n",
       "        vertical-align: middle;\n",
       "    }\n",
       "\n",
       "    .dataframe tbody tr th {\n",
       "        vertical-align: top;\n",
       "    }\n",
       "\n",
       "    .dataframe thead th {\n",
       "        text-align: right;\n",
       "    }\n",
       "</style>\n",
       "<table border=\"1\" class=\"dataframe\">\n",
       "  <thead>\n",
       "    <tr style=\"text-align: right;\">\n",
       "      <th></th>\n",
       "      <th>gmDate</th>\n",
       "      <th>gmTime</th>\n",
       "      <th>seasTyp</th>\n",
       "      <th>offLNm1</th>\n",
       "      <th>offFNm1</th>\n",
       "      <th>offLNm2</th>\n",
       "      <th>offFNm2</th>\n",
       "      <th>offLNm3</th>\n",
       "      <th>offFNm3</th>\n",
       "      <th>teamAbbr</th>\n",
       "      <th>...</th>\n",
       "      <th>opptFIC40</th>\n",
       "      <th>opptOrtg</th>\n",
       "      <th>opptDrtg</th>\n",
       "      <th>opptEDiff</th>\n",
       "      <th>opptPlay%</th>\n",
       "      <th>opptAR</th>\n",
       "      <th>opptAST/TO</th>\n",
       "      <th>opptSTL/TO</th>\n",
       "      <th>poss</th>\n",
       "      <th>pace</th>\n",
       "    </tr>\n",
       "  </thead>\n",
       "  <tbody>\n",
       "    <tr>\n",
       "      <th>0</th>\n",
       "      <td>2012-10-30</td>\n",
       "      <td>19:00</td>\n",
       "      <td>Regular</td>\n",
       "      <td>Brothers</td>\n",
       "      <td>Tony</td>\n",
       "      <td>Smith</td>\n",
       "      <td>Michael</td>\n",
       "      <td>Workman</td>\n",
       "      <td>Haywoode</td>\n",
       "      <td>WAS</td>\n",
       "      <td>...</td>\n",
       "      <td>61.6667</td>\n",
       "      <td>105.6882</td>\n",
       "      <td>94.4447</td>\n",
       "      <td>11.2435</td>\n",
       "      <td>0.4390</td>\n",
       "      <td>16.7072</td>\n",
       "      <td>1.0476</td>\n",
       "      <td>33.3333</td>\n",
       "      <td>88.9409</td>\n",
       "      <td>88.9409</td>\n",
       "    </tr>\n",
       "    <tr>\n",
       "      <th>1</th>\n",
       "      <td>2012-10-30</td>\n",
       "      <td>19:00</td>\n",
       "      <td>Regular</td>\n",
       "      <td>Brothers</td>\n",
       "      <td>Tony</td>\n",
       "      <td>Smith</td>\n",
       "      <td>Michael</td>\n",
       "      <td>Workman</td>\n",
       "      <td>Haywoode</td>\n",
       "      <td>CLE</td>\n",
       "      <td>...</td>\n",
       "      <td>56.0417</td>\n",
       "      <td>94.4447</td>\n",
       "      <td>105.6882</td>\n",
       "      <td>-11.2435</td>\n",
       "      <td>0.3765</td>\n",
       "      <td>18.8679</td>\n",
       "      <td>2.0000</td>\n",
       "      <td>84.6154</td>\n",
       "      <td>88.9409</td>\n",
       "      <td>88.9409</td>\n",
       "    </tr>\n",
       "    <tr>\n",
       "      <th>2</th>\n",
       "      <td>2012-10-30</td>\n",
       "      <td>20:00</td>\n",
       "      <td>Regular</td>\n",
       "      <td>McCutchen</td>\n",
       "      <td>Monty</td>\n",
       "      <td>Wright</td>\n",
       "      <td>Sean</td>\n",
       "      <td>Fitzgerald</td>\n",
       "      <td>Kane</td>\n",
       "      <td>BOS</td>\n",
       "      <td>...</td>\n",
       "      <td>80.8333</td>\n",
       "      <td>126.3381</td>\n",
       "      <td>112.6515</td>\n",
       "      <td>13.6866</td>\n",
       "      <td>0.5244</td>\n",
       "      <td>19.8287</td>\n",
       "      <td>3.1250</td>\n",
       "      <td>100.0000</td>\n",
       "      <td>94.9832</td>\n",
       "      <td>94.9832</td>\n",
       "    </tr>\n",
       "    <tr>\n",
       "      <th>3</th>\n",
       "      <td>2012-10-30</td>\n",
       "      <td>20:00</td>\n",
       "      <td>Regular</td>\n",
       "      <td>McCutchen</td>\n",
       "      <td>Monty</td>\n",
       "      <td>Wright</td>\n",
       "      <td>Sean</td>\n",
       "      <td>Fitzgerald</td>\n",
       "      <td>Kane</td>\n",
       "      <td>MIA</td>\n",
       "      <td>...</td>\n",
       "      <td>62.7083</td>\n",
       "      <td>112.6515</td>\n",
       "      <td>126.3381</td>\n",
       "      <td>-13.6866</td>\n",
       "      <td>0.4643</td>\n",
       "      <td>18.8501</td>\n",
       "      <td>1.5000</td>\n",
       "      <td>25.0000</td>\n",
       "      <td>94.9832</td>\n",
       "      <td>94.9832</td>\n",
       "    </tr>\n",
       "    <tr>\n",
       "      <th>4</th>\n",
       "      <td>2012-10-30</td>\n",
       "      <td>22:30</td>\n",
       "      <td>Regular</td>\n",
       "      <td>Foster</td>\n",
       "      <td>Scott</td>\n",
       "      <td>Zielinski</td>\n",
       "      <td>Gary</td>\n",
       "      <td>Dalen</td>\n",
       "      <td>Eric</td>\n",
       "      <td>DAL</td>\n",
       "      <td>...</td>\n",
       "      <td>58.6458</td>\n",
       "      <td>99.3678</td>\n",
       "      <td>108.1034</td>\n",
       "      <td>-8.7356</td>\n",
       "      <td>0.5000</td>\n",
       "      <td>18.6567</td>\n",
       "      <td>1.7143</td>\n",
       "      <td>42.8571</td>\n",
       "      <td>91.5790</td>\n",
       "      <td>91.5790</td>\n",
       "    </tr>\n",
       "  </tbody>\n",
       "</table>\n",
       "<p>5 rows × 123 columns</p>\n",
       "</div>"
      ],
      "text/plain": [
       "       gmDate gmTime  seasTyp    offLNm1 offFNm1    offLNm2  offFNm2  \\\n",
       "0  2012-10-30  19:00  Regular   Brothers    Tony      Smith  Michael   \n",
       "1  2012-10-30  19:00  Regular   Brothers    Tony      Smith  Michael   \n",
       "2  2012-10-30  20:00  Regular  McCutchen   Monty     Wright     Sean   \n",
       "3  2012-10-30  20:00  Regular  McCutchen   Monty     Wright     Sean   \n",
       "4  2012-10-30  22:30  Regular     Foster   Scott  Zielinski     Gary   \n",
       "\n",
       "      offLNm3   offFNm3 teamAbbr  ... opptFIC40  opptOrtg  opptDrtg opptEDiff  \\\n",
       "0     Workman  Haywoode      WAS  ...   61.6667  105.6882   94.4447   11.2435   \n",
       "1     Workman  Haywoode      CLE  ...   56.0417   94.4447  105.6882  -11.2435   \n",
       "2  Fitzgerald      Kane      BOS  ...   80.8333  126.3381  112.6515   13.6866   \n",
       "3  Fitzgerald      Kane      MIA  ...   62.7083  112.6515  126.3381  -13.6866   \n",
       "4       Dalen      Eric      DAL  ...   58.6458   99.3678  108.1034   -8.7356   \n",
       "\n",
       "   opptPlay%   opptAR  opptAST/TO  opptSTL/TO     poss     pace  \n",
       "0     0.4390  16.7072      1.0476     33.3333  88.9409  88.9409  \n",
       "1     0.3765  18.8679      2.0000     84.6154  88.9409  88.9409  \n",
       "2     0.5244  19.8287      3.1250    100.0000  94.9832  94.9832  \n",
       "3     0.4643  18.8501      1.5000     25.0000  94.9832  94.9832  \n",
       "4     0.5000  18.6567      1.7143     42.8571  91.5790  91.5790  \n",
       "\n",
       "[5 rows x 123 columns]"
      ]
     },
     "execution_count": 5,
     "metadata": {},
     "output_type": "execute_result"
    }
   ],
   "source": [
    "team_box_score.head(5)"
   ]
  },
  {
   "cell_type": "markdown",
   "metadata": {},
   "source": [
    "Note that for each set of 3 officials, there are 2 games listed on each date. This led us to suspect that the Team Box Score data had two entries per game, one for each team. We can verify this in the cell below."
   ]
  },
  {
   "cell_type": "code",
   "execution_count": 6,
   "metadata": {},
   "outputs": [
    {
     "data": {
      "text/html": [
       "<div>\n",
       "<style scoped>\n",
       "    .dataframe tbody tr th:only-of-type {\n",
       "        vertical-align: middle;\n",
       "    }\n",
       "\n",
       "    .dataframe tbody tr th {\n",
       "        vertical-align: top;\n",
       "    }\n",
       "\n",
       "    .dataframe thead th {\n",
       "        text-align: right;\n",
       "    }\n",
       "</style>\n",
       "<table border=\"1\" class=\"dataframe\">\n",
       "  <thead>\n",
       "    <tr style=\"text-align: right;\">\n",
       "      <th></th>\n",
       "      <th>teamAbbr</th>\n",
       "      <th>opptAbbr</th>\n",
       "    </tr>\n",
       "  </thead>\n",
       "  <tbody>\n",
       "    <tr>\n",
       "      <th>0</th>\n",
       "      <td>WAS</td>\n",
       "      <td>CLE</td>\n",
       "    </tr>\n",
       "    <tr>\n",
       "      <th>1</th>\n",
       "      <td>CLE</td>\n",
       "      <td>WAS</td>\n",
       "    </tr>\n",
       "    <tr>\n",
       "      <th>2</th>\n",
       "      <td>BOS</td>\n",
       "      <td>MIA</td>\n",
       "    </tr>\n",
       "    <tr>\n",
       "      <th>3</th>\n",
       "      <td>MIA</td>\n",
       "      <td>BOS</td>\n",
       "    </tr>\n",
       "    <tr>\n",
       "      <th>4</th>\n",
       "      <td>DAL</td>\n",
       "      <td>LAL</td>\n",
       "    </tr>\n",
       "    <tr>\n",
       "      <th>5</th>\n",
       "      <td>LAL</td>\n",
       "      <td>DAL</td>\n",
       "    </tr>\n",
       "  </tbody>\n",
       "</table>\n",
       "</div>"
      ],
      "text/plain": [
       "  teamAbbr opptAbbr\n",
       "0      WAS      CLE\n",
       "1      CLE      WAS\n",
       "2      BOS      MIA\n",
       "3      MIA      BOS\n",
       "4      DAL      LAL\n",
       "5      LAL      DAL"
      ]
     },
     "execution_count": 6,
     "metadata": {},
     "output_type": "execute_result"
    }
   ],
   "source": [
    "#shows that each game is listed twice, once for each team\n",
    "team_box_score[team_box_score['gmDate'] == '2012-10-30'][['teamAbbr', 'opptAbbr']]"
   ]
  },
  {
   "cell_type": "markdown",
   "metadata": {},
   "source": [
    "So not only do we have all the team and opposing team's statistics per game entry, we have two listings of every game! Certainly there's some redundancy in this data, and this is going to be an important point we will revisit when building our model."
   ]
  },
  {
   "cell_type": "markdown",
   "metadata": {},
   "source": [
    "Finally, let's see how complete this data is. There are 30 teams in the league, 82 games per season, and this data covers the 2012-2013 through 2017-2018 seasons (6 seasons). So we would expect this many records:"
   ]
  },
  {
   "cell_type": "code",
   "execution_count": 7,
   "metadata": {},
   "outputs": [
    {
     "data": {
      "text/plain": [
       "14760"
      ]
     },
     "execution_count": 7,
     "metadata": {},
     "output_type": "execute_result"
    }
   ],
   "source": [
    "30 * 82 * 6"
   ]
  },
  {
   "cell_type": "markdown",
   "metadata": {},
   "source": [
    "Let's see what percentage of records we actually have."
   ]
  },
  {
   "cell_type": "code",
   "execution_count": 8,
   "metadata": {},
   "outputs": [
    {
     "data": {
      "text/plain": [
       "99.98644986449865"
      ]
     },
     "execution_count": 8,
     "metadata": {},
     "output_type": "execute_result"
    }
   ],
   "source": [
    "team_box_score.shape[0] / 14760 * 100"
   ]
  },
  {
   "cell_type": "markdown",
   "metadata": {},
   "source": [
    "While not as perfect as we may have expected, it seems that the vast majority of the data is present. Since the effects of missing just a couple of records won't greatly affect our analysis, we will continue forward."
   ]
  },
  {
   "cell_type": "markdown",
   "metadata": {},
   "source": [
    "## IV: Data Cleaning and Transformations"
   ]
  },
  {
   "cell_type": "markdown",
   "metadata": {},
   "source": [
    "**Section i: Merging Standings, Team Box Score Data**\n",
    "\n",
    "Right now, our standings data has aggregate statistics for each team through a certain date and our team box score data has the game stats for each date. Both tables also have date attributes, so if we were to combine them, we could try and make use of the statistics offered by both. Thus, the first part of this section will be merging the two tables together.\n",
    "\n",
    "**Section ii: Data Cleaning**\n",
    "\n",
    "There are many columns in our data that serve little purpose or can be summarized more effectively using percentages or other measures - in the second section, we focus on cleaning up the data that we have.\n",
    "\n",
    "**Section iii: Data Transformations and Extra Calculations**\n",
    "\n",
    "The third section will set us up for inference and prediction; in this section, we'll be focused on transforming our data to represent real world circumstances. In reality, we will never have the team box score data of a game before the game happens (otherwise, predicting who wins is as easy as seeing who scored more points). So instead, we will restructure the team box score data in our table using the following ideas:\n",
    "\n",
    "1. Consider we're looking at a game, game *i*, in the team box score data. Game *i* was played between team *X* and team *Y*.\n",
    "\n",
    "\n",
    "2. Let's say all the 'team' statistics (teamPTS, teamAST, etc.) for game *i* corresponded to team *X*'s statistics, and all the 'oppt' statistics (opptPTS, opptAST, etc.) for game *i* correspond to team *Y*'s statistics.\n",
    "\n",
    "\n",
    "3. In this case, because game *i* already happened, all the above statistics would be the actual recorded statistics for that game. So we can predict who won game *i* by just seeing who scored more points.\n",
    "\n",
    "\n",
    "4. Now let's pretend we didn't have access to that information. Let's pretend we're analysts and tonight is the night before game *i* happened. What information would we use to predict who's going to win game *i*?\n",
    "\n",
    "\n",
    "5. The easiest information to use would be team *X*'s and team *Y*'s average statistics over games *0* to *i-1*. Based on who was averaging more PTS, or who was averaging more AST, or who was averaging more of whatever we decide to evaluate, we would try to determine who'd win game *i* tomorrow.\n",
    "\n",
    "\n",
    "6. THIS is the inferential scenario we want to simulate in this project. In the real world, if a game was happening tomorrow, we wouldn't have any statistics from that game beforehand. But we would have both teams' averages from the previous games. These averages will be the past performance summary statistics our model will refer to when trying to classify a winner.\n",
    "\n",
    "\n",
    "We also need to restructure the standings data in our table a little bit, though this process is a lot simpler. Basically, the way this data is right now, it represents the team's standings statistics at the end of that game date (i.e. after the game happened). Instead, we want the team's standings statistics before that game happens (i.e. we'll want the standings statistics from, say, the day before). We can achieve this by simply shifting every standings entry for a team down one row.\n",
    "\n",
    "We will walk through each step of this process in section ii. through code commenting and markdown cells, so please refer to those for a more detailed walk through."
   ]
  },
  {
   "cell_type": "markdown",
   "metadata": {},
   "source": [
    "We will be using the following function throughout this section to extract data for each particular season."
   ]
  },
  {
   "cell_type": "code",
   "execution_count": 9,
   "metadata": {},
   "outputs": [],
   "source": [
    "def get_nth_season(data, n):\n",
    "    #1st season begins in 2012 and 6th season begins in 2017\n",
    "    return data[(data['gmDate'] > date(2011 + n, 10, 1)) & (data['gmDate'] < date(2012 + n, 5, 1))]"
   ]
  },
  {
   "cell_type": "markdown",
   "metadata": {},
   "source": [
    "### i. Merging Standings, Team Box Score Data"
   ]
  },
  {
   "cell_type": "markdown",
   "metadata": {},
   "source": [
    "We will want to merge each team's games in the team box score data with what their standing was on that same date. Consequently, we will need to merge on both date and teamAbbr."
   ]
  },
  {
   "cell_type": "code",
   "execution_count": 10,
   "metadata": {},
   "outputs": [],
   "source": [
    "# inner join the tables on the date and teamAbbr\n",
    "# now we'll have each team's stats for that game and their stats up till that date in the season\n",
    "team_box_score = pd.merge(team_box_score, standings, how='inner',\n",
    "                          left_on=['gmDate', 'teamAbbr'], right_on=['stDate', 'teamAbbr'])\n",
    "\n",
    "#drop the added stDate column, which is redundant as we already have a gmDate column\n",
    "team_box_score = team_box_score.drop('stDate', axis=1)"
   ]
  },
  {
   "cell_type": "markdown",
   "metadata": {},
   "source": [
    "Now, we'll make our gmDate column into a datetime object for ease of future manipulation."
   ]
  },
  {
   "cell_type": "code",
   "execution_count": 11,
   "metadata": {},
   "outputs": [],
   "source": [
    "#finally, convert gmDate into a datetime type for ease of manipulation\n",
    "team_box_score['gmDate'] = team_box_score['gmDate'].apply(lambda x: datetime.strptime(x, \"%Y-%m-%d\").date())"
   ]
  },
  {
   "cell_type": "code",
   "execution_count": 12,
   "metadata": {
    "scrolled": true
   },
   "outputs": [
    {
     "data": {
      "text/html": [
       "<div>\n",
       "<style scoped>\n",
       "    .dataframe tbody tr th:only-of-type {\n",
       "        vertical-align: middle;\n",
       "    }\n",
       "\n",
       "    .dataframe tbody tr th {\n",
       "        vertical-align: top;\n",
       "    }\n",
       "\n",
       "    .dataframe thead th {\n",
       "        text-align: right;\n",
       "    }\n",
       "</style>\n",
       "<table border=\"1\" class=\"dataframe\">\n",
       "  <thead>\n",
       "    <tr style=\"text-align: right;\">\n",
       "      <th></th>\n",
       "      <th>gmDate</th>\n",
       "      <th>gmTime</th>\n",
       "      <th>seasTyp</th>\n",
       "      <th>offLNm1</th>\n",
       "      <th>offFNm1</th>\n",
       "      <th>offLNm2</th>\n",
       "      <th>offFNm2</th>\n",
       "      <th>offLNm3</th>\n",
       "      <th>offFNm3</th>\n",
       "      <th>teamAbbr</th>\n",
       "      <th>...</th>\n",
       "      <th>rel%Indx</th>\n",
       "      <th>mov</th>\n",
       "      <th>srs</th>\n",
       "      <th>pw%</th>\n",
       "      <th>pyth%13.91</th>\n",
       "      <th>wpyth13.91</th>\n",
       "      <th>lpyth13.91</th>\n",
       "      <th>pyth%16.5</th>\n",
       "      <th>wpyth16.5</th>\n",
       "      <th>lpyth16.5</th>\n",
       "    </tr>\n",
       "  </thead>\n",
       "  <tbody>\n",
       "    <tr>\n",
       "      <th>0</th>\n",
       "      <td>2012-10-30</td>\n",
       "      <td>19:00</td>\n",
       "      <td>Regular</td>\n",
       "      <td>Brothers</td>\n",
       "      <td>Tony</td>\n",
       "      <td>Smith</td>\n",
       "      <td>Michael</td>\n",
       "      <td>Workman</td>\n",
       "      <td>Haywoode</td>\n",
       "      <td>WAS</td>\n",
       "      <td>...</td>\n",
       "      <td>0.0</td>\n",
       "      <td>-10.0</td>\n",
       "      <td>-10.0</td>\n",
       "      <td>0.1707</td>\n",
       "      <td>0.1730</td>\n",
       "      <td>14.1860</td>\n",
       "      <td>67.8140</td>\n",
       "      <td>0.1352</td>\n",
       "      <td>11.0864</td>\n",
       "      <td>70.9136</td>\n",
       "    </tr>\n",
       "    <tr>\n",
       "      <th>1</th>\n",
       "      <td>2012-10-30</td>\n",
       "      <td>19:00</td>\n",
       "      <td>Regular</td>\n",
       "      <td>Brothers</td>\n",
       "      <td>Tony</td>\n",
       "      <td>Smith</td>\n",
       "      <td>Michael</td>\n",
       "      <td>Workman</td>\n",
       "      <td>Haywoode</td>\n",
       "      <td>CLE</td>\n",
       "      <td>...</td>\n",
       "      <td>0.0</td>\n",
       "      <td>10.0</td>\n",
       "      <td>10.0</td>\n",
       "      <td>0.8293</td>\n",
       "      <td>0.8270</td>\n",
       "      <td>67.8140</td>\n",
       "      <td>14.1860</td>\n",
       "      <td>0.8648</td>\n",
       "      <td>70.9136</td>\n",
       "      <td>11.0864</td>\n",
       "    </tr>\n",
       "    <tr>\n",
       "      <th>2</th>\n",
       "      <td>2012-10-30</td>\n",
       "      <td>20:00</td>\n",
       "      <td>Regular</td>\n",
       "      <td>McCutchen</td>\n",
       "      <td>Monty</td>\n",
       "      <td>Wright</td>\n",
       "      <td>Sean</td>\n",
       "      <td>Fitzgerald</td>\n",
       "      <td>Kane</td>\n",
       "      <td>BOS</td>\n",
       "      <td>...</td>\n",
       "      <td>0.0</td>\n",
       "      <td>-13.0</td>\n",
       "      <td>-13.0</td>\n",
       "      <td>0.0720</td>\n",
       "      <td>0.1687</td>\n",
       "      <td>13.8334</td>\n",
       "      <td>68.1666</td>\n",
       "      <td>0.1310</td>\n",
       "      <td>10.7420</td>\n",
       "      <td>71.2580</td>\n",
       "    </tr>\n",
       "    <tr>\n",
       "      <th>3</th>\n",
       "      <td>2012-10-30</td>\n",
       "      <td>20:00</td>\n",
       "      <td>Regular</td>\n",
       "      <td>McCutchen</td>\n",
       "      <td>Monty</td>\n",
       "      <td>Wright</td>\n",
       "      <td>Sean</td>\n",
       "      <td>Fitzgerald</td>\n",
       "      <td>Kane</td>\n",
       "      <td>MIA</td>\n",
       "      <td>...</td>\n",
       "      <td>0.0</td>\n",
       "      <td>13.0</td>\n",
       "      <td>13.0</td>\n",
       "      <td>0.9280</td>\n",
       "      <td>0.8313</td>\n",
       "      <td>68.1666</td>\n",
       "      <td>13.8334</td>\n",
       "      <td>0.8690</td>\n",
       "      <td>71.2580</td>\n",
       "      <td>10.7420</td>\n",
       "    </tr>\n",
       "    <tr>\n",
       "      <th>4</th>\n",
       "      <td>2012-10-30</td>\n",
       "      <td>22:30</td>\n",
       "      <td>Regular</td>\n",
       "      <td>Foster</td>\n",
       "      <td>Scott</td>\n",
       "      <td>Zielinski</td>\n",
       "      <td>Gary</td>\n",
       "      <td>Dalen</td>\n",
       "      <td>Eric</td>\n",
       "      <td>DAL</td>\n",
       "      <td>...</td>\n",
       "      <td>0.0</td>\n",
       "      <td>8.0</td>\n",
       "      <td>8.0</td>\n",
       "      <td>0.7634</td>\n",
       "      <td>0.7635</td>\n",
       "      <td>62.6070</td>\n",
       "      <td>19.3930</td>\n",
       "      <td>0.8006</td>\n",
       "      <td>65.6492</td>\n",
       "      <td>16.3508</td>\n",
       "    </tr>\n",
       "  </tbody>\n",
       "</table>\n",
       "<p>5 rows × 160 columns</p>\n",
       "</div>"
      ],
      "text/plain": [
       "       gmDate gmTime  seasTyp    offLNm1 offFNm1    offLNm2  offFNm2  \\\n",
       "0  2012-10-30  19:00  Regular   Brothers    Tony      Smith  Michael   \n",
       "1  2012-10-30  19:00  Regular   Brothers    Tony      Smith  Michael   \n",
       "2  2012-10-30  20:00  Regular  McCutchen   Monty     Wright     Sean   \n",
       "3  2012-10-30  20:00  Regular  McCutchen   Monty     Wright     Sean   \n",
       "4  2012-10-30  22:30  Regular     Foster   Scott  Zielinski     Gary   \n",
       "\n",
       "      offLNm3   offFNm3 teamAbbr  ... rel%Indx   mov   srs     pw%  \\\n",
       "0     Workman  Haywoode      WAS  ...      0.0 -10.0 -10.0  0.1707   \n",
       "1     Workman  Haywoode      CLE  ...      0.0  10.0  10.0  0.8293   \n",
       "2  Fitzgerald      Kane      BOS  ...      0.0 -13.0 -13.0  0.0720   \n",
       "3  Fitzgerald      Kane      MIA  ...      0.0  13.0  13.0  0.9280   \n",
       "4       Dalen      Eric      DAL  ...      0.0   8.0   8.0  0.7634   \n",
       "\n",
       "   pyth%13.91  wpyth13.91  lpyth13.91  pyth%16.5  wpyth16.5  lpyth16.5  \n",
       "0      0.1730     14.1860     67.8140     0.1352    11.0864    70.9136  \n",
       "1      0.8270     67.8140     14.1860     0.8648    70.9136    11.0864  \n",
       "2      0.1687     13.8334     68.1666     0.1310    10.7420    71.2580  \n",
       "3      0.8313     68.1666     13.8334     0.8690    71.2580    10.7420  \n",
       "4      0.7635     62.6070     19.3930     0.8006    65.6492    16.3508  \n",
       "\n",
       "[5 rows x 160 columns]"
      ]
     },
     "execution_count": 12,
     "metadata": {},
     "output_type": "execute_result"
    }
   ],
   "source": [
    "team_box_score.head()"
   ]
  },
  {
   "cell_type": "markdown",
   "metadata": {},
   "source": [
    "Our table has a lot of columns on the right, making it quite difficult to read or interpret. In the next section, we will use domain expertise to compute more useful statistics and to replace or drop some columns."
   ]
  },
  {
   "cell_type": "markdown",
   "metadata": {},
   "source": [
    "### ii. Data Cleaning"
   ]
  },
  {
   "cell_type": "markdown",
   "metadata": {},
   "source": [
    "**Dropping or replacing columns:**"
   ]
  },
  {
   "cell_type": "markdown",
   "metadata": {},
   "source": [
    "Rank, or seed, is determined by a variety of factors, including record (wins vs losses) and performance in a team's division. We believe that because our goal is not to predict standing but rather a win or a loss for a given game, rank isn't as effective a measure as winning percentage for our analysis. Also, because of the method by which we will split dataframes and use indices later, we actually won't need the gamePlay column either."
   ]
  },
  {
   "cell_type": "markdown",
   "metadata": {},
   "source": [
    "We also believe that information like totals for ptsFor and ptsAgnst aren't as useful as averages (ptsScore, ptsAllow). Opponent statistics like opptGmPlay and opptGmWon are effectively summarized in the strength of schedule (sos) column. Finally, statistics like rel%Indx and Pythagorean statistics are difficult to interpret; the goal of our analysis is to determine more simple statistics that have important relationships with a team's likelihood of winning. Consequently, we will drop all of these columns below."
   ]
  },
  {
   "cell_type": "code",
   "execution_count": 13,
   "metadata": {},
   "outputs": [],
   "source": [
    "team_box_score = team_box_score.drop(['rank', 'rankOrd', 'gameBack', 'gamePlay', 'ptsFor', 'ptsAgnst', 'opptGmPlay',\n",
    "                            'opptGmWon', 'opptOpptGmPlay', 'opptOpptGmWon', 'rel%Indx', 'pyth%13.91', 'wpyth13.91',\n",
    "                           'lpyth13.91', 'pyth%16.5', 'wpyth16.5', 'lpyth16.5'], axis=1)\n",
    "\n",
    "non_numerical = ['teamConf','teamDiv', 'opptConf','opptDiv']\n",
    "team_box_score = team_box_score.drop(non_numerical, axis=1)"
   ]
  },
  {
   "cell_type": "markdown",
   "metadata": {},
   "source": [
    "In general, we believe like factors like gmTime and the identity of the officials are relatively negligible in determining the outcome of a game. seasTyp is also not very informative, as all of these games seem to have taken place during the regular season."
   ]
  },
  {
   "cell_type": "code",
   "execution_count": 14,
   "metadata": {
    "scrolled": true
   },
   "outputs": [
    {
     "data": {
      "text/plain": [
       "array(['Regular'], dtype=object)"
      ]
     },
     "execution_count": 14,
     "metadata": {},
     "output_type": "execute_result"
    }
   ],
   "source": [
    "# shows that all games took place during the regular season\n",
    "team_box_score['seasTyp'].unique()"
   ]
  },
  {
   "cell_type": "code",
   "execution_count": 15,
   "metadata": {},
   "outputs": [],
   "source": [
    "# dropping these columns\n",
    "team_box_score = team_box_score.drop(['gmTime', 'seasTyp', 'offLNm1', 'offFNm1', 'offLNm2', 'offFNm2',\n",
    "                                      'offLNm3', 'offFNm3'], axis=1)"
   ]
  },
  {
   "cell_type": "markdown",
   "metadata": {},
   "source": [
    "We will also need to drop the possession and pace columns. As we can see from looking at the head of the data above, these statistics are game specific and the same for both teams in a game, meaning they wouldn't make a lot of sense to average for any team. The good thing is we already have stats like offensive rating and defensive rating which are computed using the possession of each game and make more sense to average over the course of a season."
   ]
  },
  {
   "cell_type": "code",
   "execution_count": 16,
   "metadata": {},
   "outputs": [],
   "source": [
    "# dropping these columns\n",
    "team_box_score = team_box_score.drop(['poss', 'pace'], axis=1)"
   ]
  },
  {
   "cell_type": "markdown",
   "metadata": {},
   "source": [
    "**Calculating winning percentages:**"
   ]
  },
  {
   "cell_type": "markdown",
   "metadata": {},
   "source": [
    "There's still a lot of data that could be summarized more easily using numbers and percentages. Let's start with winning percentages."
   ]
  },
  {
   "cell_type": "markdown",
   "metadata": {},
   "source": [
    "The Standings table currently has columns for gameWon, gameLost, homeWin, homeLoss, awayWin, awayLoss, confWin, and confLoss. Let's convert all these numbers into more concise percentages, like total winning percentage, home winning percentage, etc."
   ]
  },
  {
   "cell_type": "code",
   "execution_count": 17,
   "metadata": {},
   "outputs": [],
   "source": [
    "# total winning percentage is (wins) / (wins + losses)\n",
    "team_box_score['total_wpc'] = np.divide(team_box_score['gameWon'], team_box_score['gameWon'] + team_box_score['gameLost'])\n",
    "# wherever there were 0 games played, we divided by 0 (NaN). replace these\n",
    "team_box_score = team_box_score.fillna(0)\n",
    "# can now drop gameWon, gameLost, as this information is summarized by our wpc statistic\n",
    "team_box_score = team_box_score.drop(['gameWon', 'gameLost'], axis=1)\n",
    "\n",
    "# follow the same process as above for home_wpc, away_wpc, and conf_wpc\n",
    "team_box_score['home_wpc'] = np.divide(team_box_score['homeWin'], team_box_score['homeWin'] + team_box_score['homeLoss'])\n",
    "team_box_score['away_wpc'] = np.divide(team_box_score['awayWin'], team_box_score['awayWin'] + team_box_score['awayLoss'])\n",
    "team_box_score['conf_wpc'] = np.divide(team_box_score['confWin'], team_box_score['confWin'] + team_box_score['confLoss'])\n",
    "team_box_score = team_box_score.fillna(0)\n",
    "team_box_score = team_box_score.drop(['homeWin', 'homeLoss', 'awayWin', 'awayLoss', 'confWin', 'confLoss'], axis=1)"
   ]
  },
  {
   "cell_type": "markdown",
   "metadata": {},
   "source": [
    "**Streaks:**"
   ]
  },
  {
   "cell_type": "markdown",
   "metadata": {},
   "source": [
    "Data regarding whether or not a team is on a streak could be quite useful. Right now, this information is encapsulated in strings, but what if we were to represent them more interpretably using numbers?\n",
    "\n",
    "One way we might do this is by representing losing streaks with negative numbers and winning streaks with positive ones. The length of the streak would be the absolute value of the number."
   ]
  },
  {
   "cell_type": "code",
   "execution_count": 18,
   "metadata": {},
   "outputs": [],
   "source": [
    "# function that converts streak strings into numbers\n",
    "def stk_to_num(x):\n",
    "    if x == '-':\n",
    "        return 0\n",
    "    elif x[0] == 'L':\n",
    "        return -1 * int(x[1:])\n",
    "    else:\n",
    "        return int(x[1:])"
   ]
  },
  {
   "cell_type": "code",
   "execution_count": 19,
   "metadata": {},
   "outputs": [],
   "source": [
    "# once we have numerically represented the streaks, there's no point keeping the string data\n",
    "team_box_score['streak'] = team_box_score['stk'].apply(stk_to_num)\n",
    "team_box_score = team_box_score.drop(['stk', 'stkType', 'stkTot'], axis=1)"
   ]
  },
  {
   "cell_type": "markdown",
   "metadata": {},
   "source": [
    "**Last Five/Last Ten:**"
   ]
  },
  {
   "cell_type": "markdown",
   "metadata": {},
   "source": [
    "Finally, we have this information about how many games each team won in their last 5 and last 10 games. Let's represent these as percentages as well."
   ]
  },
  {
   "cell_type": "code",
   "execution_count": 20,
   "metadata": {},
   "outputs": [],
   "source": [
    "team_box_score['lastTen_wpc'] = team_box_score['lastTen'] / 10\n",
    "team_box_score['lastFive_wpc'] = team_box_score['lastFive'] / 5"
   ]
  },
  {
   "cell_type": "code",
   "execution_count": 21,
   "metadata": {},
   "outputs": [],
   "source": [
    "team_box_score = team_box_score.drop(['lastFive', 'lastTen'], axis=1)"
   ]
  },
  {
   "cell_type": "markdown",
   "metadata": {},
   "source": [
    "**Representing wins and home/away games:**"
   ]
  },
  {
   "cell_type": "markdown",
   "metadata": {},
   "source": [
    "When it comes time to train and test our model, we will want our results to be easily interpretable. Rather than using strings for 'Win' and 'Loss' in the teamRslt column, let's convert this to a binary indicator, where 0's represent losses and 1's represent wins."
   ]
  },
  {
   "cell_type": "code",
   "execution_count": 22,
   "metadata": {},
   "outputs": [],
   "source": [
    "#make these columns a binary indicator\n",
    "team_box_score = team_box_score.replace(to_replace=['Loss', 'Win'], value=[0, 1])\n",
    "team_box_score = team_box_score.replace(to_replace=['Home', 'Away'], value=[0, 1])"
   ]
  },
  {
   "cell_type": "markdown",
   "metadata": {},
   "source": [
    "### iii. Data Transformations and Extra Calculations"
   ]
  },
  {
   "cell_type": "markdown",
   "metadata": {},
   "source": [
    "**Getting each season's data:**"
   ]
  },
  {
   "cell_type": "markdown",
   "metadata": {},
   "source": [
    "The first thing we will need to do is split our team box score data by season. We will do so below using our *get_nth_season* function from the beginning of the section."
   ]
  },
  {
   "cell_type": "code",
   "execution_count": 23,
   "metadata": {},
   "outputs": [],
   "source": [
    "# data for each season\n",
    "all_seasons = []\n",
    "for i in range(1, 7):\n",
    "    # compile every season's data into one list\n",
    "    all_seasons.append(get_nth_season(team_box_score, i))"
   ]
  },
  {
   "cell_type": "markdown",
   "metadata": {},
   "source": [
    "**Key functions:**"
   ]
  },
  {
   "cell_type": "markdown",
   "metadata": {},
   "source": [
    "Now, we will need to split each season up by team in order to compute each team's average statistics. We will use the following functions each time in order to do this. The components of these functions end up being quite long, so please refer to the function comments to understand how each one specifically works."
   ]
  },
  {
   "cell_type": "code",
   "execution_count": 24,
   "metadata": {},
   "outputs": [],
   "source": [
    "def all_team_data(season_data, which_team):\n",
    "    \"\"\"\n",
    "    This function takes the data for one season and compiles a list of 30 DataFrames; each DataFrame in the list\n",
    "    represents the season data for one team in the NBA.\n",
    "    \n",
    "    Based on the argument given to which_team, this function will either group by the teamAbbr or the opptAbbr.\n",
    "    The purpose of this is we will need to group by the former to compute the provided team's average stats before\n",
    "    every game, but we will later need to group by the latter to compute the opponent's average stats before\n",
    "    every game.\n",
    "    \"\"\"\n",
    "    if which_team == 0:\n",
    "        teams = season_data['teamAbbr'].unique()\n",
    "        grouped = season_data.groupby('teamAbbr')\n",
    "    else:\n",
    "        teams = season_data['opptAbbr'].unique()\n",
    "        grouped = season_data.groupby('opptAbbr')\n",
    "    teams_data = []\n",
    "    for team in teams:\n",
    "        teams_data.append(grouped.get_group(team))\n",
    "    return teams_data"
   ]
  },
  {
   "cell_type": "code",
   "execution_count": 25,
   "metadata": {},
   "outputs": [],
   "source": [
    "def compute_averages(team, columns):\n",
    "    \"\"\"\n",
    "    This function takes the season data for one team in the NBA and a list of columns. For every column c,\n",
    "    this function replaces every entry, i_c, in the column with the average of its previous entries\n",
    "    mean(0_c, ..., (i-1)_c).\n",
    "    \n",
    "    In other words, say I pass in the 2012-2013 season data for the Washington Wizards and the following\n",
    "    list of columns: ['teamPTS', 'teamAST']. For every game in the season data, I will replace the teamPTS\n",
    "    and teamAST recorded for that game with the Wizards' average teamPTS and teamAST during all games\n",
    "    BEFORE that one. Essentially, it will be like the Wizards' 50th game was tomorrow and I had their season\n",
    "    statistical averages up until that point in time. The point of this transformation is to pretend that\n",
    "    we are analysts looking at stats before a game happens trying to determine who will win using a model.\n",
    "    \n",
    "    This function goes through the entries in reverse order, so entries are only\n",
    "    replaced after all computation involving them has been completed.\n",
    "    \"\"\"\n",
    "    # first reset the index so that all games are numbered 0-81\n",
    "    team = team.reset_index()\n",
    "    team = team.drop('index', axis=1)\n",
    "    \n",
    "    # replace the final entry in each column with the average of the prev n-1 entries\n",
    "    for col in columns:\n",
    "        team.loc[len(team)-1, col] = team.loc[0:(len(team)-2)][col].mean()\n",
    "    \n",
    "    # for each entry, i, in each column, replace that entry with the average of the previous i-1 entries\n",
    "    for i in range(len(team)-2):\n",
    "        ind = len(team) - i - 2\n",
    "        for col in columns:\n",
    "            # for each game, g, compute the team's total, say, pts after game g. then subtract the points scored in game g\n",
    "            # and divide by the number of games that happened before game g. this yields the team's avg pts before game g.\n",
    "            team.loc[ind,col] = (team.loc[ind+1,col]*(ind+1)-team.loc[ind,col])/(ind)\n",
    "\n",
    "    # set all stats before the first game to 0\n",
    "    for col in columns:\n",
    "        team.loc[0,col] = 0\n",
    "    # return the dataframe\n",
    "    return team"
   ]
  },
  {
   "cell_type": "code",
   "execution_count": 26,
   "metadata": {},
   "outputs": [],
   "source": [
    "def adjust_standings(team, columns):\n",
    "    \"\"\"\n",
    "    This function essentially shifts all the standings data that we've added one entry down. This way, the data\n",
    "    we'll use to predict won't include statistics from that game. Then we'll set all standings data for first\n",
    "    games to 0.\n",
    "    \n",
    "    Call this function after calling compute_averages to ensure indices are numbered as desired.\n",
    "    \"\"\"\n",
    "    # for each column we want to shift...\n",
    "    for col in columns:\n",
    "        # let entry n take the value of entry n-1\n",
    "        for i in range(1, len(team)):\n",
    "            ind = len(team) - i\n",
    "            team.loc[ind, col] = team.loc[ind-1, col]\n",
    "        # set entry 0 of each col to 0\n",
    "        team.loc[0, col] = 0\n",
    "    return team"
   ]
  },
  {
   "cell_type": "markdown",
   "metadata": {},
   "source": [
    "**Calling the functions to compute our results:**"
   ]
  },
  {
   "cell_type": "markdown",
   "metadata": {},
   "source": [
    "Note that in order to use the *compute_averages* and *adjust_standings* functions, we will need to pass in a list of labels corresponding to the columns we want to manipulate.\n",
    "\n",
    "We will need to run *compute_averages* several times on 2 main occasions:\n",
    "1. In the first occasion, we will have grouped by the teamAbbr and will be aiming to compute the average stats for the columns corresponding to that teamAbbr.\n",
    "2. In the second occasion, we will have grouped by the opptAbbr and will be aiming to compute the average stats for the columns corresponding to that opptAbbr.\n",
    "\n",
    "Consequently, we will need to make a *team_cols* list and an *oppt_cols* list, one for each occasion.\n",
    "\n",
    "We will also need to make a list of *standings_cols*. This list will include the labels of all standing columns that we will need to shift using the *adjust_standings* function."
   ]
  },
  {
   "cell_type": "code",
   "execution_count": 27,
   "metadata": {},
   "outputs": [],
   "source": [
    "# team cols will be the columns we will aggregate grouping by teamAbbr\n",
    "team_cols = ['teamMin', 'teamPTS', 'teamAST', 'teamTO', 'teamSTL', 'teamBLK', 'teamPF', 'teamFGA',\n",
    "               'teamFGM', 'teamFG%', 'team2PA', 'team2PM', 'team2P%', 'team3PA', 'team3PM', 'team3P%', 'teamFTA',\n",
    "               'teamFTM', 'teamFT%', 'teamORB', 'teamDRB', 'teamTRB', 'teamPTS1', 'teamPTS2', 'teamPTS3', 'teamPTS4',\n",
    "               'teamPTS5', 'teamPTS6', 'teamPTS7', 'teamPTS8', 'teamTREB%', 'teamASST%', 'teamTS%', 'teamEFG%',\n",
    "               'teamOREB%', 'teamDREB%', 'teamTO%', 'teamSTL%', 'teamBLK%', 'teamBLKR', 'teamPPS', 'teamFIC',\n",
    "               'teamFIC40', 'teamOrtg', 'teamDrtg', 'teamEDiff', 'teamPlay%', 'teamAR', 'teamAST/TO', 'teamSTL/TO']\n",
    "# oppt cols will be the columns we will aggregate grouping by opptAbbr\n",
    "oppt_cols = ['opptMin', 'opptPTS', 'opptAST', 'opptTO', 'opptSTL', 'opptBLK', 'opptPF',\n",
    "            'opptFGA', 'opptFGM', 'opptFG%', 'oppt2PA', 'oppt2PM', 'oppt2P%', 'oppt3PA', 'oppt3PM', 'oppt3P%',\n",
    "            'opptFTA', 'opptFTM', 'opptFT%', 'opptORB', 'opptDRB', 'opptTRB', 'opptPTS1', 'opptPTS2', 'opptPTS3',\n",
    "            'opptPTS4', 'opptPTS5', 'opptPTS6', 'opptPTS7', 'opptPTS8', 'opptTREB%', 'opptASST%', 'opptTS%',\n",
    "            'opptEFG%', 'opptOREB%', 'opptDREB%', 'opptTO%', 'opptSTL%', 'opptBLK%', 'opptBLKR', 'opptPPS',\n",
    "            'opptFIC', 'opptFIC40', 'opptOrtg', 'opptDrtg', 'opptEDiff', 'opptPlay%', 'opptAR', 'opptAST/TO',\n",
    "            'opptSTL/TO']\n",
    "# standing cols will be the columns we will need to shift\n",
    "standing_cols = ['ptsScore', 'ptsAllow', 'ptsDiff', 'sos', 'mov', 'srs', 'pw%', 'total_wpc', 'home_wpc', 'away_wpc',\n",
    "                'conf_wpc', 'streak', 'lastTen_wpc', 'lastFive_wpc']"
   ]
  },
  {
   "cell_type": "markdown",
   "metadata": {},
   "source": [
    "In the cell below, we compute the average 'team' statistics before each game for all games in every season. As we iterate, we also adjust the standings data (shifting it one entry down) to ensure this data is temporally situated the way we want."
   ]
  },
  {
   "cell_type": "code",
   "execution_count": 28,
   "metadata": {},
   "outputs": [],
   "source": [
    "# for every season...\n",
    "for i in range(len(all_seasons)):\n",
    "    # get the data for every team from that season\n",
    "    list_of_teams = all_team_data(all_seasons[i], which_team=0)\n",
    "    \n",
    "    # for each team, compute averages for various columns\n",
    "    # (see the compute_averages comments for details)\n",
    "    for k in range(len(list_of_teams)):\n",
    "        list_of_teams[k] = compute_averages(list_of_teams[k], team_cols)\n",
    "        # also for each team, move all their standings data one entry down\n",
    "        # for ex. we want the Wizards' streak number BEFORE game i, not after it.\n",
    "        list_of_teams[k] = adjust_standings(list_of_teams[k], standing_cols)\n",
    "    \n",
    "\n",
    "    # once every team's averages have been computed, join them back into one season\n",
    "    season_df = pd.concat(list_of_teams)\n",
    "    \n",
    "    # then sort the season by game date and assign it back into all_seasons\n",
    "    season_df = season_df.sort_values(by='gmDate')\n",
    "    all_seasons[i] = season_df"
   ]
  },
  {
   "cell_type": "markdown",
   "metadata": {},
   "source": [
    "Now that we've computed the average 'team' statistics before each game for all games in every season, we have to compute these averages for the 'oppt' statistics."
   ]
  },
  {
   "cell_type": "code",
   "execution_count": 29,
   "metadata": {},
   "outputs": [],
   "source": [
    "# for every season...\n",
    "for i in range(len(all_seasons)):\n",
    "    # get the data for every oppt from that season\n",
    "    list_of_teams = all_team_data(all_seasons[i], which_team=1)\n",
    "    \n",
    "    # for each oppt, compute averages for various columns\n",
    "    for k in range(len(list_of_teams)):\n",
    "        list_of_teams[k] = compute_averages(list_of_teams[k], oppt_cols)\n",
    "    \n",
    "    # once every oppt's averages have been computed, join them back into one season\n",
    "    season_df = pd.concat(list_of_teams)\n",
    "    \n",
    "    # then sort the season by game date and assign it back into all_seasons\n",
    "    season_df = season_df.sort_values(by='gmDate')\n",
    "    all_seasons[i] = season_df"
   ]
  },
  {
   "cell_type": "markdown",
   "metadata": {},
   "source": [
    "Once all the averages have been computed and the standings data shifted (i.e. no game entry, or row, has statistics corresponding to that game - only averages from previous games), we can bring all the seasons' data back together into one dataframe. We will call this tbs_avgs."
   ]
  },
  {
   "cell_type": "code",
   "execution_count": 30,
   "metadata": {},
   "outputs": [],
   "source": [
    "# all season data should already be sorted, so we can just concatenate everything together\n",
    "tbs_avgs = pd.concat(all_seasons)"
   ]
  },
  {
   "cell_type": "code",
   "execution_count": 31,
   "metadata": {},
   "outputs": [],
   "source": [
    "# giving each game instance a unique index again\n",
    "tbs_avgs = tbs_avgs.reset_index()\n",
    "tbs_avgs = tbs_avgs.drop(['index', 'gmDate', 'teamAbbr', 'opptAbbr'], axis=1)"
   ]
  },
  {
   "cell_type": "markdown",
   "metadata": {},
   "source": [
    "ptsScore was a statistic calculated for us by the standings data. By checking to see if our teamPTS data entries match that of ptsScore, we can verify the accuracy of our computation."
   ]
  },
  {
   "cell_type": "code",
   "execution_count": 32,
   "metadata": {},
   "outputs": [
    {
     "data": {
      "text/html": [
       "<div>\n",
       "<style scoped>\n",
       "    .dataframe tbody tr th:only-of-type {\n",
       "        vertical-align: middle;\n",
       "    }\n",
       "\n",
       "    .dataframe tbody tr th {\n",
       "        vertical-align: top;\n",
       "    }\n",
       "\n",
       "    .dataframe thead th {\n",
       "        text-align: right;\n",
       "    }\n",
       "</style>\n",
       "<table border=\"1\" class=\"dataframe\">\n",
       "  <thead>\n",
       "    <tr style=\"text-align: right;\">\n",
       "      <th></th>\n",
       "      <th>teamPTS</th>\n",
       "      <th>ptsScore</th>\n",
       "    </tr>\n",
       "  </thead>\n",
       "  <tbody>\n",
       "    <tr>\n",
       "      <th>180</th>\n",
       "      <td>95.750000</td>\n",
       "      <td>95.8</td>\n",
       "    </tr>\n",
       "    <tr>\n",
       "      <th>181</th>\n",
       "      <td>90.600000</td>\n",
       "      <td>90.6</td>\n",
       "    </tr>\n",
       "    <tr>\n",
       "      <th>182</th>\n",
       "      <td>97.833333</td>\n",
       "      <td>97.8</td>\n",
       "    </tr>\n",
       "    <tr>\n",
       "      <th>183</th>\n",
       "      <td>96.000000</td>\n",
       "      <td>96.0</td>\n",
       "    </tr>\n",
       "    <tr>\n",
       "      <th>184</th>\n",
       "      <td>91.666667</td>\n",
       "      <td>91.7</td>\n",
       "    </tr>\n",
       "    <tr>\n",
       "      <th>185</th>\n",
       "      <td>98.500000</td>\n",
       "      <td>98.5</td>\n",
       "    </tr>\n",
       "    <tr>\n",
       "      <th>186</th>\n",
       "      <td>91.833333</td>\n",
       "      <td>91.8</td>\n",
       "    </tr>\n",
       "    <tr>\n",
       "      <th>187</th>\n",
       "      <td>99.000000</td>\n",
       "      <td>99.0</td>\n",
       "    </tr>\n",
       "    <tr>\n",
       "      <th>188</th>\n",
       "      <td>94.500000</td>\n",
       "      <td>94.5</td>\n",
       "    </tr>\n",
       "    <tr>\n",
       "      <th>189</th>\n",
       "      <td>97.400000</td>\n",
       "      <td>97.4</td>\n",
       "    </tr>\n",
       "    <tr>\n",
       "      <th>190</th>\n",
       "      <td>94.500000</td>\n",
       "      <td>94.5</td>\n",
       "    </tr>\n",
       "    <tr>\n",
       "      <th>191</th>\n",
       "      <td>100.142857</td>\n",
       "      <td>100.1</td>\n",
       "    </tr>\n",
       "    <tr>\n",
       "      <th>192</th>\n",
       "      <td>95.142857</td>\n",
       "      <td>95.1</td>\n",
       "    </tr>\n",
       "    <tr>\n",
       "      <th>193</th>\n",
       "      <td>88.666667</td>\n",
       "      <td>88.7</td>\n",
       "    </tr>\n",
       "    <tr>\n",
       "      <th>194</th>\n",
       "      <td>104.714286</td>\n",
       "      <td>104.7</td>\n",
       "    </tr>\n",
       "    <tr>\n",
       "      <th>195</th>\n",
       "      <td>91.428571</td>\n",
       "      <td>91.4</td>\n",
       "    </tr>\n",
       "    <tr>\n",
       "      <th>196</th>\n",
       "      <td>104.428571</td>\n",
       "      <td>104.4</td>\n",
       "    </tr>\n",
       "    <tr>\n",
       "      <th>197</th>\n",
       "      <td>96.666667</td>\n",
       "      <td>96.7</td>\n",
       "    </tr>\n",
       "    <tr>\n",
       "      <th>198</th>\n",
       "      <td>94.666667</td>\n",
       "      <td>94.7</td>\n",
       "    </tr>\n",
       "    <tr>\n",
       "      <th>199</th>\n",
       "      <td>98.833333</td>\n",
       "      <td>98.8</td>\n",
       "    </tr>\n",
       "  </tbody>\n",
       "</table>\n",
       "</div>"
      ],
      "text/plain": [
       "        teamPTS  ptsScore\n",
       "180   95.750000      95.8\n",
       "181   90.600000      90.6\n",
       "182   97.833333      97.8\n",
       "183   96.000000      96.0\n",
       "184   91.666667      91.7\n",
       "185   98.500000      98.5\n",
       "186   91.833333      91.8\n",
       "187   99.000000      99.0\n",
       "188   94.500000      94.5\n",
       "189   97.400000      97.4\n",
       "190   94.500000      94.5\n",
       "191  100.142857     100.1\n",
       "192   95.142857      95.1\n",
       "193   88.666667      88.7\n",
       "194  104.714286     104.7\n",
       "195   91.428571      91.4\n",
       "196  104.428571     104.4\n",
       "197   96.666667      96.7\n",
       "198   94.666667      94.7\n",
       "199   98.833333      98.8"
      ]
     },
     "execution_count": 32,
     "metadata": {},
     "output_type": "execute_result"
    }
   ],
   "source": [
    "tbs_avgs[['teamPTS', 'ptsScore']].head(200)[180:]"
   ]
  },
  {
   "cell_type": "markdown",
   "metadata": {},
   "source": [
    "Finally, since we will no longer need the below columns, we can drop them."
   ]
  },
  {
   "cell_type": "code",
   "execution_count": 33,
   "metadata": {},
   "outputs": [],
   "source": [
    "# ptsScore is redundant with teamPTS\n",
    "tbs_avgs = tbs_avgs.drop('ptsScore', axis=1)\n",
    "# opptRslt is redundant when paired with teamRslt (just 1 if teamRslt was 0, 0 if teamRslt was 1)\n",
    "tbs_avgs = tbs_avgs.drop('opptRslt', axis=1)\n",
    "\n",
    "team_box_score = team_box_score.drop(['teamAbbr', 'opptAbbr'], axis=1)"
   ]
  },
  {
   "cell_type": "markdown",
   "metadata": {},
   "source": [
    "## V: Exploratory Data Analysis"
   ]
  },
  {
   "cell_type": "markdown",
   "metadata": {},
   "source": [
    "Before we move forward, we will need to do our test train split. Ultimately, we want our EDA to reflect patterns in the training data and not the test data, so we will need to split them up here."
   ]
  },
  {
   "cell_type": "code",
   "execution_count": 34,
   "metadata": {},
   "outputs": [],
   "source": [
    "from sklearn.model_selection import train_test_split\n",
    "from sklearn.linear_model import LogisticRegression\n",
    "from sklearn.model_selection import cross_val_score\n",
    "\n",
    "X, Y = tbs_avgs.loc[:, tbs_avgs.columns != 'teamRslt'], tbs_avgs['teamRslt']\n",
    "X_train, X_test, Y_train, Y_test = train_test_split(X, Y, test_size=0.15)"
   ]
  },
  {
   "cell_type": "markdown",
   "metadata": {},
   "source": [
    "### i. PCA Analysis"
   ]
  },
  {
   "cell_type": "markdown",
   "metadata": {},
   "source": [
    "Let's take a look at the highest variance columns in the tbs_avgs dataframe. Since the variances here are quite high (and we don't want high variance attributes dominating our PCA analysis), we should both center and scale our data."
   ]
  },
  {
   "cell_type": "code",
   "execution_count": 35,
   "metadata": {},
   "outputs": [
    {
     "data": {
      "text/plain": [
       "opptMin       709.919498\n",
       "teamMin       709.919498\n",
       "teamPTS       155.903343\n",
       "opptPTS       155.903343\n",
       "teamOrtg      155.218798\n",
       "opptOrtg      155.218798\n",
       "ptsAllow      151.629155\n",
       "teamDrtg      150.752819\n",
       "opptDrtg      150.752819\n",
       "teamSTL/TO    125.082323\n",
       "opptSTL/TO    125.082323\n",
       "opptFIC       119.044745\n",
       "teamFIC       119.044745\n",
       "teamFGA        94.086568\n",
       "opptFGA        94.086568\n",
       "opptFIC40      82.312495\n",
       "teamFIC40      82.312495\n",
       "opptDREB%      79.164859\n",
       "teamDREB%      76.194817\n",
       "team2PA        67.012119\n",
       "oppt2PA        67.012119\n",
       "opptASST%      59.896534\n",
       "teamASST%      59.896534\n",
       "opptTREB%      33.688092\n",
       "teamTREB%      33.688092\n",
       "dtype: float64"
      ]
     },
     "execution_count": 35,
     "metadata": {},
     "output_type": "execute_result"
    }
   ],
   "source": [
    "np.var(tbs_avgs).sort_values(ascending=False)[:25]"
   ]
  },
  {
   "cell_type": "code",
   "execution_count": 36,
   "metadata": {},
   "outputs": [],
   "source": [
    "# center the data on mean of 0 so we can do an SVD\n",
    "# then divide by the standard deviation to prevent high variance attributes from affecting PC's too much\n",
    "X_train_standardized = np.divide(X_train - np.mean(X_train), np.std(X_train))\n",
    "X_test_standardized = np.divide(X_test - np.mean(X_test), np.std(X_test))"
   ]
  },
  {
   "cell_type": "markdown",
   "metadata": {},
   "source": [
    "Now that we have our centered, scaled data, we can move on to doing a SVD. Recall that the Principal Component Matrix, $ P = U\\Sigma $, which is also just the centered, scaled data matrix multiplied against $ V $."
   ]
  },
  {
   "cell_type": "code",
   "execution_count": 37,
   "metadata": {},
   "outputs": [],
   "source": [
    "# now do a singular value decomposition\n",
    "u, s, vt = np.linalg.svd(X_train_standardized, full_matrices=False)\n",
    "pc_matrix = X_train_standardized @ vt.T"
   ]
  },
  {
   "cell_type": "code",
   "execution_count": 38,
   "metadata": {},
   "outputs": [
    {
     "data": {
      "text/plain": [
       "(12496, 117)"
      ]
     },
     "execution_count": 38,
     "metadata": {},
     "output_type": "execute_result"
    }
   ],
   "source": [
    "# the number of columns of P = the number of PC's\n",
    "pc_matrix.shape"
   ]
  },
  {
   "cell_type": "markdown",
   "metadata": {},
   "source": [
    "In order to make a readable plot, let's try to only show the variance explained by the first, say, 20 principal components."
   ]
  },
  {
   "cell_type": "code",
   "execution_count": 39,
   "metadata": {},
   "outputs": [],
   "source": [
    "lst = []\n",
    "for i in range(20):\n",
    "    lst.append(s[i]**2 / (sum(s**2)))"
   ]
  },
  {
   "cell_type": "code",
   "execution_count": 40,
   "metadata": {
    "scrolled": true
   },
   "outputs": [
    {
     "data": {
      "text/plain": [
       "Text(0.5, 1.0, 'Scree Plot of Variance of PC #i')"
      ]
     },
     "execution_count": 40,
     "metadata": {},
     "output_type": "execute_result"
    },
    {
     "data": {
      "image/png": "[encoded data removed]",
      "text/plain": [
       "<Figure size 432x288 with 1 Axes>"
      ]
     },
     "metadata": {
      "needs_background": "light"
     },
     "output_type": "display_data"
    }
   ],
   "source": [
    "plt.plot(np.arange(1, 21), lst);\n",
    "plt.xticks(np.arange(1, 21), np.arange(1, 21));\n",
    "plt.xlabel('PC #');\n",
    "plt.ylabel('Variance Explained');\n",
    "plt.title('Scree Plot of Variance of PC #i')"
   ]
  },
  {
   "cell_type": "markdown",
   "metadata": {},
   "source": [
    "The Scree Plot above tells us a good deal about how much of the original data's variance we can recover using a given PC. However, it doesn't tell us much about how PC1 was computed. In order to get that information, we should look at the values of the row of $ V^{T} $ corresponding to PC1. "
   ]
  },
  {
   "cell_type": "code",
   "execution_count": 41,
   "metadata": {},
   "outputs": [],
   "source": [
    "def plot_pc(col_names, vt, k):\n",
    "    plt.bar(col_names, vt[k, :], alpha=0.7)\n",
    "    plt.xticks(col_names, rotation=90);"
   ]
  },
  {
   "cell_type": "code",
   "execution_count": 42,
   "metadata": {},
   "outputs": [
    {
     "data": {
      "text/plain": [
       "Text(0.5, 1.0, 'Values of the 1st Principal Component Direction')"
      ]
     },
     "execution_count": 42,
     "metadata": {},
     "output_type": "execute_result"
    },
    {
     "data": {
      "image/png": "[encoded data removed]",
      "text/plain": [
       "<Figure size 1944x648 with 1 Axes>"
      ]
     },
     "metadata": {
      "needs_background": "light"
     },
     "output_type": "display_data"
    }
   ],
   "source": [
    "with plt.rc_context({\"figure.figsize\": (27, 9)}):\n",
    "    plot_pc(X_train_standardized.columns, vt, 0);\n",
    "plt.title('Values of the 1st Principal Component Direction')"
   ]
  },
  {
   "cell_type": "markdown",
   "metadata": {},
   "source": [
    "From the above plot, we can see that PC1 is heavily impacted by many different features, and even if we were to find the linear combination of the data that makes up PC1, we would still only be able to recover around 50% of the original data's variance. Consequently, it's very likely that in order for us to build an effective model, we will need to use a lot of features or effectively combine different attributes of the data to compute new, more useful features."
   ]
  },
  {
   "cell_type": "markdown",
   "metadata": {},
   "source": [
    "### ii. Investigating Correlation"
   ]
  },
  {
   "cell_type": "markdown",
   "metadata": {},
   "source": [
    "Let's choose a few columns to explore potential correlations between. It's often said in basketball that the team that shoots more scores more (and thus wins more), so it may be interesting to look at FGA. Offensive Rebounds and Steals lead to additional possessions and potential baskets, so these may have interesting relationships with FGA and Offensive Rating. TO% is essentially a lost possession, so we'd expect this to have negative relationships with stats like Offensive Rating. Finally, we can examine how different defensive statistics (defensive rebounds, block rate) correspond to defensive rating."
   ]
  },
  {
   "cell_type": "code",
   "execution_count": 44,
   "metadata": {},
   "outputs": [],
   "source": [
    "columns_of_interest = ['teamFGA', 'teamORB', 'teamSTL', 'teamOrtg', 'teamTO%', 'teamDrtg', 'teamDRB', 'teamBLKR']"
   ]
  },
  {
   "cell_type": "code",
   "execution_count": 45,
   "metadata": {
    "scrolled": true
   },
   "outputs": [
    {
     "data": {
      "text/plain": [
       "Text(0.5, 1, 'Correlation between Various NBA Statistics')"
      ]
     },
     "execution_count": 45,
     "metadata": {},
     "output_type": "execute_result"
    },
    {
     "data": {
      "image/png": "[encoded data removed]",
      "text/plain": [
       "<Figure size 432x288 with 2 Axes>"
      ]
     },
     "metadata": {
      "needs_background": "light"
     },
     "output_type": "display_data"
    }
   ],
   "source": [
    "team_box_score_simple = team_box_score[columns_of_interest]\n",
    "sns.heatmap(team_box_score_simple.corr())\n",
    "plt.title('Correlation between Various NBA Statistics')"
   ]
  },
  {
   "cell_type": "markdown",
   "metadata": {},
   "source": [
    "Some of the relationships we assumed could be strong (like STL and FGA) weren't actually very correlated. However, we were right about the relationship between ORB and FGA. Let's look more into this relationship."
   ]
  },
  {
   "cell_type": "code",
   "execution_count": 46,
   "metadata": {
    "scrolled": true
   },
   "outputs": [
    {
     "data": {
      "text/plain": [
       "Text(0.5, 1.0, 'Team FGA versus Team ORB')"
      ]
     },
     "execution_count": 46,
     "metadata": {},
     "output_type": "execute_result"
    },
    {
     "data": {
      "image/png": "[encoded data removed]",
      "text/plain": [
       "<Figure size 432x288 with 1 Axes>"
      ]
     },
     "metadata": {
      "needs_background": "light"
     },
     "output_type": "display_data"
    }
   ],
   "source": [
    "sns.scatterplot(x='teamORB', y='teamFGA', data=team_box_score_simple)\n",
    "plt.title('Team FGA versus Team ORB')"
   ]
  },
  {
   "cell_type": "markdown",
   "metadata": {},
   "source": [
    "A lot of the data here is in one large cluster that follows a clear positive pattern. Not many points deviate from where we would assume the best fit line to be, so the stronger positive correlation here is like we'd expect! Since these variables are positively correlated, we may not need to build features for both of these attributes in our initial model trial."
   ]
  },
  {
   "cell_type": "markdown",
   "metadata": {},
   "source": [
    "TO% and FGA also had the strong negative correlation we would expect - lost possessions are lost shot opportunities. Let's take more of a look at this relationship as well."
   ]
  },
  {
   "cell_type": "code",
   "execution_count": 47,
   "metadata": {},
   "outputs": [
    {
     "data": {
      "text/plain": [
       "Text(0.5, 1.0, 'Team FGA versus Team TO%')"
      ]
     },
     "execution_count": 47,
     "metadata": {},
     "output_type": "execute_result"
    },
    {
     "data": {
      "image/png": "[encoded data removed]",
      "text/plain": [
       "<Figure size 432x288 with 1 Axes>"
      ]
     },
     "metadata": {
      "needs_background": "light"
     },
     "output_type": "display_data"
    }
   ],
   "source": [
    "sns.scatterplot(x='teamTO%', y='teamFGA', data=team_box_score_simple)\n",
    "plt.title('Team FGA versus Team TO%')"
   ]
  },
  {
   "cell_type": "markdown",
   "metadata": {},
   "source": [
    "The above provides an interesting plot and shows the strong negative correlation between the two variables, but it would be interesting to see where most of the data is concentrated. For this, we can use a hexbin."
   ]
  },
  {
   "cell_type": "code",
   "execution_count": 48,
   "metadata": {
    "scrolled": true
   },
   "outputs": [
    {
     "data": {
      "image/png": "[encoded data removed]",
      "text/plain": [
       "<Figure size 432x288 with 2 Axes>"
      ]
     },
     "metadata": {
      "needs_background": "light"
     },
     "output_type": "display_data"
    }
   ],
   "source": [
    "plt.hexbin(x=team_box_score_simple['teamTO%'], y=team_box_score_simple['teamFGA'], bins='log')\n",
    "plt.colorbar().set_label('log10(N)')\n",
    "plt.xlabel('Team TO%')\n",
    "plt.ylabel('Team FGA')\n",
    "plt.title('Team FGA vs TO%')\n",
    "plt.show()"
   ]
  },
  {
   "cell_type": "markdown",
   "metadata": {},
   "source": [
    "From this plot, we can see the negative correlation between FGA and TO% as well as where a lot of the data is concentrated, around (15%, 85). Perhaps winning teams characteristically are able to shoot this many field goals (or higher) while maintaining a TO% below 15% - this is a finding worth potentially carrying forward for our model."
   ]
  },
  {
   "cell_type": "markdown",
   "metadata": {},
   "source": [
    "### iii. Analyzing Categorical Data"
   ]
  },
  {
   "cell_type": "markdown",
   "metadata": {},
   "source": [
    "Lastly, let's take a look at some of the categorical data. Perhaps the biggest categorical differentiator in affecting game outcomes is which team is playing at Home vs Away. Let's investigate this for a given season (note that we can change which season we look at using the get_nth_season 2nd parameter below)."
   ]
  },
  {
   "cell_type": "code",
   "execution_count": 49,
   "metadata": {},
   "outputs": [],
   "source": [
    "df = get_nth_season(team_box_score, 2)\n",
    "home_games = df[df['teamLoc'] == 0].groupby('gmDate').mean()\n",
    "away_games = df[df['teamLoc'] == 1].groupby('gmDate').mean()\n",
    "\n",
    "home_games['teamRslt'] = home_games.teamRslt.expanding().mean()\n",
    "away_games['teamRslt'] = away_games.teamRslt.expanding().mean()\n",
    "\n",
    "# join em back together\n",
    "home_games = home_games.assign(teamLoc='Home')\n",
    "away_games = away_games.assign(teamLoc='Away')\n",
    "\n",
    "df = pd.concat([home_games, away_games])\n",
    "df = df.sort_values(by='gmDate')\n",
    "df = df.reset_index()"
   ]
  },
  {
   "cell_type": "code",
   "execution_count": 50,
   "metadata": {
    "scrolled": true
   },
   "outputs": [
    {
     "name": "stderr",
     "output_type": "stream",
     "text": [
      "/srv/conda/envs/data100/lib/python3.7/site-packages/pandas/plotting/_matplotlib/converter.py:103: FutureWarning: Using an implicitly registered datetime converter for a matplotlib plotting method. The converter was registered by pandas on import. Future versions of pandas will require you to explicitly register matplotlib converters.\n",
      "\n",
      "To register the converters:\n",
      "\t>>> from pandas.plotting import register_matplotlib_converters\n",
      "\t>>> register_matplotlib_converters()\n",
      "  warnings.warn(msg, FutureWarning)\n"
     ]
    },
    {
     "data": {
      "text/plain": [
       "Text(0.5, 1.0, 'Home versus Away Winning Percentages over Time (13-14 Season)')"
      ]
     },
     "execution_count": 50,
     "metadata": {},
     "output_type": "execute_result"
    },
    {
     "data": {
      "image/png": "[encoded data removed]",
      "text/plain": [
       "<Figure size 432x288 with 1 Axes>"
      ]
     },
     "metadata": {
      "needs_background": "light"
     },
     "output_type": "display_data"
    }
   ],
   "source": [
    "sns.lineplot(x=\"gmDate\", y=\"teamRslt\", hue=\"teamLoc\", data=df)\n",
    "plt.title('Home versus Away Winning Percentages over Time (13-14 Season)')"
   ]
  },
  {
   "cell_type": "markdown",
   "metadata": {},
   "source": [
    "If we take a look at the Home vs Away winning percentage plots for other years, we tend to notice that they follow this similar pattern of approaching 0.6 and 0.4 respectively as well. A feature we may consider for evaluating teams therefore could be how high their percentages at Home and Away are above the average."
   ]
  },
  {
   "cell_type": "markdown",
   "metadata": {},
   "source": [
    "## VI: Inference and Prediction"
   ]
  },
  {
   "cell_type": "markdown",
   "metadata": {},
   "source": []
  },
  {
   "cell_type": "code",
   "execution_count": 51,
   "metadata": {},
   "outputs": [
    {
     "data": {
      "text/html": [
       "<div>\n",
       "<style scoped>\n",
       "    .dataframe tbody tr th:only-of-type {\n",
       "        vertical-align: middle;\n",
       "    }\n",
       "\n",
       "    .dataframe tbody tr th {\n",
       "        vertical-align: top;\n",
       "    }\n",
       "\n",
       "    .dataframe thead th {\n",
       "        text-align: right;\n",
       "    }\n",
       "</style>\n",
       "<table border=\"1\" class=\"dataframe\">\n",
       "  <thead>\n",
       "    <tr style=\"text-align: right;\">\n",
       "      <th></th>\n",
       "      <th>teamLoc</th>\n",
       "      <th>teamMin</th>\n",
       "      <th>teamDayOff</th>\n",
       "      <th>teamPTS</th>\n",
       "      <th>teamAST</th>\n",
       "      <th>teamTO</th>\n",
       "      <th>teamSTL</th>\n",
       "      <th>teamBLK</th>\n",
       "      <th>teamPF</th>\n",
       "      <th>teamFGA</th>\n",
       "      <th>...</th>\n",
       "      <th>mov</th>\n",
       "      <th>srs</th>\n",
       "      <th>pw%</th>\n",
       "      <th>total_wpc</th>\n",
       "      <th>home_wpc</th>\n",
       "      <th>away_wpc</th>\n",
       "      <th>conf_wpc</th>\n",
       "      <th>streak</th>\n",
       "      <th>lastTen_wpc</th>\n",
       "      <th>lastFive_wpc</th>\n",
       "    </tr>\n",
       "  </thead>\n",
       "  <tbody>\n",
       "    <tr>\n",
       "      <th>10451</th>\n",
       "      <td>-0.997602</td>\n",
       "      <td>0.276299</td>\n",
       "      <td>0.977849</td>\n",
       "      <td>0.115624</td>\n",
       "      <td>0.183426</td>\n",
       "      <td>-0.562684</td>\n",
       "      <td>0.203891</td>\n",
       "      <td>1.236336</td>\n",
       "      <td>-0.477792</td>\n",
       "      <td>0.432522</td>\n",
       "      <td>...</td>\n",
       "      <td>-0.582912</td>\n",
       "      <td>-0.588097</td>\n",
       "      <td>-0.526426</td>\n",
       "      <td>-0.910017</td>\n",
       "      <td>-0.678411</td>\n",
       "      <td>-0.976318</td>\n",
       "      <td>-1.450462</td>\n",
       "      <td>-0.914978</td>\n",
       "      <td>0.147806</td>\n",
       "      <td>-1.061585</td>\n",
       "    </tr>\n",
       "    <tr>\n",
       "      <th>13434</th>\n",
       "      <td>-0.997602</td>\n",
       "      <td>0.117765</td>\n",
       "      <td>-0.877622</td>\n",
       "      <td>0.621060</td>\n",
       "      <td>0.223508</td>\n",
       "      <td>-0.681608</td>\n",
       "      <td>0.929272</td>\n",
       "      <td>-0.677317</td>\n",
       "      <td>-0.810647</td>\n",
       "      <td>0.191974</td>\n",
       "      <td>...</td>\n",
       "      <td>0.510636</td>\n",
       "      <td>0.509949</td>\n",
       "      <td>0.520553</td>\n",
       "      <td>0.593606</td>\n",
       "      <td>0.571749</td>\n",
       "      <td>0.534294</td>\n",
       "      <td>1.351158</td>\n",
       "      <td>0.293484</td>\n",
       "      <td>1.022737</td>\n",
       "      <td>0.440829</td>\n",
       "    </tr>\n",
       "    <tr>\n",
       "      <th>4017</th>\n",
       "      <td>-0.997602</td>\n",
       "      <td>0.094551</td>\n",
       "      <td>0.050114</td>\n",
       "      <td>0.407174</td>\n",
       "      <td>-0.405186</td>\n",
       "      <td>0.691452</td>\n",
       "      <td>-0.214598</td>\n",
       "      <td>0.764823</td>\n",
       "      <td>-0.048485</td>\n",
       "      <td>-0.404184</td>\n",
       "      <td>...</td>\n",
       "      <td>0.764446</td>\n",
       "      <td>0.760237</td>\n",
       "      <td>0.763362</td>\n",
       "      <td>0.920146</td>\n",
       "      <td>0.792365</td>\n",
       "      <td>0.811980</td>\n",
       "      <td>0.451538</td>\n",
       "      <td>1.804062</td>\n",
       "      <td>1.460202</td>\n",
       "      <td>1.943243</td>\n",
       "    </tr>\n",
       "    <tr>\n",
       "      <th>13655</th>\n",
       "      <td>1.002404</td>\n",
       "      <td>0.066219</td>\n",
       "      <td>-0.877622</td>\n",
       "      <td>0.415362</td>\n",
       "      <td>-0.155301</td>\n",
       "      <td>0.588208</td>\n",
       "      <td>-0.644959</td>\n",
       "      <td>-0.340961</td>\n",
       "      <td>0.565533</td>\n",
       "      <td>0.380620</td>\n",
       "      <td>...</td>\n",
       "      <td>-1.234061</td>\n",
       "      <td>-1.235117</td>\n",
       "      <td>-1.149564</td>\n",
       "      <td>-0.685586</td>\n",
       "      <td>-1.046105</td>\n",
       "      <td>-0.083859</td>\n",
       "      <td>-0.475780</td>\n",
       "      <td>-0.310747</td>\n",
       "      <td>-0.727125</td>\n",
       "      <td>-1.061585</td>\n",
       "    </tr>\n",
       "    <tr>\n",
       "      <th>428</th>\n",
       "      <td>1.002404</td>\n",
       "      <td>0.358323</td>\n",
       "      <td>-0.877622</td>\n",
       "      <td>-0.282565</td>\n",
       "      <td>-0.104164</td>\n",
       "      <td>-0.654107</td>\n",
       "      <td>-0.279696</td>\n",
       "      <td>-0.321322</td>\n",
       "      <td>1.114640</td>\n",
       "      <td>0.203581</td>\n",
       "      <td>...</td>\n",
       "      <td>-0.841083</td>\n",
       "      <td>-0.843869</td>\n",
       "      <td>-0.773533</td>\n",
       "      <td>-1.519470</td>\n",
       "      <td>-1.046105</td>\n",
       "      <td>-1.390996</td>\n",
       "      <td>-1.285661</td>\n",
       "      <td>-1.519209</td>\n",
       "      <td>-1.164591</td>\n",
       "      <td>-1.812791</td>\n",
       "    </tr>\n",
       "  </tbody>\n",
       "</table>\n",
       "<p>5 rows × 117 columns</p>\n",
       "</div>"
      ],
      "text/plain": [
       "        teamLoc   teamMin  teamDayOff   teamPTS   teamAST    teamTO   teamSTL  \\\n",
       "10451 -0.997602  0.276299    0.977849  0.115624  0.183426 -0.562684  0.203891   \n",
       "13434 -0.997602  0.117765   -0.877622  0.621060  0.223508 -0.681608  0.929272   \n",
       "4017  -0.997602  0.094551    0.050114  0.407174 -0.405186  0.691452 -0.214598   \n",
       "13655  1.002404  0.066219   -0.877622  0.415362 -0.155301  0.588208 -0.644959   \n",
       "428    1.002404  0.358323   -0.877622 -0.282565 -0.104164 -0.654107 -0.279696   \n",
       "\n",
       "        teamBLK    teamPF   teamFGA  ...       mov       srs       pw%  \\\n",
       "10451  1.236336 -0.477792  0.432522  ... -0.582912 -0.588097 -0.526426   \n",
       "13434 -0.677317 -0.810647  0.191974  ...  0.510636  0.509949  0.520553   \n",
       "4017   0.764823 -0.048485 -0.404184  ...  0.764446  0.760237  0.763362   \n",
       "13655 -0.340961  0.565533  0.380620  ... -1.234061 -1.235117 -1.149564   \n",
       "428   -0.321322  1.114640  0.203581  ... -0.841083 -0.843869 -0.773533   \n",
       "\n",
       "       total_wpc  home_wpc  away_wpc  conf_wpc    streak  lastTen_wpc  \\\n",
       "10451  -0.910017 -0.678411 -0.976318 -1.450462 -0.914978     0.147806   \n",
       "13434   0.593606  0.571749  0.534294  1.351158  0.293484     1.022737   \n",
       "4017    0.920146  0.792365  0.811980  0.451538  1.804062     1.460202   \n",
       "13655  -0.685586 -1.046105 -0.083859 -0.475780 -0.310747    -0.727125   \n",
       "428    -1.519470 -1.046105 -1.390996 -1.285661 -1.519209    -1.164591   \n",
       "\n",
       "       lastFive_wpc  \n",
       "10451     -1.061585  \n",
       "13434      0.440829  \n",
       "4017       1.943243  \n",
       "13655     -1.061585  \n",
       "428       -1.812791  \n",
       "\n",
       "[5 rows x 117 columns]"
      ]
     },
     "execution_count": 51,
     "metadata": {},
     "output_type": "execute_result"
    }
   ],
   "source": [
    "X_train_standardized.head()"
   ]
  },
  {
   "cell_type": "code",
   "execution_count": 52,
   "metadata": {},
   "outputs": [],
   "source": [
    "features = ['teamFGA', 'teamFG%', 'teamPTS', 'teamTO', 'teamSTL', 'team3P%', 'teamFTA', 'teamTREB%', 'teamASST%', 'teamTS%', 'teamTO%', 'teamOrtg', 'teamDrtg', 'teamEDiff', 'teamPlay%', 'teamSTL/TO', 'sos', 'mov', 'streak']"
   ]
  },
  {
   "cell_type": "code",
   "execution_count": 53,
   "metadata": {},
   "outputs": [
    {
     "ename": "NameError",
     "evalue": "name 'rmse_score' is not defined",
     "output_type": "error",
     "traceback": [
      "\u001b[0;31m---------------------------------------------------------------------------\u001b[0m",
      "\u001b[0;31mNameError\u001b[0m                                 Traceback (most recent call last)",
      "\u001b[0;32m<ipython-input-53-275c612956cf>\u001b[0m in \u001b[0;36m<module>\u001b[0;34m\u001b[0m\n\u001b[1;32m      6\u001b[0m \u001b[0;34m\u001b[0m\u001b[0m\n\u001b[1;32m      7\u001b[0m     \u001b[0;31m# compute the cross validation error\u001b[0m\u001b[0;34m\u001b[0m\u001b[0;34m\u001b[0m\u001b[0;34m\u001b[0m\u001b[0m\n\u001b[0;32m----> 8\u001b[0;31m     \u001b[0mcv_error\u001b[0m \u001b[0;34m=\u001b[0m \u001b[0mnp\u001b[0m\u001b[0;34m.\u001b[0m\u001b[0mmean\u001b[0m\u001b[0;34m(\u001b[0m\u001b[0mcross_val_score\u001b[0m\u001b[0;34m(\u001b[0m\u001b[0mmodel\u001b[0m\u001b[0;34m,\u001b[0m \u001b[0mX_train_standardized\u001b[0m\u001b[0;34m.\u001b[0m\u001b[0miloc\u001b[0m\u001b[0;34m[\u001b[0m\u001b[0;34m:\u001b[0m\u001b[0;34m,\u001b[0m\u001b[0;34m:\u001b[0m\u001b[0mi\u001b[0m\u001b[0;34m]\u001b[0m\u001b[0;34m,\u001b[0m \u001b[0mY_train\u001b[0m\u001b[0;34m,\u001b[0m \u001b[0mscoring\u001b[0m\u001b[0;34m=\u001b[0m\u001b[0mrmse_score\u001b[0m\u001b[0;34m,\u001b[0m \u001b[0mcv\u001b[0m\u001b[0;34m=\u001b[0m\u001b[0;36m5\u001b[0m\u001b[0;34m)\u001b[0m\u001b[0;34m)\u001b[0m\u001b[0;34m\u001b[0m\u001b[0;34m\u001b[0m\u001b[0m\n\u001b[0m\u001b[1;32m      9\u001b[0m \u001b[0;34m\u001b[0m\u001b[0m\n\u001b[1;32m     10\u001b[0m     \u001b[0mcv_errors\u001b[0m\u001b[0;34m.\u001b[0m\u001b[0mappend\u001b[0m\u001b[0;34m(\u001b[0m\u001b[0mcv_error\u001b[0m\u001b[0;34m)\u001b[0m\u001b[0;34m\u001b[0m\u001b[0;34m\u001b[0m\u001b[0m\n",
      "\u001b[0;31mNameError\u001b[0m: name 'rmse_score' is not defined"
     ]
    }
   ],
   "source": [
    "cv_errors = []\n",
    "\n",
    "for i in range(20, 30):\n",
    "    model = LogisticRegression(max_iter=200)\n",
    "    model.fit(X_train_standardized.iloc[:,:i], Y_train)\n",
    "    \n",
    "    # compute the cross validation error\n",
    "    cv_error = np.mean(cross_val_score(model, X_train_standardized.iloc[:,:i], Y_train, scoring=rmse_score, cv=5))\n",
    "    \n",
    "    cv_errors.append(cv_error)\n",
    "    \n",
    "print(cv_errors)\n"
   ]
  },
  {
   "cell_type": "code",
   "execution_count": null,
   "metadata": {},
   "outputs": [],
   "source": [
    "def rmse_score(model, X, y):\n",
    "    return np.sqrt(np.mean((y - model.predict(X)) ** 2))"
   ]
  },
  {
   "cell_type": "code",
   "execution_count": null,
   "metadata": {},
   "outputs": [],
   "source": [
    "#validation_error = np.mean(cross_val_score(model, X_train_standardized, Y_train, scoring=rmse_score, cv=5))\n",
    "test_accuracy = model.score(X_train_standardized, Y_train)\n",
    "#cross_val_score(model, X_train, Y_train, scoring=rmse_score, cv=5)\n",
    "#rmse_score(model, X_test_standardized, Y_test)\n",
    "(model.predict(X_test_standardized) == Y_test).all()\n",
    "print(test_accuracy)"
   ]
  },
  {
   "cell_type": "code",
   "execution_count": null,
   "metadata": {},
   "outputs": [],
   "source": [
    "model = LogisticRegression(max_iter=1000)\n",
    "model.fit(X_train_standardized, Y_train)\n",
    "test_accuracy = model.score(X_train_standardized, Y_train)\n",
    "print(test_accuracy)"
   ]
  },
  {
   "cell_type": "code",
   "execution_count": null,
   "metadata": {},
   "outputs": [],
   "source": [
    "random_forest_model = ensemble.RandomForestClassifier(random_state=42, n_estimators=100)\n",
    "random_forest_model.fit(X_train, Y_train)\n",
    "test_accuracy = random_forest_model.score(X_test, Y_test)\n",
    "print(test_accuracy)"
   ]
  },
  {
   "cell_type": "code",
   "execution_count": null,
   "metadata": {},
   "outputs": [],
   "source": []
  },
  {
   "cell_type": "code",
   "execution_count": null,
   "metadata": {},
   "outputs": [],
   "source": []
  }
 ],
 "metadata": {
  "kernelspec": {
   "display_name": "Python 3",
   "language": "python",
   "name": "python3"
  },
  "language_info": {
   "codemirror_mode": {
    "name": "ipython",
    "version": 3
   },
   "file_extension": ".py",
   "mimetype": "text/x-python",
   "name": "python",
   "nbconvert_exporter": "python",
   "pygments_lexer": "ipython3",
   "version": "3.7.6"
  }
 },
 "nbformat": 4,
 "nbformat_minor": 4
}
