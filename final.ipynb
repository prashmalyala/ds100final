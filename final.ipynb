{
 "cells": [
  {
   "cell_type": "markdown",
   "metadata": {},
   "source": [
    "# DS 100 Final Project: A Basketball Analysis"
   ]
  },
  {
   "cell_type": "markdown",
   "metadata": {},
   "source": [
    "## Given 2 teams' average statistics before a game, how well can we predict who wins?"
   ]
  },
  {
   "cell_type": "markdown",
   "metadata": {},
   "source": [
    "### Creators: Alec Zhou, Prashant Malyala"
   ]
  },
  {
   "cell_type": "markdown",
   "metadata": {},
   "source": [
    "## I. This Project"
   ]
  },
  {
   "cell_type": "markdown",
   "metadata": {},
   "source": [
    "[Insert description of project here]"
   ]
  },
  {
   "cell_type": "markdown",
   "metadata": {},
   "source": [
    "## II. Set Up"
   ]
  },
  {
   "cell_type": "markdown",
   "metadata": {},
   "source": [
    "Below, we will import the necessary libraries for our data analysis."
   ]
  },
  {
   "cell_type": "code",
   "execution_count": 36,
   "metadata": {},
   "outputs": [],
   "source": [
    "import numpy as np\n",
    "import pandas as pd\n",
    "import matplotlib.pyplot as plt\n",
    "import seaborn as sns\n",
    "import sklearn\n",
    "from datetime import datetime\n",
    "from datetime import date"
   ]
  },
  {
   "cell_type": "markdown",
   "metadata": {},
   "source": [
    "Now, we'll read in the relevant basketball data."
   ]
  },
  {
   "cell_type": "code",
   "execution_count": 37,
   "metadata": {},
   "outputs": [],
   "source": [
    "#from the provided ds100 dataset\n",
    "team_box_score = pd.read_csv('basketball/Basketball-TeamBoxScores.csv')\n",
    "standings = pd.read_csv('basketball/Standings.csv')"
   ]
  },
  {
   "cell_type": "markdown",
   "metadata": {},
   "source": [
    "## III. Data Preview"
   ]
  },
  {
   "cell_type": "markdown",
   "metadata": {},
   "source": [
    "Let's briefly see what our data looks like."
   ]
  },
  {
   "cell_type": "markdown",
   "metadata": {},
   "source": [
    "### i. Standings Data:"
   ]
  },
  {
   "cell_type": "markdown",
   "metadata": {},
   "source": [
    "The granularity of this data is quite fine; it seems that the Standings table has a record representing each team's standing at every date of the season (after the games on that date occur). The columns are rollups and seem to represent aggregate statistics (such as total points scored, current streak, etc.) through each date for each team."
   ]
  },
  {
   "cell_type": "code",
   "execution_count": 38,
   "metadata": {},
   "outputs": [
    {
     "data": {
      "text/html": [
       "<div>\n",
       "<style scoped>\n",
       "    .dataframe tbody tr th:only-of-type {\n",
       "        vertical-align: middle;\n",
       "    }\n",
       "\n",
       "    .dataframe tbody tr th {\n",
       "        vertical-align: top;\n",
       "    }\n",
       "\n",
       "    .dataframe thead th {\n",
       "        text-align: right;\n",
       "    }\n",
       "</style>\n",
       "<table border=\"1\" class=\"dataframe\">\n",
       "  <thead>\n",
       "    <tr style=\"text-align: right;\">\n",
       "      <th></th>\n",
       "      <th>stDate</th>\n",
       "      <th>teamAbbr</th>\n",
       "      <th>rank</th>\n",
       "      <th>rankOrd</th>\n",
       "      <th>gameWon</th>\n",
       "      <th>gameLost</th>\n",
       "      <th>stk</th>\n",
       "      <th>stkType</th>\n",
       "      <th>stkTot</th>\n",
       "      <th>gameBack</th>\n",
       "      <th>...</th>\n",
       "      <th>rel%Indx</th>\n",
       "      <th>mov</th>\n",
       "      <th>srs</th>\n",
       "      <th>pw%</th>\n",
       "      <th>pyth%13.91</th>\n",
       "      <th>wpyth13.91</th>\n",
       "      <th>lpyth13.91</th>\n",
       "      <th>pyth%16.5</th>\n",
       "      <th>wpyth16.5</th>\n",
       "      <th>lpyth16.5</th>\n",
       "    </tr>\n",
       "  </thead>\n",
       "  <tbody>\n",
       "    <tr>\n",
       "      <th>0</th>\n",
       "      <td>2012-10-30</td>\n",
       "      <td>ATL</td>\n",
       "      <td>3</td>\n",
       "      <td>3rd</td>\n",
       "      <td>0</td>\n",
       "      <td>0</td>\n",
       "      <td>-</td>\n",
       "      <td>-</td>\n",
       "      <td>0</td>\n",
       "      <td>0.5</td>\n",
       "      <td>...</td>\n",
       "      <td>0.0</td>\n",
       "      <td>0.0</td>\n",
       "      <td>0.0</td>\n",
       "      <td>0.500</td>\n",
       "      <td>0.0000</td>\n",
       "      <td>0.0000</td>\n",
       "      <td>82.0000</td>\n",
       "      <td>0.000</td>\n",
       "      <td>0.000</td>\n",
       "      <td>82.000</td>\n",
       "    </tr>\n",
       "    <tr>\n",
       "      <th>1</th>\n",
       "      <td>2012-10-30</td>\n",
       "      <td>BKN</td>\n",
       "      <td>3</td>\n",
       "      <td>3rd</td>\n",
       "      <td>0</td>\n",
       "      <td>0</td>\n",
       "      <td>-</td>\n",
       "      <td>-</td>\n",
       "      <td>0</td>\n",
       "      <td>0.5</td>\n",
       "      <td>...</td>\n",
       "      <td>0.0</td>\n",
       "      <td>0.0</td>\n",
       "      <td>0.0</td>\n",
       "      <td>0.500</td>\n",
       "      <td>0.0000</td>\n",
       "      <td>0.0000</td>\n",
       "      <td>82.0000</td>\n",
       "      <td>0.000</td>\n",
       "      <td>0.000</td>\n",
       "      <td>82.000</td>\n",
       "    </tr>\n",
       "    <tr>\n",
       "      <th>2</th>\n",
       "      <td>2012-10-30</td>\n",
       "      <td>BOS</td>\n",
       "      <td>14</td>\n",
       "      <td>14th</td>\n",
       "      <td>0</td>\n",
       "      <td>1</td>\n",
       "      <td>L1</td>\n",
       "      <td>loss</td>\n",
       "      <td>1</td>\n",
       "      <td>1.0</td>\n",
       "      <td>...</td>\n",
       "      <td>0.0</td>\n",
       "      <td>-13.0</td>\n",
       "      <td>-13.0</td>\n",
       "      <td>0.072</td>\n",
       "      <td>0.1687</td>\n",
       "      <td>13.8334</td>\n",
       "      <td>68.1666</td>\n",
       "      <td>0.131</td>\n",
       "      <td>10.742</td>\n",
       "      <td>71.258</td>\n",
       "    </tr>\n",
       "    <tr>\n",
       "      <th>3</th>\n",
       "      <td>2012-10-30</td>\n",
       "      <td>CHA</td>\n",
       "      <td>3</td>\n",
       "      <td>3rd</td>\n",
       "      <td>0</td>\n",
       "      <td>0</td>\n",
       "      <td>-</td>\n",
       "      <td>-</td>\n",
       "      <td>0</td>\n",
       "      <td>0.5</td>\n",
       "      <td>...</td>\n",
       "      <td>0.0</td>\n",
       "      <td>0.0</td>\n",
       "      <td>0.0</td>\n",
       "      <td>0.500</td>\n",
       "      <td>0.0000</td>\n",
       "      <td>0.0000</td>\n",
       "      <td>82.0000</td>\n",
       "      <td>0.000</td>\n",
       "      <td>0.000</td>\n",
       "      <td>82.000</td>\n",
       "    </tr>\n",
       "    <tr>\n",
       "      <th>4</th>\n",
       "      <td>2012-10-30</td>\n",
       "      <td>CHI</td>\n",
       "      <td>3</td>\n",
       "      <td>3rd</td>\n",
       "      <td>0</td>\n",
       "      <td>0</td>\n",
       "      <td>-</td>\n",
       "      <td>-</td>\n",
       "      <td>0</td>\n",
       "      <td>0.5</td>\n",
       "      <td>...</td>\n",
       "      <td>0.0</td>\n",
       "      <td>0.0</td>\n",
       "      <td>0.0</td>\n",
       "      <td>0.500</td>\n",
       "      <td>0.0000</td>\n",
       "      <td>0.0000</td>\n",
       "      <td>82.0000</td>\n",
       "      <td>0.000</td>\n",
       "      <td>0.000</td>\n",
       "      <td>82.000</td>\n",
       "    </tr>\n",
       "  </tbody>\n",
       "</table>\n",
       "<p>5 rows × 39 columns</p>\n",
       "</div>"
      ],
      "text/plain": [
       "       stDate teamAbbr  rank rankOrd  gameWon  gameLost stk stkType  stkTot  \\\n",
       "0  2012-10-30      ATL     3     3rd        0         0   -       -       0   \n",
       "1  2012-10-30      BKN     3     3rd        0         0   -       -       0   \n",
       "2  2012-10-30      BOS    14    14th        0         1  L1    loss       1   \n",
       "3  2012-10-30      CHA     3     3rd        0         0   -       -       0   \n",
       "4  2012-10-30      CHI     3     3rd        0         0   -       -       0   \n",
       "\n",
       "   gameBack  ...  rel%Indx   mov   srs    pw%  pyth%13.91  wpyth13.91  \\\n",
       "0       0.5  ...       0.0   0.0   0.0  0.500      0.0000      0.0000   \n",
       "1       0.5  ...       0.0   0.0   0.0  0.500      0.0000      0.0000   \n",
       "2       1.0  ...       0.0 -13.0 -13.0  0.072      0.1687     13.8334   \n",
       "3       0.5  ...       0.0   0.0   0.0  0.500      0.0000      0.0000   \n",
       "4       0.5  ...       0.0   0.0   0.0  0.500      0.0000      0.0000   \n",
       "\n",
       "   lpyth13.91  pyth%16.5  wpyth16.5  lpyth16.5  \n",
       "0     82.0000      0.000      0.000     82.000  \n",
       "1     82.0000      0.000      0.000     82.000  \n",
       "2     68.1666      0.131     10.742     71.258  \n",
       "3     82.0000      0.000      0.000     82.000  \n",
       "4     82.0000      0.000      0.000     82.000  \n",
       "\n",
       "[5 rows x 39 columns]"
      ]
     },
     "execution_count": 38,
     "metadata": {},
     "output_type": "execute_result"
    }
   ],
   "source": [
    "standings.head(5)"
   ]
  },
  {
   "cell_type": "code",
   "execution_count": 39,
   "metadata": {},
   "outputs": [
    {
     "data": {
      "text/plain": [
       "30"
      ]
     },
     "execution_count": 39,
     "metadata": {},
     "output_type": "execute_result"
    }
   ],
   "source": [
    "#all 30 teams are listed on this date even though not all of them played; must be a full date by date record\n",
    "len(standings[standings['stDate'] == '2012-10-30'])"
   ]
  },
  {
   "cell_type": "markdown",
   "metadata": {},
   "source": [
    "### ii. Team Box Score Data:"
   ]
  },
  {
   "cell_type": "markdown",
   "metadata": {},
   "source": [
    "The granularity of the team box score data is also rather fine; it seems that this table has a record for each game of each season. The column statistics provided match the granularity of each record, as these statistics are generally measured or computed using only data from that game."
   ]
  },
  {
   "cell_type": "code",
   "execution_count": 40,
   "metadata": {},
   "outputs": [
    {
     "data": {
      "text/html": [
       "<div>\n",
       "<style scoped>\n",
       "    .dataframe tbody tr th:only-of-type {\n",
       "        vertical-align: middle;\n",
       "    }\n",
       "\n",
       "    .dataframe tbody tr th {\n",
       "        vertical-align: top;\n",
       "    }\n",
       "\n",
       "    .dataframe thead th {\n",
       "        text-align: right;\n",
       "    }\n",
       "</style>\n",
       "<table border=\"1\" class=\"dataframe\">\n",
       "  <thead>\n",
       "    <tr style=\"text-align: right;\">\n",
       "      <th></th>\n",
       "      <th>gmDate</th>\n",
       "      <th>gmTime</th>\n",
       "      <th>seasTyp</th>\n",
       "      <th>offLNm1</th>\n",
       "      <th>offFNm1</th>\n",
       "      <th>offLNm2</th>\n",
       "      <th>offFNm2</th>\n",
       "      <th>offLNm3</th>\n",
       "      <th>offFNm3</th>\n",
       "      <th>teamAbbr</th>\n",
       "      <th>...</th>\n",
       "      <th>opptFIC40</th>\n",
       "      <th>opptOrtg</th>\n",
       "      <th>opptDrtg</th>\n",
       "      <th>opptEDiff</th>\n",
       "      <th>opptPlay%</th>\n",
       "      <th>opptAR</th>\n",
       "      <th>opptAST/TO</th>\n",
       "      <th>opptSTL/TO</th>\n",
       "      <th>poss</th>\n",
       "      <th>pace</th>\n",
       "    </tr>\n",
       "  </thead>\n",
       "  <tbody>\n",
       "    <tr>\n",
       "      <th>0</th>\n",
       "      <td>2012-10-30</td>\n",
       "      <td>19:00</td>\n",
       "      <td>Regular</td>\n",
       "      <td>Brothers</td>\n",
       "      <td>Tony</td>\n",
       "      <td>Smith</td>\n",
       "      <td>Michael</td>\n",
       "      <td>Workman</td>\n",
       "      <td>Haywoode</td>\n",
       "      <td>WAS</td>\n",
       "      <td>...</td>\n",
       "      <td>61.6667</td>\n",
       "      <td>105.6882</td>\n",
       "      <td>94.4447</td>\n",
       "      <td>11.2435</td>\n",
       "      <td>0.4390</td>\n",
       "      <td>16.7072</td>\n",
       "      <td>1.0476</td>\n",
       "      <td>33.3333</td>\n",
       "      <td>88.9409</td>\n",
       "      <td>88.9409</td>\n",
       "    </tr>\n",
       "    <tr>\n",
       "      <th>1</th>\n",
       "      <td>2012-10-30</td>\n",
       "      <td>19:00</td>\n",
       "      <td>Regular</td>\n",
       "      <td>Brothers</td>\n",
       "      <td>Tony</td>\n",
       "      <td>Smith</td>\n",
       "      <td>Michael</td>\n",
       "      <td>Workman</td>\n",
       "      <td>Haywoode</td>\n",
       "      <td>CLE</td>\n",
       "      <td>...</td>\n",
       "      <td>56.0417</td>\n",
       "      <td>94.4447</td>\n",
       "      <td>105.6882</td>\n",
       "      <td>-11.2435</td>\n",
       "      <td>0.3765</td>\n",
       "      <td>18.8679</td>\n",
       "      <td>2.0000</td>\n",
       "      <td>84.6154</td>\n",
       "      <td>88.9409</td>\n",
       "      <td>88.9409</td>\n",
       "    </tr>\n",
       "    <tr>\n",
       "      <th>2</th>\n",
       "      <td>2012-10-30</td>\n",
       "      <td>20:00</td>\n",
       "      <td>Regular</td>\n",
       "      <td>McCutchen</td>\n",
       "      <td>Monty</td>\n",
       "      <td>Wright</td>\n",
       "      <td>Sean</td>\n",
       "      <td>Fitzgerald</td>\n",
       "      <td>Kane</td>\n",
       "      <td>BOS</td>\n",
       "      <td>...</td>\n",
       "      <td>80.8333</td>\n",
       "      <td>126.3381</td>\n",
       "      <td>112.6515</td>\n",
       "      <td>13.6866</td>\n",
       "      <td>0.5244</td>\n",
       "      <td>19.8287</td>\n",
       "      <td>3.1250</td>\n",
       "      <td>100.0000</td>\n",
       "      <td>94.9832</td>\n",
       "      <td>94.9832</td>\n",
       "    </tr>\n",
       "    <tr>\n",
       "      <th>3</th>\n",
       "      <td>2012-10-30</td>\n",
       "      <td>20:00</td>\n",
       "      <td>Regular</td>\n",
       "      <td>McCutchen</td>\n",
       "      <td>Monty</td>\n",
       "      <td>Wright</td>\n",
       "      <td>Sean</td>\n",
       "      <td>Fitzgerald</td>\n",
       "      <td>Kane</td>\n",
       "      <td>MIA</td>\n",
       "      <td>...</td>\n",
       "      <td>62.7083</td>\n",
       "      <td>112.6515</td>\n",
       "      <td>126.3381</td>\n",
       "      <td>-13.6866</td>\n",
       "      <td>0.4643</td>\n",
       "      <td>18.8501</td>\n",
       "      <td>1.5000</td>\n",
       "      <td>25.0000</td>\n",
       "      <td>94.9832</td>\n",
       "      <td>94.9832</td>\n",
       "    </tr>\n",
       "    <tr>\n",
       "      <th>4</th>\n",
       "      <td>2012-10-30</td>\n",
       "      <td>22:30</td>\n",
       "      <td>Regular</td>\n",
       "      <td>Foster</td>\n",
       "      <td>Scott</td>\n",
       "      <td>Zielinski</td>\n",
       "      <td>Gary</td>\n",
       "      <td>Dalen</td>\n",
       "      <td>Eric</td>\n",
       "      <td>DAL</td>\n",
       "      <td>...</td>\n",
       "      <td>58.6458</td>\n",
       "      <td>99.3678</td>\n",
       "      <td>108.1034</td>\n",
       "      <td>-8.7356</td>\n",
       "      <td>0.5000</td>\n",
       "      <td>18.6567</td>\n",
       "      <td>1.7143</td>\n",
       "      <td>42.8571</td>\n",
       "      <td>91.5790</td>\n",
       "      <td>91.5790</td>\n",
       "    </tr>\n",
       "  </tbody>\n",
       "</table>\n",
       "<p>5 rows × 123 columns</p>\n",
       "</div>"
      ],
      "text/plain": [
       "       gmDate gmTime  seasTyp    offLNm1 offFNm1    offLNm2  offFNm2  \\\n",
       "0  2012-10-30  19:00  Regular   Brothers    Tony      Smith  Michael   \n",
       "1  2012-10-30  19:00  Regular   Brothers    Tony      Smith  Michael   \n",
       "2  2012-10-30  20:00  Regular  McCutchen   Monty     Wright     Sean   \n",
       "3  2012-10-30  20:00  Regular  McCutchen   Monty     Wright     Sean   \n",
       "4  2012-10-30  22:30  Regular     Foster   Scott  Zielinski     Gary   \n",
       "\n",
       "      offLNm3   offFNm3 teamAbbr  ... opptFIC40  opptOrtg  opptDrtg opptEDiff  \\\n",
       "0     Workman  Haywoode      WAS  ...   61.6667  105.6882   94.4447   11.2435   \n",
       "1     Workman  Haywoode      CLE  ...   56.0417   94.4447  105.6882  -11.2435   \n",
       "2  Fitzgerald      Kane      BOS  ...   80.8333  126.3381  112.6515   13.6866   \n",
       "3  Fitzgerald      Kane      MIA  ...   62.7083  112.6515  126.3381  -13.6866   \n",
       "4       Dalen      Eric      DAL  ...   58.6458   99.3678  108.1034   -8.7356   \n",
       "\n",
       "   opptPlay%   opptAR  opptAST/TO  opptSTL/TO     poss     pace  \n",
       "0     0.4390  16.7072      1.0476     33.3333  88.9409  88.9409  \n",
       "1     0.3765  18.8679      2.0000     84.6154  88.9409  88.9409  \n",
       "2     0.5244  19.8287      3.1250    100.0000  94.9832  94.9832  \n",
       "3     0.4643  18.8501      1.5000     25.0000  94.9832  94.9832  \n",
       "4     0.5000  18.6567      1.7143     42.8571  91.5790  91.5790  \n",
       "\n",
       "[5 rows x 123 columns]"
      ]
     },
     "execution_count": 40,
     "metadata": {},
     "output_type": "execute_result"
    }
   ],
   "source": [
    "team_box_score.head(5)"
   ]
  },
  {
   "cell_type": "markdown",
   "metadata": {},
   "source": [
    "Note that for each set of 3 officials, there are 2 games listed on each date. This led us to suspect that the Team Box Score data had two entries per game, one for each team. We can verify this in the cell below."
   ]
  },
  {
   "cell_type": "code",
   "execution_count": 41,
   "metadata": {},
   "outputs": [
    {
     "data": {
      "text/html": [
       "<div>\n",
       "<style scoped>\n",
       "    .dataframe tbody tr th:only-of-type {\n",
       "        vertical-align: middle;\n",
       "    }\n",
       "\n",
       "    .dataframe tbody tr th {\n",
       "        vertical-align: top;\n",
       "    }\n",
       "\n",
       "    .dataframe thead th {\n",
       "        text-align: right;\n",
       "    }\n",
       "</style>\n",
       "<table border=\"1\" class=\"dataframe\">\n",
       "  <thead>\n",
       "    <tr style=\"text-align: right;\">\n",
       "      <th></th>\n",
       "      <th>teamAbbr</th>\n",
       "      <th>opptAbbr</th>\n",
       "    </tr>\n",
       "  </thead>\n",
       "  <tbody>\n",
       "    <tr>\n",
       "      <th>0</th>\n",
       "      <td>WAS</td>\n",
       "      <td>CLE</td>\n",
       "    </tr>\n",
       "    <tr>\n",
       "      <th>1</th>\n",
       "      <td>CLE</td>\n",
       "      <td>WAS</td>\n",
       "    </tr>\n",
       "    <tr>\n",
       "      <th>2</th>\n",
       "      <td>BOS</td>\n",
       "      <td>MIA</td>\n",
       "    </tr>\n",
       "    <tr>\n",
       "      <th>3</th>\n",
       "      <td>MIA</td>\n",
       "      <td>BOS</td>\n",
       "    </tr>\n",
       "    <tr>\n",
       "      <th>4</th>\n",
       "      <td>DAL</td>\n",
       "      <td>LAL</td>\n",
       "    </tr>\n",
       "    <tr>\n",
       "      <th>5</th>\n",
       "      <td>LAL</td>\n",
       "      <td>DAL</td>\n",
       "    </tr>\n",
       "  </tbody>\n",
       "</table>\n",
       "</div>"
      ],
      "text/plain": [
       "  teamAbbr opptAbbr\n",
       "0      WAS      CLE\n",
       "1      CLE      WAS\n",
       "2      BOS      MIA\n",
       "3      MIA      BOS\n",
       "4      DAL      LAL\n",
       "5      LAL      DAL"
      ]
     },
     "execution_count": 41,
     "metadata": {},
     "output_type": "execute_result"
    }
   ],
   "source": [
    "#shows that each game is listed twice, once for each team\n",
    "team_box_score[team_box_score['gmDate'] == '2012-10-30'][['teamAbbr', 'opptAbbr']]"
   ]
  },
  {
   "cell_type": "markdown",
   "metadata": {},
   "source": [
    "So not only do we have all the team and opposing team's statistics per game entry, we have two listings of every game! Certainly there's some redundancy in this data, and this is going to be an important point we will revisit when building our model."
   ]
  },
  {
   "cell_type": "markdown",
   "metadata": {},
   "source": [
    "Finally, let's see how complete this data is. There are 30 teams in the league, 82 games per season, and this data covers the 2012-2013 through 2017-2018 seasons (6 seasons). So we would expect this many records:"
   ]
  },
  {
   "cell_type": "code",
   "execution_count": 42,
   "metadata": {},
   "outputs": [
    {
     "data": {
      "text/plain": [
       "14760"
      ]
     },
     "execution_count": 42,
     "metadata": {},
     "output_type": "execute_result"
    }
   ],
   "source": [
    "30 * 82 * 6"
   ]
  },
  {
   "cell_type": "markdown",
   "metadata": {},
   "source": [
    "Let's see what percentage of records we actually have."
   ]
  },
  {
   "cell_type": "code",
   "execution_count": 43,
   "metadata": {},
   "outputs": [
    {
     "data": {
      "text/plain": [
       "99.98644986449865"
      ]
     },
     "execution_count": 43,
     "metadata": {},
     "output_type": "execute_result"
    }
   ],
   "source": [
    "team_box_score.shape[0] / 14760 * 100"
   ]
  },
  {
   "cell_type": "markdown",
   "metadata": {},
   "source": [
    "While not as perfect as we may have expected, it seems that the vast majority of the data is present. Since the effects of missing just a couple of records won't greatly affect our analysis, we will continue forward."
   ]
  },
  {
   "cell_type": "markdown",
   "metadata": {},
   "source": [
    "## IV: Data Cleaning and Transformations"
   ]
  },
  {
   "cell_type": "markdown",
   "metadata": {},
   "source": [
    "**Section i: Merging Standings, Team Box Score Data**\n",
    "\n",
    "Right now, our standings data has aggregate statistics for each team through a certain date and our team box score data has the game stats for each date. Both tables also have date attributes, so if we were to combine them, we could try and make use of the statistics offered by both. Thus, the first part of this section will be merging the two tables together.\n",
    "\n",
    "**Section ii: Dropping Extraneous Data**\n",
    "\n",
    "There are many extraneous columns that will be of no use to us - we drop them here.\n",
    "\n",
    "**Section iii: Data Transformations and Extra Calculations**\n",
    "\n",
    "The second section will be focused on how we can transform our data to represent real world circumstances. In reality, we will never have the team box score data of a game before said game (otherwise, predicting a win is as easy as seeing who scored more points). So instead, what we will do is try to make the team box score data look more like the standings data (i.e. we will calculate the team's and oppt's average points, average assists, average STL/TO ratios, etc. for every game of the season).\n",
    "\n",
    "Throughout the process we will need to be mindful of the way we take averages. We want our averages to represent statistics we would have BEFORE game *i* happened, so we would need to take the average of only games *0...i-1*. As for the standings data, because this data has been aggregated after the games that occured that day, we would simply need to move this data one game down for each team. We will walk through each step of this process in section ii. through code commenting and markdown cells, so please refer to those for a more detailed walk through."
   ]
  },
  {
   "cell_type": "markdown",
   "metadata": {},
   "source": [
    "We will be using the following function throughout this section to extract data for each particular season."
   ]
  },
  {
   "cell_type": "code",
   "execution_count": 44,
   "metadata": {},
   "outputs": [],
   "source": [
    "def get_nth_season(data, n):\n",
    "    #1st season begins in 2012 and 6th season begins in 2017\n",
    "    return data[(data['gmDate'] > date(2011 + n, 10, 1)) & (data['gmDate'] < date(2012 + n, 5, 1))]"
   ]
  },
  {
   "cell_type": "markdown",
   "metadata": {},
   "source": [
    "### i. Merging Standings, Team Box Score Data"
   ]
  },
  {
   "cell_type": "markdown",
   "metadata": {},
   "source": [
    "We will want to merge each team's games in the team box score data with what their standing was on that same date. Consequently, we will need to merge on both date and teamAbbr."
   ]
  },
  {
   "cell_type": "code",
   "execution_count": 45,
   "metadata": {},
   "outputs": [],
   "source": [
    "# inner join the tables on the date and teamAbbr\n",
    "# now we'll have each team's stats for that game and their stats up till that date in the season\n",
    "team_box_score = pd.merge(team_box_score, standings, how='inner',\n",
    "                          left_on=['gmDate', 'teamAbbr'], right_on=['stDate', 'teamAbbr'])\n",
    "\n",
    "#drop the added stDate column, which is redundant as we already have a gmDate column\n",
    "team_box_score = team_box_score.drop('stDate', axis=1)"
   ]
  },
  {
   "cell_type": "markdown",
   "metadata": {},
   "source": [
    "Now, we'll make our gmDate column into a datetime object for future use."
   ]
  },
  {
   "cell_type": "code",
   "execution_count": 46,
   "metadata": {},
   "outputs": [],
   "source": [
    "#finally, convert gmDate into a datetime type for ease of manipulation\n",
    "team_box_score['gmDate'] = team_box_score['gmDate'].apply(lambda x: datetime.strptime(x, \"%Y-%m-%d\").date())"
   ]
  },
  {
   "cell_type": "code",
   "execution_count": 47,
   "metadata": {
    "scrolled": true
   },
   "outputs": [
    {
     "data": {
      "text/html": [
       "<div>\n",
       "<style scoped>\n",
       "    .dataframe tbody tr th:only-of-type {\n",
       "        vertical-align: middle;\n",
       "    }\n",
       "\n",
       "    .dataframe tbody tr th {\n",
       "        vertical-align: top;\n",
       "    }\n",
       "\n",
       "    .dataframe thead th {\n",
       "        text-align: right;\n",
       "    }\n",
       "</style>\n",
       "<table border=\"1\" class=\"dataframe\">\n",
       "  <thead>\n",
       "    <tr style=\"text-align: right;\">\n",
       "      <th></th>\n",
       "      <th>gmDate</th>\n",
       "      <th>gmTime</th>\n",
       "      <th>seasTyp</th>\n",
       "      <th>offLNm1</th>\n",
       "      <th>offFNm1</th>\n",
       "      <th>offLNm2</th>\n",
       "      <th>offFNm2</th>\n",
       "      <th>offLNm3</th>\n",
       "      <th>offFNm3</th>\n",
       "      <th>teamAbbr</th>\n",
       "      <th>...</th>\n",
       "      <th>rel%Indx</th>\n",
       "      <th>mov</th>\n",
       "      <th>srs</th>\n",
       "      <th>pw%</th>\n",
       "      <th>pyth%13.91</th>\n",
       "      <th>wpyth13.91</th>\n",
       "      <th>lpyth13.91</th>\n",
       "      <th>pyth%16.5</th>\n",
       "      <th>wpyth16.5</th>\n",
       "      <th>lpyth16.5</th>\n",
       "    </tr>\n",
       "  </thead>\n",
       "  <tbody>\n",
       "    <tr>\n",
       "      <th>0</th>\n",
       "      <td>2012-10-30</td>\n",
       "      <td>19:00</td>\n",
       "      <td>Regular</td>\n",
       "      <td>Brothers</td>\n",
       "      <td>Tony</td>\n",
       "      <td>Smith</td>\n",
       "      <td>Michael</td>\n",
       "      <td>Workman</td>\n",
       "      <td>Haywoode</td>\n",
       "      <td>WAS</td>\n",
       "      <td>...</td>\n",
       "      <td>0.0</td>\n",
       "      <td>-10.0</td>\n",
       "      <td>-10.0</td>\n",
       "      <td>0.1707</td>\n",
       "      <td>0.1730</td>\n",
       "      <td>14.1860</td>\n",
       "      <td>67.8140</td>\n",
       "      <td>0.1352</td>\n",
       "      <td>11.0864</td>\n",
       "      <td>70.9136</td>\n",
       "    </tr>\n",
       "    <tr>\n",
       "      <th>1</th>\n",
       "      <td>2012-10-30</td>\n",
       "      <td>19:00</td>\n",
       "      <td>Regular</td>\n",
       "      <td>Brothers</td>\n",
       "      <td>Tony</td>\n",
       "      <td>Smith</td>\n",
       "      <td>Michael</td>\n",
       "      <td>Workman</td>\n",
       "      <td>Haywoode</td>\n",
       "      <td>CLE</td>\n",
       "      <td>...</td>\n",
       "      <td>0.0</td>\n",
       "      <td>10.0</td>\n",
       "      <td>10.0</td>\n",
       "      <td>0.8293</td>\n",
       "      <td>0.8270</td>\n",
       "      <td>67.8140</td>\n",
       "      <td>14.1860</td>\n",
       "      <td>0.8648</td>\n",
       "      <td>70.9136</td>\n",
       "      <td>11.0864</td>\n",
       "    </tr>\n",
       "    <tr>\n",
       "      <th>2</th>\n",
       "      <td>2012-10-30</td>\n",
       "      <td>20:00</td>\n",
       "      <td>Regular</td>\n",
       "      <td>McCutchen</td>\n",
       "      <td>Monty</td>\n",
       "      <td>Wright</td>\n",
       "      <td>Sean</td>\n",
       "      <td>Fitzgerald</td>\n",
       "      <td>Kane</td>\n",
       "      <td>BOS</td>\n",
       "      <td>...</td>\n",
       "      <td>0.0</td>\n",
       "      <td>-13.0</td>\n",
       "      <td>-13.0</td>\n",
       "      <td>0.0720</td>\n",
       "      <td>0.1687</td>\n",
       "      <td>13.8334</td>\n",
       "      <td>68.1666</td>\n",
       "      <td>0.1310</td>\n",
       "      <td>10.7420</td>\n",
       "      <td>71.2580</td>\n",
       "    </tr>\n",
       "    <tr>\n",
       "      <th>3</th>\n",
       "      <td>2012-10-30</td>\n",
       "      <td>20:00</td>\n",
       "      <td>Regular</td>\n",
       "      <td>McCutchen</td>\n",
       "      <td>Monty</td>\n",
       "      <td>Wright</td>\n",
       "      <td>Sean</td>\n",
       "      <td>Fitzgerald</td>\n",
       "      <td>Kane</td>\n",
       "      <td>MIA</td>\n",
       "      <td>...</td>\n",
       "      <td>0.0</td>\n",
       "      <td>13.0</td>\n",
       "      <td>13.0</td>\n",
       "      <td>0.9280</td>\n",
       "      <td>0.8313</td>\n",
       "      <td>68.1666</td>\n",
       "      <td>13.8334</td>\n",
       "      <td>0.8690</td>\n",
       "      <td>71.2580</td>\n",
       "      <td>10.7420</td>\n",
       "    </tr>\n",
       "    <tr>\n",
       "      <th>4</th>\n",
       "      <td>2012-10-30</td>\n",
       "      <td>22:30</td>\n",
       "      <td>Regular</td>\n",
       "      <td>Foster</td>\n",
       "      <td>Scott</td>\n",
       "      <td>Zielinski</td>\n",
       "      <td>Gary</td>\n",
       "      <td>Dalen</td>\n",
       "      <td>Eric</td>\n",
       "      <td>DAL</td>\n",
       "      <td>...</td>\n",
       "      <td>0.0</td>\n",
       "      <td>8.0</td>\n",
       "      <td>8.0</td>\n",
       "      <td>0.7634</td>\n",
       "      <td>0.7635</td>\n",
       "      <td>62.6070</td>\n",
       "      <td>19.3930</td>\n",
       "      <td>0.8006</td>\n",
       "      <td>65.6492</td>\n",
       "      <td>16.3508</td>\n",
       "    </tr>\n",
       "  </tbody>\n",
       "</table>\n",
       "<p>5 rows × 160 columns</p>\n",
       "</div>"
      ],
      "text/plain": [
       "       gmDate gmTime  seasTyp    offLNm1 offFNm1    offLNm2  offFNm2  \\\n",
       "0  2012-10-30  19:00  Regular   Brothers    Tony      Smith  Michael   \n",
       "1  2012-10-30  19:00  Regular   Brothers    Tony      Smith  Michael   \n",
       "2  2012-10-30  20:00  Regular  McCutchen   Monty     Wright     Sean   \n",
       "3  2012-10-30  20:00  Regular  McCutchen   Monty     Wright     Sean   \n",
       "4  2012-10-30  22:30  Regular     Foster   Scott  Zielinski     Gary   \n",
       "\n",
       "      offLNm3   offFNm3 teamAbbr  ... rel%Indx   mov   srs     pw%  \\\n",
       "0     Workman  Haywoode      WAS  ...      0.0 -10.0 -10.0  0.1707   \n",
       "1     Workman  Haywoode      CLE  ...      0.0  10.0  10.0  0.8293   \n",
       "2  Fitzgerald      Kane      BOS  ...      0.0 -13.0 -13.0  0.0720   \n",
       "3  Fitzgerald      Kane      MIA  ...      0.0  13.0  13.0  0.9280   \n",
       "4       Dalen      Eric      DAL  ...      0.0   8.0   8.0  0.7634   \n",
       "\n",
       "   pyth%13.91  wpyth13.91  lpyth13.91  pyth%16.5  wpyth16.5  lpyth16.5  \n",
       "0      0.1730     14.1860     67.8140     0.1352    11.0864    70.9136  \n",
       "1      0.8270     67.8140     14.1860     0.8648    70.9136    11.0864  \n",
       "2      0.1687     13.8334     68.1666     0.1310    10.7420    71.2580  \n",
       "3      0.8313     68.1666     13.8334     0.8690    71.2580    10.7420  \n",
       "4      0.7635     62.6070     19.3930     0.8006    65.6492    16.3508  \n",
       "\n",
       "[5 rows x 160 columns]"
      ]
     },
     "execution_count": 47,
     "metadata": {},
     "output_type": "execute_result"
    }
   ],
   "source": [
    "team_box_score.head()"
   ]
  },
  {
   "cell_type": "markdown",
   "metadata": {},
   "source": [
    "Our table has a lot of columns right, making it quite difficult to read or interpret. In this section, we will use domain expertise to compute more useful statistics and to replace or drop some columns."
   ]
  },
  {
   "cell_type": "markdown",
   "metadata": {},
   "source": [
    "### ii. Dropping extraneous data"
   ]
  },
  {
   "cell_type": "markdown",
   "metadata": {},
   "source": [
    "Rank, or seed, is determined by a variety of factors, including record (wins vs losses) and performance in a team's division. We believe that because our goal is not to predict standing but rather a win or a loss for a given game, rank isn't as effective a measure as winning percentage for our analysis. Also, because of the method by which we will split dataframes and use indices later, we actually won't need the gamePlay column either."
   ]
  },
  {
   "cell_type": "markdown",
   "metadata": {},
   "source": [
    "We also believe that information like totals for ptsFor and ptsAgnst aren't as useful as averages (ptsScore, ptsAllow). Opponent statistics like opptGmPlay and opptGmWon are effectively summarized in the strength of schedule (sos) column. Finally, statistics like rel%Indx and Pythagorean statistics are difficult to interpret; the goal of our analysis is to determine more simple statistics that have important relationships with a team's likelihood of winning. Consequently, we will drop all of these columns below."
   ]
  },
  {
   "cell_type": "code",
   "execution_count": 48,
   "metadata": {},
   "outputs": [],
   "source": [
    "team_box_score = team_box_score.drop(['rank', 'rankOrd', 'gameBack', 'gamePlay', 'ptsFor', 'ptsAgnst', 'opptGmPlay',\n",
    "                            'opptGmWon', 'opptOpptGmPlay', 'opptOpptGmWon', 'rel%Indx', 'pyth%13.91', 'wpyth13.91',\n",
    "                           'lpyth13.91', 'pyth%16.5', 'wpyth16.5', 'lpyth16.5'], axis=1)\n",
    "\n",
    "# opptRslt is redundant when paired with teamRslt (just 1 if teamRslt was 0, 0 if teamRslt was 1)\n",
    "tbs_avgs = team_box_score.drop('opptRslt', axis=1)\n",
    "\n",
    "non_numerical = ['teamConf','teamDiv', 'opptConf','opptDiv']\n",
    "team_box_score = team_box_score.drop(non_numerical, axis=1)"
   ]
  },
  {
   "cell_type": "markdown",
   "metadata": {},
   "source": [
    "In general, we believe like factors like gmTime and the identity of the officials are relatively negligible in determining the outcome of a game. seasTyp is also not very informative, as all of these games seem to have taken place during the regular season."
   ]
  },
  {
   "cell_type": "code",
   "execution_count": 49,
   "metadata": {
    "scrolled": true
   },
   "outputs": [
    {
     "data": {
      "text/plain": [
       "array(['Regular'], dtype=object)"
      ]
     },
     "execution_count": 49,
     "metadata": {},
     "output_type": "execute_result"
    }
   ],
   "source": [
    "# shows that all games took place during the regular season\n",
    "team_box_score['seasTyp'].unique()"
   ]
  },
  {
   "cell_type": "code",
   "execution_count": 50,
   "metadata": {},
   "outputs": [],
   "source": [
    "# dropping these columns\n",
    "team_box_score = team_box_score.drop(['gmTime', 'seasTyp', 'offLNm1', 'offFNm1', 'offLNm2', 'offFNm2',\n",
    "                                      'offLNm3', 'offFNm3'], axis=1)"
   ]
  },
  {
   "cell_type": "markdown",
   "metadata": {},
   "source": [
    "We will also need to drop the possession and pace columns. As we can see from looking at the head of the data above, these statistics are game specific and the same for both teams in a game, meaning they wouldn't make a lot of sense to average for any team. The good thing is we already have stats like offensive rating and defensive rating which are computed using the possession of each game and make more sense to average over the course of a season."
   ]
  },
  {
   "cell_type": "code",
   "execution_count": 51,
   "metadata": {},
   "outputs": [],
   "source": [
    "# dropping these columns\n",
    "team_box_score = team_box_score.drop(['poss', 'pace'], axis=1)"
   ]
  },
  {
   "cell_type": "markdown",
   "metadata": {},
   "source": [
    "### iii. Data Transformations and Extra Calculations"
   ]
  },
  {
   "cell_type": "markdown",
   "metadata": {},
   "source": [
    "**Calculating winning percentages:**"
   ]
  },
  {
   "cell_type": "markdown",
   "metadata": {},
   "source": [
    "There's still a lot of data that could be summarized more easily using numbers and percentages. Let's start with winning percentages."
   ]
  },
  {
   "cell_type": "markdown",
   "metadata": {},
   "source": [
    "The Standings table currently has columns for gameWon, gameLost, homeWin, homeLoss, awayWin, awayLoss, confWin, and confLoss. Let's convert all these numbers into more concise percentages, like total winning percentage, home winning percentage, etc."
   ]
  },
  {
   "cell_type": "code",
   "execution_count": 52,
   "metadata": {},
   "outputs": [],
   "source": [
    "# total winning percentage is (wins) / (wins + losses)\n",
    "team_box_score['total_wpc'] = np.divide(team_box_score['gameWon'], team_box_score['gameWon'] + team_box_score['gameLost'])\n",
    "# wherever there were 0 games played, we divided by 0 (NaN). replace these\n",
    "team_box_score = team_box_score.fillna(0)\n",
    "# can now drop gameWon, gameLost, as this information is summarized by our wpc statistic\n",
    "team_box_score = team_box_score.drop(['gameWon', 'gameLost'], axis=1)\n",
    "\n",
    "# follow the same process as above for home_wpc, away_wpc, and conf_wpc\n",
    "team_box_score['home_wpc'] = np.divide(team_box_score['homeWin'], team_box_score['homeWin'] + team_box_score['homeLoss'])\n",
    "team_box_score['away_wpc'] = np.divide(team_box_score['awayWin'], team_box_score['awayWin'] + team_box_score['awayLoss'])\n",
    "team_box_score['conf_wpc'] = np.divide(team_box_score['confWin'], team_box_score['confWin'] + team_box_score['confLoss'])\n",
    "team_box_score = team_box_score.fillna(0)\n",
    "team_box_score = team_box_score.drop(['homeWin', 'homeLoss', 'awayWin', 'awayLoss', 'confWin', 'confLoss'], axis=1)"
   ]
  },
  {
   "cell_type": "markdown",
   "metadata": {},
   "source": [
    "**Streaks:**"
   ]
  },
  {
   "cell_type": "markdown",
   "metadata": {},
   "source": [
    "Data regarding whether or not a team is on a streak could be quite useful. Right now, this information is encapsulated in strings, but what if we were to represent them more interpretably using numbers?\n",
    "\n",
    "One way we might do this is by representing losing streaks with negative numbers and winning streaks with positive ones. The length of the streak would be the absolute value of the number."
   ]
  },
  {
   "cell_type": "code",
   "execution_count": 53,
   "metadata": {},
   "outputs": [],
   "source": [
    "# function that converts streak strings into numbers\n",
    "def stk_to_num(x):\n",
    "    if x == '-':\n",
    "        return 0\n",
    "    elif x[0] == 'L':\n",
    "        return -1 * int(x[1:])\n",
    "    else:\n",
    "        return int(x[1:])"
   ]
  },
  {
   "cell_type": "code",
   "execution_count": 54,
   "metadata": {},
   "outputs": [],
   "source": [
    "# once we have numerically represented the streaks, there's no point keeping the string data\n",
    "team_box_score['streak'] = team_box_score['stk'].apply(stk_to_num)\n",
    "team_box_score = team_box_score.drop(['stk', 'stkType', 'stkTot'], axis=1)"
   ]
  },
  {
   "cell_type": "markdown",
   "metadata": {},
   "source": [
    "**Last Five/Last Ten:**"
   ]
  },
  {
   "cell_type": "markdown",
   "metadata": {},
   "source": [
    "Finally, we have this information about how many games each team won in their last 5 and last 10 games. Let's represent these as percentages as well."
   ]
  },
  {
   "cell_type": "code",
   "execution_count": 55,
   "metadata": {},
   "outputs": [],
   "source": [
    "team_box_score['lastTen_wpc'] = team_box_score['lastTen'] / 10\n",
    "team_box_score['lastFive_wpc'] = team_box_score['lastFive'] / 5"
   ]
  },
  {
   "cell_type": "code",
   "execution_count": 56,
   "metadata": {},
   "outputs": [],
   "source": [
    "team_box_score = team_box_score.drop(['lastFive', 'lastTen'], axis=1)"
   ]
  },
  {
   "cell_type": "markdown",
   "metadata": {},
   "source": [
    "**Representing wins and home/away games:**"
   ]
  },
  {
   "cell_type": "markdown",
   "metadata": {},
   "source": [
    "When it comes time to train and test our model, we will want our results to be easily interpretable. Rather than using strings for 'Win' and 'Loss' in the teamRslt column, let's convert this to a binary indicator, where 0's represent losses and 1's represent wins."
   ]
  },
  {
   "cell_type": "code",
   "execution_count": 57,
   "metadata": {},
   "outputs": [],
   "source": [
    "#make these columns a binary indicator\n",
    "team_box_score = team_box_score.replace(to_replace=['Loss', 'Win'], value=[0, 1])\n",
    "team_box_score = team_box_score.replace(to_replace=['Home', 'Away'], value=[0, 1])"
   ]
  },
  {
   "cell_type": "markdown",
   "metadata": {},
   "source": [
    "### ii. Computing Averages"
   ]
  },
  {
   "cell_type": "markdown",
   "metadata": {},
   "source": [
    "**Getting each season's data:**"
   ]
  },
  {
   "cell_type": "markdown",
   "metadata": {},
   "source": [
    "The first thing we will need to do is split our team box score data by season. We will do so below using our *get_nth_season* function from the beginning of the section."
   ]
  },
  {
   "cell_type": "code",
   "execution_count": 58,
   "metadata": {},
   "outputs": [],
   "source": [
    "# data for each season\n",
    "all_seasons = []\n",
    "for i in range(1, 7):\n",
    "    # compile every season's data into one list\n",
    "    all_seasons.append(get_nth_season(team_box_score, i))"
   ]
  },
  {
   "cell_type": "markdown",
   "metadata": {},
   "source": [
    "**Key functions:**"
   ]
  },
  {
   "cell_type": "markdown",
   "metadata": {},
   "source": [
    "Now, we will need to split each season up by team in order to compute each team's average statistics. We will use the following functions each time in order to do this. The components of these functions end up being quite long, so we've included a variety of comments to break them down."
   ]
  },
  {
   "cell_type": "code",
   "execution_count": 59,
   "metadata": {},
   "outputs": [],
   "source": [
    "def all_team_data(season_data, which_team):\n",
    "    \"\"\"\n",
    "    This function takes the data for one season and compiles a list of 30 DataFrames; each DataFrame in the list\n",
    "    represents the season data for one team in the NBA.\n",
    "    \n",
    "    Based on the argument given to which_team, this function will either group by the teamAbbr or the opptAbbr.\n",
    "    The purpose of this is we will need to group by the former to compute the provided team's average stats before\n",
    "    every game, but we will later need to group by the latter to compute the opponent's average stats before\n",
    "    every game.\n",
    "    \"\"\"\n",
    "    if which_team == 0:\n",
    "        teams = season_data['teamAbbr'].unique()\n",
    "        grouped = season_data.groupby('teamAbbr')\n",
    "    else:\n",
    "        teams = season_data['opptAbbr'].unique()\n",
    "        grouped = season_data.groupby('opptAbbr')\n",
    "    teams_data = []\n",
    "    for team in teams:\n",
    "        teams_data.append(grouped.get_group(team))\n",
    "    return teams_data"
   ]
  },
  {
   "cell_type": "code",
   "execution_count": 60,
   "metadata": {},
   "outputs": [],
   "source": [
    "def compute_averages(team, columns):\n",
    "    \"\"\"\n",
    "    This function takes the season data for one team in the NBA and a list of columns. For every column c,\n",
    "    this function replaces every entry, i_c, in the column with the average of its previous entries\n",
    "    mean(0_c, ..., (i-1)_c).\n",
    "    \n",
    "    In other words, say I pass in the 2012-2013 season data for the Washington Wizards and the following\n",
    "    list of columns: ['teamPTS', 'teamAST']. For every game in the season data, I will replace the teamPTS\n",
    "    and teamAST recorded for that game with the Wizards' average teamPTS and teamAST during all games\n",
    "    BEFORE that one. Essentially, it will be like the Wizards' 50th game was tomorrow and I had their season\n",
    "    statistical averages up until that point in time. The point of this transformation is to pretend that\n",
    "    we are analysts looking at stats before a game happens trying to determine who will win using a model.\n",
    "    \n",
    "    This function goes through the entries in reverse order, so entries are only\n",
    "    replaced after all computation involving them has been completed.\n",
    "    \"\"\"\n",
    "    # first reset the index so that all games are numbered 0-81\n",
    "    team = team.reset_index()\n",
    "    team = team.drop('index', axis=1)\n",
    "    \n",
    "    # replace the final entry in each column with the average of the prev n-1 entries\n",
    "    for col in columns:\n",
    "        team.loc[len(team)-1, col] = team.loc[0:(len(team)-2)][col].mean()\n",
    "    \n",
    "    # for each entry, i, in each column, replace that entry with the average of the previous i-1 entries\n",
    "    for i in range(len(team)-2):\n",
    "        ind = len(team) - i - 2\n",
    "        for col in columns:\n",
    "            # for each game, g, compute the team's total, say, pts after game g. then subtract the points scored in game g\n",
    "            # and divide by the number of games that happened before game g. this yields the team's avg pts before game g.\n",
    "            team.loc[ind,col] = (team.loc[ind+1,col]*(ind+1)-team.loc[ind,col])/(ind)\n",
    "\n",
    "    # set all stats before the first game to 0\n",
    "    for col in columns:\n",
    "        team.loc[0,col] = 0\n",
    "    # return the dataframe\n",
    "    return team"
   ]
  },
  {
   "cell_type": "code",
   "execution_count": 61,
   "metadata": {},
   "outputs": [],
   "source": [
    "def adjust_standings(team, columns):\n",
    "    \"\"\"\n",
    "    This function essentially shifts all the standings data that we've added one entry down. This way, the data\n",
    "    we'll use to predict won't include statistics from that game. Then we'll set all standings data for first\n",
    "    games to 0.\n",
    "    \n",
    "    Call this function after calling compute_averages to ensure indices are numbered as desired.\n",
    "    \"\"\"\n",
    "    # for each column we want to shift...\n",
    "    for col in columns:\n",
    "        # let entry n take the value of entry n-1\n",
    "        for i in range(1, len(team)):\n",
    "            ind = len(team) - i\n",
    "            team.loc[ind, col] = team.loc[ind-1, col]\n",
    "        # set entry 0 of each col to 0\n",
    "        team.loc[0, col] = 0\n",
    "    return team"
   ]
  },
  {
   "cell_type": "markdown",
   "metadata": {},
   "source": [
    "**Calling the functions to compute our results:**"
   ]
  },
  {
   "cell_type": "markdown",
   "metadata": {},
   "source": [
    "Note that in order to use the *compute_averages* and *adjust_standings* functions, we will need to pass in a list of labels corresponding to the columns we want to manipulate.\n",
    "\n",
    "We will need to run *compute_averages* several times on 2 main occasions:\n",
    "1. In the first occasion, we will have grouped by the teamAbbr and will be aiming to compute the average stats for the columns corresponding to that teamAbbr.\n",
    "2. In the second occasion, we will have grouped by the opptAbbr and will be aiming to compute the average stats for the columns corresponding to that opptAbbr.\n",
    "\n",
    "Consequently, we will need to make a *team_cols* list and an *oppt_cols* list, one for each occasion.\n",
    "\n",
    "We will also need to make a list of *standings_cols*. This list will include the labels of all standing columns that we will need to shift using the *adjust_standings* function."
   ]
  },
  {
   "cell_type": "code",
   "execution_count": 62,
   "metadata": {},
   "outputs": [],
   "source": [
    "# team cols will be the columns we will aggregate grouping by teamAbbr\n",
    "team_cols = ['teamMin', 'teamPTS', 'teamAST', 'teamTO', 'teamSTL', 'teamBLK', 'teamPF', 'teamFGA',\n",
    "               'teamFGM', 'teamFG%', 'team2PA', 'team2PM', 'team2P%', 'team3PA', 'team3PM', 'team3P%', 'teamFTA',\n",
    "               'teamFTM', 'teamFT%', 'teamORB', 'teamDRB', 'teamTRB', 'teamPTS1', 'teamPTS2', 'teamPTS3', 'teamPTS4',\n",
    "               'teamPTS5', 'teamPTS6', 'teamPTS7', 'teamPTS8', 'teamTREB%', 'teamASST%', 'teamTS%', 'teamEFG%',\n",
    "               'teamOREB%', 'teamDREB%', 'teamTO%', 'teamSTL%', 'teamBLK%', 'teamBLKR', 'teamPPS', 'teamFIC',\n",
    "               'teamFIC40', 'teamOrtg', 'teamDrtg', 'teamEDiff', 'teamPlay%', 'teamAR', 'teamAST/TO', 'teamSTL/TO']\n",
    "# oppt cols will be the columns we will aggregate grouping by opptAbbr\n",
    "oppt_cols = ['opptMin', 'opptPTS', 'opptAST', 'opptTO', 'opptSTL', 'opptBLK', 'opptPF',\n",
    "            'opptFGA', 'opptFGM', 'opptFG%', 'oppt2PA', 'oppt2PM', 'oppt2P%', 'oppt3PA', 'oppt3PM', 'oppt3P%',\n",
    "            'opptFTA', 'opptFTM', 'opptFT%', 'opptORB', 'opptDRB', 'opptTRB', 'opptPTS1', 'opptPTS2', 'opptPTS3',\n",
    "            'opptPTS4', 'opptPTS5', 'opptPTS6', 'opptPTS7', 'opptPTS8', 'opptTREB%', 'opptASST%', 'opptTS%',\n",
    "            'opptEFG%', 'opptOREB%', 'opptDREB%', 'opptTO%', 'opptSTL%', 'opptBLK%', 'opptBLKR', 'opptPPS',\n",
    "            'opptFIC', 'opptFIC40', 'opptOrtg', 'opptDrtg', 'opptEDiff', 'opptPlay%', 'opptAR', 'opptAST/TO',\n",
    "            'opptSTL/TO']\n",
    "# standing cols will be the columns we will need to shift\n",
    "standing_cols = ['ptsScore', 'ptsAllow', 'ptsDiff', 'sos', 'mov', 'srs', 'pw%', 'total_wpc', 'home_wpc', 'away_wpc',\n",
    "                'conf_wpc', 'streak', 'lastTen_wpc', 'lastFive_wpc']"
   ]
  },
  {
   "cell_type": "markdown",
   "metadata": {},
   "source": [
    "checked the below calculations against season records; everything checked out"
   ]
  },
  {
   "cell_type": "code",
   "execution_count": 63,
   "metadata": {},
   "outputs": [],
   "source": [
    "# for every season...\n",
    "for i in range(len(all_seasons)):\n",
    "    # get the data for every team from that season\n",
    "    list_of_teams = all_team_data(all_seasons[i], which_team=0)\n",
    "    \n",
    "    # for each team, compute averages for various columns\n",
    "    # (see the compute_averages comments for details)\n",
    "    for k in range(len(list_of_teams)):\n",
    "        list_of_teams[k] = compute_averages(list_of_teams[k], team_cols)\n",
    "        # also for each team, move all their standings data one entry down\n",
    "        # for ex. we want the Wizards' streak number BEFORE game i, not after it.\n",
    "        list_of_teams[k] = adjust_standings(list_of_teams[k], standing_cols)\n",
    "    \n",
    "\n",
    "    # once every team's averages have been computed, join them back into one season\n",
    "    season_df = pd.concat(list_of_teams)\n",
    "    \n",
    "    # then sort the season by game date and assign it back into all_seasons\n",
    "    season_df = season_df.sort_values(by='gmDate')\n",
    "    all_seasons[i] = season_df"
   ]
  },
  {
   "cell_type": "markdown",
   "metadata": {},
   "source": [
    "deal with oppt stats"
   ]
  },
  {
   "cell_type": "code",
   "execution_count": 64,
   "metadata": {},
   "outputs": [
    {
     "data": {
      "text/html": [
       "<div>\n",
       "<style scoped>\n",
       "    .dataframe tbody tr th:only-of-type {\n",
       "        vertical-align: middle;\n",
       "    }\n",
       "\n",
       "    .dataframe tbody tr th {\n",
       "        vertical-align: top;\n",
       "    }\n",
       "\n",
       "    .dataframe thead th {\n",
       "        text-align: right;\n",
       "    }\n",
       "</style>\n",
       "<table border=\"1\" class=\"dataframe\">\n",
       "  <thead>\n",
       "    <tr style=\"text-align: right;\">\n",
       "      <th></th>\n",
       "      <th>gmDate</th>\n",
       "      <th>teamAbbr</th>\n",
       "      <th>teamLoc</th>\n",
       "      <th>teamRslt</th>\n",
       "      <th>teamMin</th>\n",
       "      <th>teamDayOff</th>\n",
       "      <th>teamPTS</th>\n",
       "      <th>teamAST</th>\n",
       "      <th>teamTO</th>\n",
       "      <th>teamSTL</th>\n",
       "      <th>...</th>\n",
       "      <th>mov</th>\n",
       "      <th>srs</th>\n",
       "      <th>pw%</th>\n",
       "      <th>total_wpc</th>\n",
       "      <th>home_wpc</th>\n",
       "      <th>away_wpc</th>\n",
       "      <th>conf_wpc</th>\n",
       "      <th>streak</th>\n",
       "      <th>lastTen_wpc</th>\n",
       "      <th>lastFive_wpc</th>\n",
       "    </tr>\n",
       "  </thead>\n",
       "  <tbody>\n",
       "    <tr>\n",
       "      <th>81</th>\n",
       "      <td>2013-04-17</td>\n",
       "      <td>LAC</td>\n",
       "      <td>1</td>\n",
       "      <td>1</td>\n",
       "      <td>240.617284</td>\n",
       "      <td>1</td>\n",
       "      <td>100.950617</td>\n",
       "      <td>23.864198</td>\n",
       "      <td>14.617284</td>\n",
       "      <td>9.617284</td>\n",
       "      <td>...</td>\n",
       "      <td>6.4815</td>\n",
       "      <td>5.9790</td>\n",
       "      <td>0.7134</td>\n",
       "      <td>0.679012</td>\n",
       "      <td>0.780488</td>\n",
       "      <td>0.575000</td>\n",
       "      <td>0.666667</td>\n",
       "      <td>6</td>\n",
       "      <td>0.7</td>\n",
       "      <td>1.0</td>\n",
       "    </tr>\n",
       "    <tr>\n",
       "      <th>81</th>\n",
       "      <td>2013-04-17</td>\n",
       "      <td>MIA</td>\n",
       "      <td>0</td>\n",
       "      <td>1</td>\n",
       "      <td>242.469136</td>\n",
       "      <td>2</td>\n",
       "      <td>102.851852</td>\n",
       "      <td>22.950617</td>\n",
       "      <td>13.962963</td>\n",
       "      <td>8.679012</td>\n",
       "      <td>...</td>\n",
       "      <td>7.8148</td>\n",
       "      <td>7.3273</td>\n",
       "      <td>0.7573</td>\n",
       "      <td>0.802469</td>\n",
       "      <td>0.900000</td>\n",
       "      <td>0.707317</td>\n",
       "      <td>0.784314</td>\n",
       "      <td>7</td>\n",
       "      <td>0.9</td>\n",
       "      <td>1.0</td>\n",
       "    </tr>\n",
       "    <tr>\n",
       "      <th>81</th>\n",
       "      <td>2013-04-17</td>\n",
       "      <td>CHI</td>\n",
       "      <td>0</td>\n",
       "      <td>1</td>\n",
       "      <td>241.851852</td>\n",
       "      <td>2</td>\n",
       "      <td>93.160494</td>\n",
       "      <td>22.962963</td>\n",
       "      <td>14.271605</td>\n",
       "      <td>7.197531</td>\n",
       "      <td>...</td>\n",
       "      <td>0.2840</td>\n",
       "      <td>-0.2119</td>\n",
       "      <td>0.5094</td>\n",
       "      <td>0.543210</td>\n",
       "      <td>0.575000</td>\n",
       "      <td>0.512195</td>\n",
       "      <td>0.647059</td>\n",
       "      <td>1</td>\n",
       "      <td>0.5</td>\n",
       "      <td>0.4</td>\n",
       "    </tr>\n",
       "    <tr>\n",
       "      <th>81</th>\n",
       "      <td>2013-04-17</td>\n",
       "      <td>DEN</td>\n",
       "      <td>0</td>\n",
       "      <td>1</td>\n",
       "      <td>242.777778</td>\n",
       "      <td>2</td>\n",
       "      <td>106.000000</td>\n",
       "      <td>24.370370</td>\n",
       "      <td>15.271605</td>\n",
       "      <td>9.320988</td>\n",
       "      <td>...</td>\n",
       "      <td>4.9012</td>\n",
       "      <td>4.3929</td>\n",
       "      <td>0.6614</td>\n",
       "      <td>0.691358</td>\n",
       "      <td>0.925000</td>\n",
       "      <td>0.463415</td>\n",
       "      <td>0.725490</td>\n",
       "      <td>2</td>\n",
       "      <td>0.7</td>\n",
       "      <td>0.8</td>\n",
       "    </tr>\n",
       "    <tr>\n",
       "      <th>80</th>\n",
       "      <td>2013-04-17</td>\n",
       "      <td>IND</td>\n",
       "      <td>0</td>\n",
       "      <td>0</td>\n",
       "      <td>241.875000</td>\n",
       "      <td>1</td>\n",
       "      <td>94.737500</td>\n",
       "      <td>20.350000</td>\n",
       "      <td>15.125000</td>\n",
       "      <td>7.150000</td>\n",
       "      <td>...</td>\n",
       "      <td>4.2000</td>\n",
       "      <td>3.7111</td>\n",
       "      <td>0.6383</td>\n",
       "      <td>0.612500</td>\n",
       "      <td>0.750000</td>\n",
       "      <td>0.475000</td>\n",
       "      <td>0.620000</td>\n",
       "      <td>-2</td>\n",
       "      <td>0.6</td>\n",
       "      <td>0.2</td>\n",
       "    </tr>\n",
       "    <tr>\n",
       "      <th>81</th>\n",
       "      <td>2013-04-17</td>\n",
       "      <td>HOU</td>\n",
       "      <td>1</td>\n",
       "      <td>0</td>\n",
       "      <td>240.925926</td>\n",
       "      <td>2</td>\n",
       "      <td>106.086420</td>\n",
       "      <td>23.209877</td>\n",
       "      <td>16.469136</td>\n",
       "      <td>8.296296</td>\n",
       "      <td>...</td>\n",
       "      <td>3.5679</td>\n",
       "      <td>3.0627</td>\n",
       "      <td>0.6175</td>\n",
       "      <td>0.555556</td>\n",
       "      <td>0.707317</td>\n",
       "      <td>0.400000</td>\n",
       "      <td>0.470588</td>\n",
       "      <td>-1</td>\n",
       "      <td>0.6</td>\n",
       "      <td>0.4</td>\n",
       "    </tr>\n",
       "    <tr>\n",
       "      <th>81</th>\n",
       "      <td>2013-04-17</td>\n",
       "      <td>OKC</td>\n",
       "      <td>0</td>\n",
       "      <td>0</td>\n",
       "      <td>241.851852</td>\n",
       "      <td>2</td>\n",
       "      <td>105.925926</td>\n",
       "      <td>21.444444</td>\n",
       "      <td>15.358025</td>\n",
       "      <td>8.283951</td>\n",
       "      <td>...</td>\n",
       "      <td>9.3951</td>\n",
       "      <td>8.8929</td>\n",
       "      <td>0.8094</td>\n",
       "      <td>0.740741</td>\n",
       "      <td>0.850000</td>\n",
       "      <td>0.634146</td>\n",
       "      <td>0.750000</td>\n",
       "      <td>4</td>\n",
       "      <td>0.8</td>\n",
       "      <td>0.8</td>\n",
       "    </tr>\n",
       "    <tr>\n",
       "      <th>80</th>\n",
       "      <td>2013-04-17</td>\n",
       "      <td>BOS</td>\n",
       "      <td>1</td>\n",
       "      <td>0</td>\n",
       "      <td>245.000000</td>\n",
       "      <td>1</td>\n",
       "      <td>96.600000</td>\n",
       "      <td>22.800000</td>\n",
       "      <td>14.600000</td>\n",
       "      <td>8.250000</td>\n",
       "      <td>...</td>\n",
       "      <td>0.0750</td>\n",
       "      <td>-0.4192</td>\n",
       "      <td>0.5025</td>\n",
       "      <td>0.512500</td>\n",
       "      <td>0.675000</td>\n",
       "      <td>0.350000</td>\n",
       "      <td>0.540000</td>\n",
       "      <td>1</td>\n",
       "      <td>0.5</td>\n",
       "      <td>0.4</td>\n",
       "    </tr>\n",
       "    <tr>\n",
       "      <th>81</th>\n",
       "      <td>2013-04-17</td>\n",
       "      <td>LAL</td>\n",
       "      <td>0</td>\n",
       "      <td>1</td>\n",
       "      <td>240.617284</td>\n",
       "      <td>3</td>\n",
       "      <td>102.246914</td>\n",
       "      <td>22.111111</td>\n",
       "      <td>15.049383</td>\n",
       "      <td>7.037037</td>\n",
       "      <td>...</td>\n",
       "      <td>1.1235</td>\n",
       "      <td>0.6188</td>\n",
       "      <td>0.5370</td>\n",
       "      <td>0.543210</td>\n",
       "      <td>0.700000</td>\n",
       "      <td>0.390244</td>\n",
       "      <td>0.529412</td>\n",
       "      <td>4</td>\n",
       "      <td>0.8</td>\n",
       "      <td>0.8</td>\n",
       "    </tr>\n",
       "    <tr>\n",
       "      <th>81</th>\n",
       "      <td>2013-04-17</td>\n",
       "      <td>BKN</td>\n",
       "      <td>0</td>\n",
       "      <td>1</td>\n",
       "      <td>242.160494</td>\n",
       "      <td>2</td>\n",
       "      <td>96.802469</td>\n",
       "      <td>20.246914</td>\n",
       "      <td>14.592593</td>\n",
       "      <td>7.234568</td>\n",
       "      <td>...</td>\n",
       "      <td>1.7531</td>\n",
       "      <td>1.2614</td>\n",
       "      <td>0.5577</td>\n",
       "      <td>0.592593</td>\n",
       "      <td>0.625000</td>\n",
       "      <td>0.560976</td>\n",
       "      <td>0.686275</td>\n",
       "      <td>1</td>\n",
       "      <td>0.6</td>\n",
       "      <td>0.8</td>\n",
       "    </tr>\n",
       "  </tbody>\n",
       "</table>\n",
       "<p>10 rows × 123 columns</p>\n",
       "</div>"
      ],
      "text/plain": [
       "        gmDate teamAbbr  teamLoc  teamRslt     teamMin  teamDayOff  \\\n",
       "81  2013-04-17      LAC        1         1  240.617284           1   \n",
       "81  2013-04-17      MIA        0         1  242.469136           2   \n",
       "81  2013-04-17      CHI        0         1  241.851852           2   \n",
       "81  2013-04-17      DEN        0         1  242.777778           2   \n",
       "80  2013-04-17      IND        0         0  241.875000           1   \n",
       "81  2013-04-17      HOU        1         0  240.925926           2   \n",
       "81  2013-04-17      OKC        0         0  241.851852           2   \n",
       "80  2013-04-17      BOS        1         0  245.000000           1   \n",
       "81  2013-04-17      LAL        0         1  240.617284           3   \n",
       "81  2013-04-17      BKN        0         1  242.160494           2   \n",
       "\n",
       "       teamPTS    teamAST     teamTO   teamSTL  ...     mov     srs     pw%  \\\n",
       "81  100.950617  23.864198  14.617284  9.617284  ...  6.4815  5.9790  0.7134   \n",
       "81  102.851852  22.950617  13.962963  8.679012  ...  7.8148  7.3273  0.7573   \n",
       "81   93.160494  22.962963  14.271605  7.197531  ...  0.2840 -0.2119  0.5094   \n",
       "81  106.000000  24.370370  15.271605  9.320988  ...  4.9012  4.3929  0.6614   \n",
       "80   94.737500  20.350000  15.125000  7.150000  ...  4.2000  3.7111  0.6383   \n",
       "81  106.086420  23.209877  16.469136  8.296296  ...  3.5679  3.0627  0.6175   \n",
       "81  105.925926  21.444444  15.358025  8.283951  ...  9.3951  8.8929  0.8094   \n",
       "80   96.600000  22.800000  14.600000  8.250000  ...  0.0750 -0.4192  0.5025   \n",
       "81  102.246914  22.111111  15.049383  7.037037  ...  1.1235  0.6188  0.5370   \n",
       "81   96.802469  20.246914  14.592593  7.234568  ...  1.7531  1.2614  0.5577   \n",
       "\n",
       "    total_wpc  home_wpc  away_wpc  conf_wpc  streak  lastTen_wpc  lastFive_wpc  \n",
       "81   0.679012  0.780488  0.575000  0.666667       6          0.7           1.0  \n",
       "81   0.802469  0.900000  0.707317  0.784314       7          0.9           1.0  \n",
       "81   0.543210  0.575000  0.512195  0.647059       1          0.5           0.4  \n",
       "81   0.691358  0.925000  0.463415  0.725490       2          0.7           0.8  \n",
       "80   0.612500  0.750000  0.475000  0.620000      -2          0.6           0.2  \n",
       "81   0.555556  0.707317  0.400000  0.470588      -1          0.6           0.4  \n",
       "81   0.740741  0.850000  0.634146  0.750000       4          0.8           0.8  \n",
       "80   0.512500  0.675000  0.350000  0.540000       1          0.5           0.4  \n",
       "81   0.543210  0.700000  0.390244  0.529412       4          0.8           0.8  \n",
       "81   0.592593  0.625000  0.560976  0.686275       1          0.6           0.8  \n",
       "\n",
       "[10 rows x 123 columns]"
      ]
     },
     "execution_count": 64,
     "metadata": {},
     "output_type": "execute_result"
    }
   ],
   "source": [
    "all_seasons[0].tail(10)"
   ]
  },
  {
   "cell_type": "code",
   "execution_count": null,
   "metadata": {},
   "outputs": [],
   "source": [
    "# for every season...\n",
    "for i in range(len(all_seasons)):\n",
    "    # get the data for every oppt from that season\n",
    "    list_of_teams = all_team_data(all_seasons[i], which_team=1)\n",
    "    \n",
    "    # for each oppt, compute averages for various columns\n",
    "    for k in range(len(list_of_teams)):\n",
    "        list_of_teams[k] = compute_averages(list_of_teams[k], oppt_cols)\n",
    "    \n",
    "    # once every oppt's averages have been computed, join them back into one season\n",
    "    season_df = pd.concat(list_of_teams)\n",
    "    \n",
    "    # then sort the season by game date and assign it back into all_seasons\n",
    "    season_df = season_df.sort_values(by='gmDate')\n",
    "    all_seasons[i] = season_df"
   ]
  },
  {
   "cell_type": "markdown",
   "metadata": {},
   "source": [
    "Join all the seasons data back together."
   ]
  },
  {
   "cell_type": "code",
   "execution_count": null,
   "metadata": {},
   "outputs": [],
   "source": [
    "# all season data should already be sorted, so we can just concatenate everything together\n",
    "tbs_avgs = pd.concat(all_seasons)"
   ]
  },
  {
   "cell_type": "code",
   "execution_count": null,
   "metadata": {},
   "outputs": [],
   "source": [
    "# giving each game instance a unique index again\n",
    "tbs_avgs = tbs_avgs.reset_index()\n",
    "tbs_avgs = tbs_avgs.drop(['index', 'gmDate'], axis=1)"
   ]
  },
  {
   "cell_type": "code",
   "execution_count": null,
   "metadata": {},
   "outputs": [],
   "source": [
    "tbs_avgs[['teamPTS', 'ptsScore']].head(200)[180:]"
   ]
  },
  {
   "cell_type": "markdown",
   "metadata": {},
   "source": [
    "Drop these columns as we will no longer need them. Before you do that though, check if teamPTS = ptsScore as it should be. Yes it does."
   ]
  },
  {
   "cell_type": "code",
   "execution_count": null,
   "metadata": {},
   "outputs": [],
   "source": [
    "# ptsScore is redundant with teamPTS\n",
    "tbs_avgs = tbs_avgs.drop('ptsScore', axis=1)"
   ]
  },
  {
   "cell_type": "markdown",
   "metadata": {},
   "source": [
    "## VI: Exploratory Data Analysis"
   ]
  },
  {
   "cell_type": "markdown",
   "metadata": {},
   "source": [
    "**Test train split before we make plots depicting correlation, potential features, etc.**"
   ]
  },
  {
   "cell_type": "code",
   "execution_count": 147,
   "metadata": {},
   "outputs": [
    {
     "ename": "ValueError",
     "evalue": "could not convert string to float: 'SA'",
     "output_type": "error",
     "traceback": [
      "\u001b[0;31m---------------------------------------------------------------------------\u001b[0m",
      "\u001b[0;31mValueError\u001b[0m                                Traceback (most recent call last)",
      "\u001b[0;32m<ipython-input-147-bdd3d7580a5f>\u001b[0m in \u001b[0;36m<module>\u001b[0;34m\u001b[0m\n\u001b[1;32m      3\u001b[0m \u001b[0;34m\u001b[0m\u001b[0m\n\u001b[1;32m      4\u001b[0m \u001b[0mtrain\u001b[0m\u001b[0;34m,\u001b[0m \u001b[0mtest\u001b[0m \u001b[0;34m=\u001b[0m \u001b[0mtrain_test_split\u001b[0m\u001b[0;34m(\u001b[0m\u001b[0mtbs_avgs\u001b[0m\u001b[0;34m,\u001b[0m \u001b[0mtest_size\u001b[0m\u001b[0;34m=\u001b[0m\u001b[0;36m0.15\u001b[0m\u001b[0;34m)\u001b[0m\u001b[0;34m\u001b[0m\u001b[0;34m\u001b[0m\u001b[0m\n\u001b[0;32m----> 5\u001b[0;31m \u001b[0mtrain_standardized\u001b[0m\u001b[0;34m,\u001b[0m \u001b[0mtest_standardized\u001b[0m \u001b[0;34m=\u001b[0m \u001b[0mStandardScaler\u001b[0m\u001b[0;34m(\u001b[0m\u001b[0;34m)\u001b[0m\u001b[0;34m.\u001b[0m\u001b[0mfit_transform\u001b[0m\u001b[0;34m(\u001b[0m\u001b[0mtrain\u001b[0m\u001b[0;34m)\u001b[0m\u001b[0;34m,\u001b[0m \u001b[0mStandardScaler\u001b[0m\u001b[0;34m(\u001b[0m\u001b[0;34m)\u001b[0m\u001b[0;34m.\u001b[0m\u001b[0mfit_transform\u001b[0m\u001b[0;34m(\u001b[0m\u001b[0mtest\u001b[0m\u001b[0;34m)\u001b[0m\u001b[0;34m\u001b[0m\u001b[0;34m\u001b[0m\u001b[0m\n\u001b[0m",
      "\u001b[0;32m/usr/lib/python3.8/site-packages/sklearn/base.py\u001b[0m in \u001b[0;36mfit_transform\u001b[0;34m(self, X, y, **fit_params)\u001b[0m\n\u001b[1;32m    688\u001b[0m         \u001b[0;32mif\u001b[0m \u001b[0my\u001b[0m \u001b[0;32mis\u001b[0m \u001b[0;32mNone\u001b[0m\u001b[0;34m:\u001b[0m\u001b[0;34m\u001b[0m\u001b[0;34m\u001b[0m\u001b[0m\n\u001b[1;32m    689\u001b[0m             \u001b[0;31m# fit method of arity 1 (unsupervised transformation)\u001b[0m\u001b[0;34m\u001b[0m\u001b[0;34m\u001b[0m\u001b[0;34m\u001b[0m\u001b[0m\n\u001b[0;32m--> 690\u001b[0;31m             \u001b[0;32mreturn\u001b[0m \u001b[0mself\u001b[0m\u001b[0;34m.\u001b[0m\u001b[0mfit\u001b[0m\u001b[0;34m(\u001b[0m\u001b[0mX\u001b[0m\u001b[0;34m,\u001b[0m \u001b[0;34m**\u001b[0m\u001b[0mfit_params\u001b[0m\u001b[0;34m)\u001b[0m\u001b[0;34m.\u001b[0m\u001b[0mtransform\u001b[0m\u001b[0;34m(\u001b[0m\u001b[0mX\u001b[0m\u001b[0;34m)\u001b[0m\u001b[0;34m\u001b[0m\u001b[0;34m\u001b[0m\u001b[0m\n\u001b[0m\u001b[1;32m    691\u001b[0m         \u001b[0;32melse\u001b[0m\u001b[0;34m:\u001b[0m\u001b[0;34m\u001b[0m\u001b[0;34m\u001b[0m\u001b[0m\n\u001b[1;32m    692\u001b[0m             \u001b[0;31m# fit method of arity 2 (supervised transformation)\u001b[0m\u001b[0;34m\u001b[0m\u001b[0;34m\u001b[0m\u001b[0;34m\u001b[0m\u001b[0m\n",
      "\u001b[0;32m/usr/lib/python3.8/site-packages/sklearn/preprocessing/_data.py\u001b[0m in \u001b[0;36mfit\u001b[0;34m(self, X, y)\u001b[0m\n\u001b[1;32m    665\u001b[0m         \u001b[0;31m# Reset internal state before fitting\u001b[0m\u001b[0;34m\u001b[0m\u001b[0;34m\u001b[0m\u001b[0;34m\u001b[0m\u001b[0m\n\u001b[1;32m    666\u001b[0m         \u001b[0mself\u001b[0m\u001b[0;34m.\u001b[0m\u001b[0m_reset\u001b[0m\u001b[0;34m(\u001b[0m\u001b[0;34m)\u001b[0m\u001b[0;34m\u001b[0m\u001b[0;34m\u001b[0m\u001b[0m\n\u001b[0;32m--> 667\u001b[0;31m         \u001b[0;32mreturn\u001b[0m \u001b[0mself\u001b[0m\u001b[0;34m.\u001b[0m\u001b[0mpartial_fit\u001b[0m\u001b[0;34m(\u001b[0m\u001b[0mX\u001b[0m\u001b[0;34m,\u001b[0m \u001b[0my\u001b[0m\u001b[0;34m)\u001b[0m\u001b[0;34m\u001b[0m\u001b[0;34m\u001b[0m\u001b[0m\n\u001b[0m\u001b[1;32m    668\u001b[0m \u001b[0;34m\u001b[0m\u001b[0m\n\u001b[1;32m    669\u001b[0m     \u001b[0;32mdef\u001b[0m \u001b[0mpartial_fit\u001b[0m\u001b[0;34m(\u001b[0m\u001b[0mself\u001b[0m\u001b[0;34m,\u001b[0m \u001b[0mX\u001b[0m\u001b[0;34m,\u001b[0m \u001b[0my\u001b[0m\u001b[0;34m=\u001b[0m\u001b[0;32mNone\u001b[0m\u001b[0;34m)\u001b[0m\u001b[0;34m:\u001b[0m\u001b[0;34m\u001b[0m\u001b[0;34m\u001b[0m\u001b[0m\n",
      "\u001b[0;32m/usr/lib/python3.8/site-packages/sklearn/preprocessing/_data.py\u001b[0m in \u001b[0;36mpartial_fit\u001b[0;34m(self, X, y)\u001b[0m\n\u001b[1;32m    694\u001b[0m             \u001b[0mTransformer\u001b[0m \u001b[0minstance\u001b[0m\u001b[0;34m.\u001b[0m\u001b[0;34m\u001b[0m\u001b[0;34m\u001b[0m\u001b[0m\n\u001b[1;32m    695\u001b[0m         \"\"\"\n\u001b[0;32m--> 696\u001b[0;31m         X = self._validate_data(X, accept_sparse=('csr', 'csc'),\n\u001b[0m\u001b[1;32m    697\u001b[0m                                 \u001b[0mestimator\u001b[0m\u001b[0;34m=\u001b[0m\u001b[0mself\u001b[0m\u001b[0;34m,\u001b[0m \u001b[0mdtype\u001b[0m\u001b[0;34m=\u001b[0m\u001b[0mFLOAT_DTYPES\u001b[0m\u001b[0;34m,\u001b[0m\u001b[0;34m\u001b[0m\u001b[0;34m\u001b[0m\u001b[0m\n\u001b[1;32m    698\u001b[0m                                 force_all_finite='allow-nan')\n",
      "\u001b[0;32m/usr/lib/python3.8/site-packages/sklearn/base.py\u001b[0m in \u001b[0;36m_validate_data\u001b[0;34m(self, X, y, reset, validate_separately, **check_params)\u001b[0m\n\u001b[1;32m    418\u001b[0m                     \u001b[0;34mf\"requires y to be passed, but the target y is None.\"\u001b[0m\u001b[0;34m\u001b[0m\u001b[0;34m\u001b[0m\u001b[0m\n\u001b[1;32m    419\u001b[0m                 )\n\u001b[0;32m--> 420\u001b[0;31m             \u001b[0mX\u001b[0m \u001b[0;34m=\u001b[0m \u001b[0mcheck_array\u001b[0m\u001b[0;34m(\u001b[0m\u001b[0mX\u001b[0m\u001b[0;34m,\u001b[0m \u001b[0;34m**\u001b[0m\u001b[0mcheck_params\u001b[0m\u001b[0;34m)\u001b[0m\u001b[0;34m\u001b[0m\u001b[0;34m\u001b[0m\u001b[0m\n\u001b[0m\u001b[1;32m    421\u001b[0m             \u001b[0mout\u001b[0m \u001b[0;34m=\u001b[0m \u001b[0mX\u001b[0m\u001b[0;34m\u001b[0m\u001b[0;34m\u001b[0m\u001b[0m\n\u001b[1;32m    422\u001b[0m         \u001b[0;32melse\u001b[0m\u001b[0;34m:\u001b[0m\u001b[0;34m\u001b[0m\u001b[0;34m\u001b[0m\u001b[0m\n",
      "\u001b[0;32m/usr/lib/python3.8/site-packages/sklearn/utils/validation.py\u001b[0m in \u001b[0;36minner_f\u001b[0;34m(*args, **kwargs)\u001b[0m\n\u001b[1;32m     71\u001b[0m                           FutureWarning)\n\u001b[1;32m     72\u001b[0m         \u001b[0mkwargs\u001b[0m\u001b[0;34m.\u001b[0m\u001b[0mupdate\u001b[0m\u001b[0;34m(\u001b[0m\u001b[0;34m{\u001b[0m\u001b[0mk\u001b[0m\u001b[0;34m:\u001b[0m \u001b[0marg\u001b[0m \u001b[0;32mfor\u001b[0m \u001b[0mk\u001b[0m\u001b[0;34m,\u001b[0m \u001b[0marg\u001b[0m \u001b[0;32min\u001b[0m \u001b[0mzip\u001b[0m\u001b[0;34m(\u001b[0m\u001b[0msig\u001b[0m\u001b[0;34m.\u001b[0m\u001b[0mparameters\u001b[0m\u001b[0;34m,\u001b[0m \u001b[0margs\u001b[0m\u001b[0;34m)\u001b[0m\u001b[0;34m}\u001b[0m\u001b[0;34m)\u001b[0m\u001b[0;34m\u001b[0m\u001b[0;34m\u001b[0m\u001b[0m\n\u001b[0;32m---> 73\u001b[0;31m         \u001b[0;32mreturn\u001b[0m \u001b[0mf\u001b[0m\u001b[0;34m(\u001b[0m\u001b[0;34m**\u001b[0m\u001b[0mkwargs\u001b[0m\u001b[0;34m)\u001b[0m\u001b[0;34m\u001b[0m\u001b[0;34m\u001b[0m\u001b[0m\n\u001b[0m\u001b[1;32m     74\u001b[0m     \u001b[0;32mreturn\u001b[0m \u001b[0minner_f\u001b[0m\u001b[0;34m\u001b[0m\u001b[0;34m\u001b[0m\u001b[0m\n\u001b[1;32m     75\u001b[0m \u001b[0;34m\u001b[0m\u001b[0m\n",
      "\u001b[0;32m/usr/lib/python3.8/site-packages/sklearn/utils/validation.py\u001b[0m in \u001b[0;36mcheck_array\u001b[0;34m(array, accept_sparse, accept_large_sparse, dtype, order, copy, force_all_finite, ensure_2d, allow_nd, ensure_min_samples, ensure_min_features, estimator)\u001b[0m\n\u001b[1;32m    597\u001b[0m                     \u001b[0marray\u001b[0m \u001b[0;34m=\u001b[0m \u001b[0marray\u001b[0m\u001b[0;34m.\u001b[0m\u001b[0mastype\u001b[0m\u001b[0;34m(\u001b[0m\u001b[0mdtype\u001b[0m\u001b[0;34m,\u001b[0m \u001b[0mcasting\u001b[0m\u001b[0;34m=\u001b[0m\u001b[0;34m\"unsafe\"\u001b[0m\u001b[0;34m,\u001b[0m \u001b[0mcopy\u001b[0m\u001b[0;34m=\u001b[0m\u001b[0;32mFalse\u001b[0m\u001b[0;34m)\u001b[0m\u001b[0;34m\u001b[0m\u001b[0;34m\u001b[0m\u001b[0m\n\u001b[1;32m    598\u001b[0m                 \u001b[0;32melse\u001b[0m\u001b[0;34m:\u001b[0m\u001b[0;34m\u001b[0m\u001b[0;34m\u001b[0m\u001b[0m\n\u001b[0;32m--> 599\u001b[0;31m                     \u001b[0marray\u001b[0m \u001b[0;34m=\u001b[0m \u001b[0mnp\u001b[0m\u001b[0;34m.\u001b[0m\u001b[0masarray\u001b[0m\u001b[0;34m(\u001b[0m\u001b[0marray\u001b[0m\u001b[0;34m,\u001b[0m \u001b[0morder\u001b[0m\u001b[0;34m=\u001b[0m\u001b[0morder\u001b[0m\u001b[0;34m,\u001b[0m \u001b[0mdtype\u001b[0m\u001b[0;34m=\u001b[0m\u001b[0mdtype\u001b[0m\u001b[0;34m)\u001b[0m\u001b[0;34m\u001b[0m\u001b[0;34m\u001b[0m\u001b[0m\n\u001b[0m\u001b[1;32m    600\u001b[0m             \u001b[0;32mexcept\u001b[0m \u001b[0mComplexWarning\u001b[0m\u001b[0;34m:\u001b[0m\u001b[0;34m\u001b[0m\u001b[0;34m\u001b[0m\u001b[0m\n\u001b[1;32m    601\u001b[0m                 raise ValueError(\"Complex data not supported\\n\"\n",
      "\u001b[0;32m/usr/lib/python3.8/site-packages/numpy/core/_asarray.py\u001b[0m in \u001b[0;36masarray\u001b[0;34m(a, dtype, order)\u001b[0m\n\u001b[1;32m     83\u001b[0m \u001b[0;34m\u001b[0m\u001b[0m\n\u001b[1;32m     84\u001b[0m     \"\"\"\n\u001b[0;32m---> 85\u001b[0;31m     \u001b[0;32mreturn\u001b[0m \u001b[0marray\u001b[0m\u001b[0;34m(\u001b[0m\u001b[0ma\u001b[0m\u001b[0;34m,\u001b[0m \u001b[0mdtype\u001b[0m\u001b[0;34m,\u001b[0m \u001b[0mcopy\u001b[0m\u001b[0;34m=\u001b[0m\u001b[0;32mFalse\u001b[0m\u001b[0;34m,\u001b[0m \u001b[0morder\u001b[0m\u001b[0;34m=\u001b[0m\u001b[0morder\u001b[0m\u001b[0;34m)\u001b[0m\u001b[0;34m\u001b[0m\u001b[0;34m\u001b[0m\u001b[0m\n\u001b[0m\u001b[1;32m     86\u001b[0m \u001b[0;34m\u001b[0m\u001b[0m\n\u001b[1;32m     87\u001b[0m \u001b[0;34m\u001b[0m\u001b[0m\n",
      "\u001b[0;31mValueError\u001b[0m: could not convert string to float: 'SA'"
     ]
    }
   ],
   "source": [
    "from sklearn.model_selection import train_test_split\n",
    "from sklearn.preprocessing import StandardScaler\n",
    "\n",
    "train, test = train_test_split(tbs_avgs, test_size=0.15)\n",
    "train_standardized, test_standardized = StandardScaler().fit_transform(train), StandardScaler().fit_transform(test)\n"
   ]
  },
  {
   "cell_type": "markdown",
   "metadata": {},
   "source": [
    "Here, we will investigate features to build a model. Include heatmap depicting correlation and several other plots."
   ]
  },
  {
   "cell_type": "markdown",
   "metadata": {},
   "source": [
    "### i. PCA Analysis"
   ]
  },
  {
   "cell_type": "code",
   "execution_count": 97,
   "metadata": {},
   "outputs": [
    {
     "data": {
      "text/plain": [
       "opptMin       709.919498\n",
       "teamMin       709.919498\n",
       "teamPTS       155.903343\n",
       "opptPTS       155.903343\n",
       "teamOrtg      155.218798\n",
       "opptOrtg      155.218798\n",
       "ptsAllow      151.629155\n",
       "teamDrtg      150.752819\n",
       "opptDrtg      150.752819\n",
       "opptSTL/TO    125.082323\n",
       "teamSTL/TO    125.082323\n",
       "opptFIC       119.044745\n",
       "teamFIC       119.044745\n",
       "opptFGA        94.086568\n",
       "teamFGA        94.086568\n",
       "opptFIC40      82.312495\n",
       "teamFIC40      82.312495\n",
       "opptDREB%      79.164859\n",
       "teamDREB%      76.194817\n",
       "team2PA        67.012119\n",
       "oppt2PA        67.012119\n",
       "teamASST%      59.896534\n",
       "opptASST%      59.896534\n",
       "opptTREB%      33.688092\n",
       "teamTREB%      33.688092\n",
       "dtype: float64"
      ]
     },
     "execution_count": 97,
     "metadata": {},
     "output_type": "execute_result"
    }
   ],
   "source": [
    "np.var(tbs_numbers).sort_values(ascending=False)[:25]"
   ]
  },
  {
   "cell_type": "code",
   "execution_count": 98,
   "metadata": {},
   "outputs": [],
   "source": [
    "# center the data on mean of 0 so we can do an SVD\n",
    "# then divide by the standard deviation to prevent high variance attributes from affecting PC's too much\n",
    "tbs_numbers = tbs_numbers - np.mean(tbs_numbers) # center\n",
    "tbs_numbers = np.divide(tbs_numbers, np.sqrt(np.var(tbs_numbers))) # scale"
   ]
  },
  {
   "cell_type": "code",
   "execution_count": 99,
   "metadata": {},
   "outputs": [],
   "source": [
    "# now do a singular value decomposition\n",
    "u, s, vt = np.linalg.svd(tbs_numbers, full_matrices=False)\n",
    "pc_matrix = tbs_numbers @ vt.T"
   ]
  },
  {
   "cell_type": "code",
   "execution_count": 100,
   "metadata": {},
   "outputs": [
    {
     "data": {
      "text/plain": [
       "(14702, 116)"
      ]
     },
     "execution_count": 100,
     "metadata": {},
     "output_type": "execute_result"
    }
   ],
   "source": [
    "pc_matrix.shape"
   ]
  },
  {
   "cell_type": "markdown",
   "metadata": {},
   "source": [
    "Try to show only the variance explained by the first, say, 20 principal components."
   ]
  },
  {
   "cell_type": "code",
   "execution_count": 101,
   "metadata": {},
   "outputs": [],
   "source": [
    "lst = []\n",
    "for i in range(20):\n",
    "    lst.append(s[i]**2 / (sum(s**2)))"
   ]
  },
  {
   "cell_type": "code",
   "execution_count": 102,
   "metadata": {
    "scrolled": true
   },
   "outputs": [
    {
     "data": {
      "text/plain": [
       "Text(0.5, 1.0, 'Scree Plot of Variance of PC #i')"
      ]
     },
     "execution_count": 102,
     "metadata": {},
     "output_type": "execute_result"
    },
    {
     "data": {
      "image/png": "[encoded data removed]",
      "text/plain": [
       "<Figure size 432x288 with 1 Axes>"
      ]
     },
     "metadata": {
      "needs_background": "light"
     },
     "output_type": "display_data"
    }
   ],
   "source": [
    "plt.plot(np.arange(1, 21), lst);\n",
    "plt.xticks(np.arange(1, 21), np.arange(1, 21));\n",
    "plt.xlabel('PC #');\n",
    "plt.ylabel('Variance Explained');\n",
    "plt.title('Scree Plot of Variance of PC #i')"
   ]
  },
  {
   "cell_type": "code",
   "execution_count": 103,
   "metadata": {},
   "outputs": [],
   "source": [
    "def plot_pc(col_names, vt, k):\n",
    "    plt.bar(col_names, vt[k, :], alpha=0.7)\n",
    "    plt.xticks(col_names, rotation=90);"
   ]
  },
  {
   "cell_type": "code",
   "execution_count": 104,
   "metadata": {},
   "outputs": [
    {
     "data": {
      "text/plain": [
       "Text(0.5, 1.0, 'Values of the 1st Principal Component Direction')"
      ]
     },
     "execution_count": 104,
     "metadata": {},
     "output_type": "execute_result"
    },
    {
     "data": {
      "image/png": "[encoded data removed]",
      "text/plain": [
       "<Figure size 1944x648 with 1 Axes>"
      ]
     },
     "metadata": {
      "needs_background": "light"
     },
     "output_type": "display_data"
    }
   ],
   "source": [
    "tbs_col_names = tbs_numbers.columns\n",
    "\n",
    "with plt.rc_context({\"figure.figsize\": (27, 9)}):\n",
    "    plot_pc(tbs_col_names, vt, 0);\n",
    "plt.title('Values of the 1st Principal Component Direction')"
   ]
  },
  {
   "cell_type": "code",
   "execution_count": 105,
   "metadata": {},
   "outputs": [
    {
     "data": {
      "text/plain": [
       "(14702, 116)"
      ]
     },
     "execution_count": 105,
     "metadata": {},
     "output_type": "execute_result"
    }
   ],
   "source": [
    "pc_matrix.shape"
   ]
  },
  {
   "cell_type": "markdown",
   "metadata": {},
   "source": [
    "### ii. Investigating Correlation"
   ]
  },
  {
   "cell_type": "markdown",
   "metadata": {},
   "source": [
    "## MUST USE ORIGINAL DATA FOR THIS, HAVING AVERAGES MESSES IT UP"
   ]
  },
  {
   "cell_type": "code",
   "execution_count": 106,
   "metadata": {},
   "outputs": [],
   "source": [
    "columns_of_interest = ['teamFGA', 'teamORB', 'teamSTL', 'teamOrtg', 'teamTO%', 'teamDrtg', 'teamDRB', 'teamBLKR']"
   ]
  },
  {
   "cell_type": "code",
   "execution_count": 126,
   "metadata": {
    "scrolled": true
   },
   "outputs": [
    {
     "data": {
      "text/plain": [
       "Text(0.5, 1, 'Correlation between Various NBA Statistics')"
      ]
     },
     "execution_count": 126,
     "metadata": {},
     "output_type": "execute_result"
    },
    {
     "data": {
      "image/png": "[encoded data removed]",
      "text/plain": [
       "<Figure size 432x288 with 2 Axes>"
      ]
     },
     "metadata": {
      "needs_background": "light"
     },
     "output_type": "display_data"
    }
   ],
   "source": [
    "team_box_score_simple = train[columns_of_interest]\n",
    "sns.heatmap(team_box_score_simple.corr())\n",
    "plt.title('Correlation between Various NBA Statistics')"
   ]
  },
  {
   "cell_type": "code",
   "execution_count": 127,
   "metadata": {
    "scrolled": true
   },
   "outputs": [
    {
     "data": {
      "text/plain": [
       "<matplotlib.axes._subplots.AxesSubplot at 0x7fc568b82e80>"
      ]
     },
     "execution_count": 127,
     "metadata": {},
     "output_type": "execute_result"
    },
    {
     "data": {
      "image/png": "[encoded data removed]",
      "text/plain": [
       "<Figure size 432x288 with 1 Axes>"
      ]
     },
     "metadata": {
      "needs_background": "light"
     },
     "output_type": "display_data"
    }
   ],
   "source": [
    "sns.scatterplot(x='teamORB', y='teamFGA', data=team_box_score_simple)"
   ]
  },
  {
   "cell_type": "code",
   "execution_count": 128,
   "metadata": {},
   "outputs": [
    {
     "data": {
      "text/plain": [
       "<matplotlib.axes._subplots.AxesSubplot at 0x7fc568b43550>"
      ]
     },
     "execution_count": 128,
     "metadata": {},
     "output_type": "execute_result"
    },
    {
     "data": {
      "image/png": "[encoded data removed]",
      "text/plain": [
       "<Figure size 432x288 with 1 Axes>"
      ]
     },
     "metadata": {
      "needs_background": "light"
     },
     "output_type": "display_data"
    }
   ],
   "source": [
    "sns.scatterplot(x='teamTO%', y='teamFGA', data=team_box_score_simple)"
   ]
  },
  {
   "cell_type": "code",
   "execution_count": 129,
   "metadata": {},
   "outputs": [
    {
     "data": {
      "image/png": "[encoded data removed]",
      "text/plain": [
       "<Figure size 432x288 with 2 Axes>"
      ]
     },
     "metadata": {
      "needs_background": "light"
     },
     "output_type": "display_data"
    }
   ],
   "source": [
    "plt.hexbin(x=team_box_score_simple['teamTO%'], y=team_box_score_simple['teamFGA'], bins='log')\n",
    "plt.ylim(60, 110)\n",
    "plt.colorbar().set_label('log10(N)')\n",
    "plt.xlabel('Team TO%')\n",
    "plt.ylabel('Team FGA')\n",
    "plt.title('Team FGA vs TO%')\n",
    "plt.show()"
   ]
  },
  {
   "cell_type": "code",
   "execution_count": null,
   "metadata": {},
   "outputs": [],
   "source": []
  },
  {
   "cell_type": "markdown",
   "metadata": {},
   "source": []
  },
  {
   "cell_type": "markdown",
   "metadata": {},
   "source": [
    "### iii. Analyzing Categorical Data"
   ]
  },
  {
   "cell_type": "code",
   "execution_count": 111,
   "metadata": {},
   "outputs": [],
   "source": [
    "df = get_nth_season(team_box_score, 2)\n",
    "home_games = df[df['teamLoc'] == 'Home'].groupby('gmDate').mean()\n",
    "away_games = df[df['teamLoc'] == 'Away'].groupby('gmDate').mean()\n",
    "\n",
    "home_games['teamRslt'] = home_games.teamRslt.expanding().mean()\n",
    "away_games['teamRslt'] = away_games.teamRslt.expanding().mean()\n",
    "\n",
    "# join em back together\n",
    "home_games = home_games.assign(teamLoc='Home')\n",
    "away_games = away_games.assign(teamLoc='Away')\n",
    "\n",
    "df = pd.concat([home_games, away_games])\n",
    "df = df.sort_values(by='gmDate')\n",
    "df = df.reset_index()"
   ]
  },
  {
   "cell_type": "code",
   "execution_count": 112,
   "metadata": {},
   "outputs": [
    {
     "data": {
      "text/plain": [
       "<matplotlib.axes._subplots.AxesSubplot at 0x7fc56ea70b80>"
      ]
     },
     "execution_count": 112,
     "metadata": {},
     "output_type": "execute_result"
    },
    {
     "data": {
      "image/png": "[encoded data removed]",
      "text/plain": [
       "<Figure size 432x288 with 1 Axes>"
      ]
     },
     "metadata": {
      "needs_background": "light"
     },
     "output_type": "display_data"
    }
   ],
   "source": [
    "sns.lineplot(x=\"gmDate\", y=\"teamRslt\", hue=\"teamLoc\", data=df)"
   ]
  },
  {
   "cell_type": "markdown",
   "metadata": {},
   "source": [
    "## VII: Inference and Prediction"
   ]
  },
  {
   "cell_type": "markdown",
   "metadata": {},
   "source": [
    "This is where we will build a model. Make sure to have training, val (so we can say we did cross validation), and test data. We have 6 seasons total; we can make 4 of them and the first 30 games of the 5th season training data, remainder of the 5th season val data, and the 6th season test data (or something, may be better to not make beginning of season data test as we'll prolly fail a lot of initial games just because all stats would be 0)."
   ]
  },
  {
   "cell_type": "code",
   "execution_count": null,
   "metadata": {},
   "outputs": [],
   "source": []
  },
  {
   "cell_type": "code",
   "execution_count": null,
   "metadata": {},
   "outputs": [],
   "source": []
  }
 ],
 "metadata": {
  "kernelspec": {
   "display_name": "Python 3",
   "language": "python",
   "name": "python3"
  },
  "language_info": {
   "codemirror_mode": {
    "name": "ipython",
    "version": 3
   },
   "file_extension": ".py",
   "mimetype": "text/x-python",
   "name": "python",
   "nbconvert_exporter": "python",
   "pygments_lexer": "ipython3",
   "version": "3.8.2"
  }
 },
 "nbformat": 4,
 "nbformat_minor": 4
}
